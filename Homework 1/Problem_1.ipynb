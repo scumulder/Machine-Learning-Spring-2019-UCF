{
  "nbformat": 4,
  "nbformat_minor": 0,
  "metadata": {
    "colab": {
      "name": "Problem 1.ipynb",
      "version": "0.3.2",
      "provenance": [],
      "collapsed_sections": [],
      "include_colab_link": true
    },
    "kernelspec": {
      "name": "python3",
      "display_name": "Python 3"
    }
  },
  "cells": [
    {
      "cell_type": "markdown",
      "metadata": {
        "id": "view-in-github",
        "colab_type": "text"
      },
      "source": [
        "<a href=\"https://colab.research.google.com/github/scumulder/Machine-Learning-Spring-2019-UCF/blob/master/Homework%201/Problem_1.ipynb\" target=\"_parent\"><img src=\"https://colab.research.google.com/assets/colab-badge.svg\" alt=\"Open In Colab\"/></a>"
      ]
    },
    {
      "metadata": {
        "id": "P6OmEV-zESzm",
        "colab_type": "code",
        "colab": {}
      },
      "cell_type": "code",
      "source": [
        "import numpy as np\n",
        "import matplotlib.pyplot as plt\n",
        "from tqdm import tqdm_notebook as tqdm"
      ],
      "execution_count": 0,
      "outputs": []
    },
    {
      "metadata": {
        "id": "D5-wZVvvevdE",
        "colab_type": "text"
      },
      "cell_type": "markdown",
      "source": [
        "**Load the image data:**"
      ]
    },
    {
      "metadata": {
        "id": "eY74u7DZdjnA",
        "colab_type": "code",
        "colab": {}
      },
      "cell_type": "code",
      "source": [
        "from keras.datasets import mnist\n",
        "\n",
        "(train_images_original, train_labels_original), (test_images_original, test_labels_original) = mnist.load_data()"
      ],
      "execution_count": 0,
      "outputs": []
    },
    {
      "metadata": {
        "id": "3_uV1cChe2ex",
        "colab_type": "text"
      },
      "cell_type": "markdown",
      "source": [
        "**Prepare the image data:**"
      ]
    },
    {
      "metadata": {
        "id": "uOS2q3GGe5PK",
        "colab_type": "code",
        "colab": {}
      },
      "cell_type": "code",
      "source": [
        "train_images = train_images_original.reshape((60000, 28 * 28))\n",
        "train_images = train_images.astype('float32') / 255\n",
        "\n",
        "test_images = test_images_original.reshape((10000, 28 * 28))\n",
        "test_images = test_images.astype('float32') / 255"
      ],
      "execution_count": 0,
      "outputs": []
    },
    {
      "metadata": {
        "id": "wK5HTBEaeUI3",
        "colab_type": "text"
      },
      "cell_type": "markdown",
      "source": [
        "**Prepare the labels:**"
      ]
    },
    {
      "metadata": {
        "id": "NHCMOnPFdyHl",
        "colab_type": "code",
        "colab": {}
      },
      "cell_type": "code",
      "source": [
        "from keras.utils import to_categorical\n",
        "\n",
        "train_labels = to_categorical(train_labels_original)\n",
        "test_labels = to_categorical(test_labels_original)"
      ],
      "execution_count": 0,
      "outputs": []
    },
    {
      "metadata": {
        "id": "_VFNU8ueFvYo",
        "colab_type": "text"
      },
      "cell_type": "markdown",
      "source": [
        "**Sigmoid Function:**"
      ]
    },
    {
      "metadata": {
        "id": "rhws_claF0kF",
        "colab_type": "code",
        "colab": {}
      },
      "cell_type": "code",
      "source": [
        "def sigmoid(x):\n",
        "  return 1.0 / (1.0 + np.exp(-x))"
      ],
      "execution_count": 0,
      "outputs": []
    },
    {
      "metadata": {
        "id": "uT8525pKGFtd",
        "colab_type": "text"
      },
      "cell_type": "markdown",
      "source": [
        "**Activation Function:**"
      ]
    },
    {
      "metadata": {
        "id": "oy8KgjJcGFY4",
        "colab_type": "code",
        "colab": {}
      },
      "cell_type": "code",
      "source": [
        "def activation(feature, weight, bias):\n",
        "  z = np.dot(weight.T, feature) + bias\n",
        "  activation = sigmoid(z)\n",
        "  return activation"
      ],
      "execution_count": 0,
      "outputs": []
    }
  ]
}
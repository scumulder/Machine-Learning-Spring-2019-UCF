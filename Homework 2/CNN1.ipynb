{
  "nbformat": 4,
  "nbformat_minor": 0,
  "metadata": {
    "colab": {
      "name": "CNN1.ipynb",
      "version": "0.3.2",
      "provenance": [],
      "collapsed_sections": [],
      "include_colab_link": true
    },
    "kernelspec": {
      "name": "python3",
      "display_name": "Python 3"
    },
    "accelerator": "GPU"
  },
  "cells": [
    {
      "cell_type": "markdown",
      "metadata": {
        "id": "view-in-github",
        "colab_type": "text"
      },
      "source": [
        "<a href=\"https://colab.research.google.com/github/scumulder/Machine-Learning-Spring-2019-UCF/blob/master/Homework%202/CNN1.ipynb\" target=\"_parent\"><img src=\"https://colab.research.google.com/assets/colab-badge.svg\" alt=\"Open In Colab\"/></a>"
      ]
    },
    {
      "metadata": {
        "colab_type": "text",
        "id": "10NAEhYNqWsf"
      },
      "cell_type": "markdown",
      "source": [
        "**About this CNN:**\n",
        "\n",
        "\n",
        "---\n",
        "\n",
        "\n",
        "\n",
        "\n",
        "---\n",
        "\n",
        "\n"
      ]
    },
    {
      "metadata": {
        "id": "z2OyH0McfQrk",
        "colab_type": "text"
      },
      "cell_type": "markdown",
      "source": [
        "**Loading the CIFAR10 data set:**\n"
      ]
    },
    {
      "metadata": {
        "id": "ZTLW9Fr8abTF",
        "colab_type": "code",
        "outputId": "30b2ed07-7469-40b3-dae6-f67b975b470a",
        "colab": {
          "base_uri": "https://localhost:8080/",
          "height": 72
        }
      },
      "cell_type": "code",
      "source": [
        "from keras.datasets import cifar10\n",
        "(train_images_original, train_labels_original), (test_images, test_labels) = cifar10.load_data()\n",
        "\n",
        "#X_train = train_images\n",
        "#Y_train = train_labels\n",
        "\n",
        "#X_test = test_images\n",
        "#Y_test = test_labels"
      ],
      "execution_count": 0,
      "outputs": [
        {
          "output_type": "stream",
          "text": [
            "Using TensorFlow backend.\n"
          ],
          "name": "stderr"
        },
        {
          "output_type": "stream",
          "text": [
            "Downloading data from https://www.cs.toronto.edu/~kriz/cifar-10-python.tar.gz\n",
            "170500096/170498071 [==============================] - 31s 0us/step\n"
          ],
          "name": "stdout"
        }
      ]
    },
    {
      "metadata": {
        "id": "tjpIvK4wt1i_",
        "colab_type": "text"
      },
      "cell_type": "markdown",
      "source": [
        "**Split Training Data into Training Set and Validation Set:**\n",
        "\n",
        "20% of the training data will be used to form the validation set and the remaining 80% will be the new training set"
      ]
    },
    {
      "metadata": {
        "id": "AyJXB1ULuBOl",
        "colab_type": "code",
        "outputId": "bfece384-9604-4ab0-f9e1-59e02bd5a77f",
        "colab": {
          "base_uri": "https://localhost:8080/",
          "height": 54
        }
      },
      "cell_type": "code",
      "source": [
        "import sklearn.model_selection\n",
        "\n",
        "train_images, val_images, train_labels, val_labels = sklearn.model_selection.train_test_split(train_images_original, train_labels_original, \n",
        "                                                                                              test_size=0.20, random_state=42)\n",
        "print('Training image shape:', train_images.shape)\n",
        "print('Validation image shape:', val_images.shape)"
      ],
      "execution_count": 0,
      "outputs": [
        {
          "output_type": "stream",
          "text": [
            "Training image shape: (40000, 32, 32, 3)\n",
            "Validation image shape: (10000, 32, 32, 3)\n"
          ],
          "name": "stdout"
        }
      ]
    },
    {
      "metadata": {
        "id": "UbVjM9Axko4E",
        "colab_type": "text"
      },
      "cell_type": "markdown",
      "source": [
        "**Prepare the training and validation image data:**"
      ]
    },
    {
      "metadata": {
        "id": "mLVSOteyj_2h",
        "colab_type": "code",
        "colab": {}
      },
      "cell_type": "code",
      "source": [
        "train_images = train_images.astype('float32')/ 255\n",
        "val_images = val_images.astype('float32')/ 255"
      ],
      "execution_count": 0,
      "outputs": []
    },
    {
      "metadata": {
        "id": "FFOxljsnhUSl",
        "colab_type": "text"
      },
      "cell_type": "markdown",
      "source": [
        "**Prepare the labels:**\n",
        "\n",
        "    airplane : 0     automobile : 1    bird : 2    cat : 3          deer : 4       dog : 5    frog : 6         horse : 7         ship : 8          truck : 9"
      ]
    },
    {
      "metadata": {
        "id": "Bpc_TIJDhTjd",
        "colab_type": "code",
        "colab": {}
      },
      "cell_type": "code",
      "source": [
        "import numpy as np\n",
        "from keras.utils.np_utils import to_categorical   \n",
        "\n",
        "train_labels = to_categorical(train_labels)\n",
        "val_labels = to_categorical(val_labels)"
      ],
      "execution_count": 0,
      "outputs": []
    },
    {
      "metadata": {
        "id": "XYiv_siQGvPR",
        "colab_type": "text"
      },
      "cell_type": "markdown",
      "source": [
        "**Convolutional Neural Network Architecture:**"
      ]
    },
    {
      "metadata": {
        "colab_type": "code",
        "id": "LbLzQ7E903zP",
        "outputId": "5cbb5e09-33ae-4de2-d77b-722d0e704d24",
        "colab": {
          "base_uri": "https://localhost:8080/",
          "height": 476
        }
      },
      "cell_type": "code",
      "source": [
        "from keras import models\n",
        "from keras import layers\n",
        "\n",
        "batch_size = 256\n",
        "num_classes = 10\n",
        "epochs = 25\n",
        "\n",
        "network = models.Sequential()\n",
        "\n",
        "network.add(layers.Conv2D(32, (3, 3), activation='relu', input_shape=(32, 32, 3)))\n",
        "network.add(layers.Conv2D(64, (3, 3), activation='relu'))\n",
        "network.add(layers.MaxPooling2D(pool_size = (2, 2)))\n",
        "\n",
        "network.add(layers.Conv2D(128, (3, 3), activation='relu'))\n",
        "network.add(layers.MaxPooling2D(pool_size = (2, 2)))\n",
        "\n",
        "#network.add(layers.Dropout(0.50)) #0.25 initially\n",
        "network.add(layers.Flatten())\n",
        "\n",
        "network.add(layers.Dense(128, activation='relu'))\n",
        "network.add(layers.Dropout(0.50))\n",
        "network.add(layers.Dense(num_classes, activation='softmax'))\n",
        "network.summary()"
      ],
      "execution_count": 0,
      "outputs": [
        {
          "output_type": "stream",
          "text": [
            "_________________________________________________________________\n",
            "Layer (type)                 Output Shape              Param #   \n",
            "=================================================================\n",
            "conv2d_3 (Conv2D)            (None, 30, 30, 32)        896       \n",
            "_________________________________________________________________\n",
            "conv2d_4 (Conv2D)            (None, 28, 28, 64)        18496     \n",
            "_________________________________________________________________\n",
            "max_pooling2d_2 (MaxPooling2 (None, 14, 14, 64)        0         \n",
            "_________________________________________________________________\n",
            "conv2d_5 (Conv2D)            (None, 12, 12, 128)       73856     \n",
            "_________________________________________________________________\n",
            "max_pooling2d_3 (MaxPooling2 (None, 6, 6, 128)         0         \n",
            "_________________________________________________________________\n",
            "flatten_2 (Flatten)          (None, 4608)              0         \n",
            "_________________________________________________________________\n",
            "dense_3 (Dense)              (None, 128)               589952    \n",
            "_________________________________________________________________\n",
            "dropout_3 (Dropout)          (None, 128)               0         \n",
            "_________________________________________________________________\n",
            "dense_4 (Dense)              (None, 10)                1290      \n",
            "=================================================================\n",
            "Total params: 684,490\n",
            "Trainable params: 684,490\n",
            "Non-trainable params: 0\n",
            "_________________________________________________________________\n"
          ],
          "name": "stdout"
        }
      ]
    },
    {
      "metadata": {
        "id": "RKQY8PG9hwYA",
        "colab_type": "text"
      },
      "cell_type": "markdown",
      "source": [
        "**Initialize the Image Data Generator for Data Augmentation:**"
      ]
    },
    {
      "metadata": {
        "id": "lpc2Dr1khwGb",
        "colab_type": "code",
        "colab": {}
      },
      "cell_type": "code",
      "source": [
        "from keras.preprocessing.image import ImageDataGenerator\n",
        "datagen = ImageDataGenerator( rotation_range=15,\n",
        "                 width_shift_range=0.1, height_shift_range=0.1,\n",
        "                 horizontal_flip=True)\n",
        "datagen.fit(train_images)"
      ],
      "execution_count": 0,
      "outputs": []
    },
    {
      "metadata": {
        "id": "-n4OxnBsLVfY",
        "colab_type": "text"
      },
      "cell_type": "markdown",
      "source": [
        "**Compile the network:**"
      ]
    },
    {
      "metadata": {
        "id": "mpfOvohQLPL_",
        "colab_type": "code",
        "colab": {}
      },
      "cell_type": "code",
      "source": [
        "network.compile(optimizer='rmsprop', loss='categorical_crossentropy', metrics=['accuracy'])"
      ],
      "execution_count": 0,
      "outputs": []
    },
    {
      "metadata": {
        "id": "r9PRoeoTzDCL",
        "colab_type": "text"
      },
      "cell_type": "markdown",
      "source": [
        "**Train the network:**"
      ]
    },
    {
      "metadata": {
        "id": "ybmteRROzGJH",
        "colab_type": "code",
        "outputId": "82637282-9249-4e10-a5a7-ca56c4a85328",
        "colab": {
          "base_uri": "https://localhost:8080/",
          "height": 954
        }
      },
      "cell_type": "code",
      "source": [
        "network.fit_generator(datagen.flow(train_images, train_labels, batch_size=batch_size),steps_per_epoch=100, epochs=epochs, verbose=1)"
      ],
      "execution_count": 0,
      "outputs": [
        {
          "output_type": "stream",
          "text": [
            "Epoch 1/25\n",
            "100/100 [==============================] - 13s 134ms/step - loss: 2.0693 - acc: 0.2421\n",
            "Epoch 2/25\n",
            "100/100 [==============================] - 14s 138ms/step - loss: 1.7953 - acc: 0.3561\n",
            "Epoch 3/25\n",
            "100/100 [==============================] - 14s 138ms/step - loss: 1.6517 - acc: 0.4101\n",
            "Epoch 4/25\n",
            "100/100 [==============================] - 14s 137ms/step - loss: 1.5515 - acc: 0.4480\n",
            "Epoch 5/25\n",
            "100/100 [==============================] - 14s 138ms/step - loss: 1.4445 - acc: 0.4849\n",
            "Epoch 6/25\n",
            "100/100 [==============================] - 14s 137ms/step - loss: 1.3871 - acc: 0.5062\n",
            "Epoch 7/25\n",
            "100/100 [==============================] - 14s 138ms/step - loss: 1.3334 - acc: 0.5304\n",
            "Epoch 8/25\n",
            "100/100 [==============================] - 14s 138ms/step - loss: 1.2514 - acc: 0.5632\n",
            "Epoch 9/25\n",
            "100/100 [==============================] - 14s 137ms/step - loss: 1.2310 - acc: 0.5669\n",
            "Epoch 10/25\n",
            "100/100 [==============================] - 14s 138ms/step - loss: 1.1797 - acc: 0.5861\n",
            "Epoch 11/25\n",
            "100/100 [==============================] - 14s 137ms/step - loss: 1.1564 - acc: 0.5958\n",
            "Epoch 12/25\n",
            "100/100 [==============================] - 14s 139ms/step - loss: 1.1246 - acc: 0.6087\n",
            "Epoch 13/25\n",
            "100/100 [==============================] - 14s 138ms/step - loss: 1.0949 - acc: 0.6154\n",
            "Epoch 14/25\n",
            "100/100 [==============================] - 14s 139ms/step - loss: 1.0679 - acc: 0.6293\n",
            "Epoch 15/25\n",
            "100/100 [==============================] - 14s 138ms/step - loss: 1.0465 - acc: 0.6330\n",
            "Epoch 16/25\n",
            "100/100 [==============================] - 14s 138ms/step - loss: 1.0254 - acc: 0.6443\n",
            "Epoch 17/25\n",
            "100/100 [==============================] - 14s 139ms/step - loss: 1.0146 - acc: 0.6497\n",
            "Epoch 18/25\n",
            "100/100 [==============================] - 14s 138ms/step - loss: 0.9812 - acc: 0.6586\n",
            "Epoch 19/25\n",
            "100/100 [==============================] - 14s 138ms/step - loss: 0.9750 - acc: 0.6655\n",
            "Epoch 20/25\n",
            "100/100 [==============================] - 14s 138ms/step - loss: 0.9481 - acc: 0.6713\n",
            "Epoch 21/25\n",
            "100/100 [==============================] - 14s 137ms/step - loss: 0.9562 - acc: 0.6696\n",
            "Epoch 22/25\n",
            "100/100 [==============================] - 14s 136ms/step - loss: 0.9320 - acc: 0.6797\n",
            "Epoch 23/25\n",
            "100/100 [==============================] - 14s 135ms/step - loss: 0.9085 - acc: 0.6880\n",
            "Epoch 24/25\n",
            "100/100 [==============================] - 13s 134ms/step - loss: 0.9145 - acc: 0.6822\n",
            "Epoch 25/25\n",
            "100/100 [==============================] - 13s 135ms/step - loss: 0.8892 - acc: 0.6960\n"
          ],
          "name": "stdout"
        },
        {
          "output_type": "execute_result",
          "data": {
            "text/plain": [
              "<keras.callbacks.History at 0x7fba69887a90>"
            ]
          },
          "metadata": {
            "tags": []
          },
          "execution_count": 16
        }
      ]
    },
    {
      "metadata": {
        "id": "ZRWBloclzFq5",
        "colab_type": "text"
      },
      "cell_type": "markdown",
      "source": [
        "**Evaluate the network on the Validation Set:**"
      ]
    },
    {
      "metadata": {
        "id": "zcBNY8XlzffY",
        "colab_type": "code",
        "outputId": "2f8c8f6e-a6b7-4909-9f3b-bb93989e7668",
        "colab": {
          "base_uri": "https://localhost:8080/",
          "height": 54
        }
      },
      "cell_type": "code",
      "source": [
        "score = network.evaluate(val_images, val_labels, verbose=0)\n",
        "print('Validation loss:', score[0])\n",
        "print('Validation accuracy:', score[1]*100,\"%\")"
      ],
      "execution_count": 0,
      "outputs": [
        {
          "output_type": "stream",
          "text": [
            "Validation loss: 0.7746413391113282\n",
            "Validation accuracy: 73.11 %\n"
          ],
          "name": "stdout"
        }
      ]
    }
  ]
}
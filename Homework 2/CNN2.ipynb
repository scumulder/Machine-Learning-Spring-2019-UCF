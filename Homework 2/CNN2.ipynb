{
  "nbformat": 4,
  "nbformat_minor": 0,
  "metadata": {
    "colab": {
      "name": "CNN2.ipynb",
      "version": "0.3.2",
      "provenance": [],
      "collapsed_sections": [],
      "include_colab_link": true
    },
    "kernelspec": {
      "name": "python3",
      "display_name": "Python 3"
    },
    "accelerator": "GPU"
  },
  "cells": [
    {
      "cell_type": "markdown",
      "metadata": {
        "id": "view-in-github",
        "colab_type": "text"
      },
      "source": [
        "<a href=\"https://colab.research.google.com/github/scumulder/Machine-Learning-Spring-2019-UCF/blob/master/Homework%202/CNN2.ipynb\" target=\"_parent\"><img src=\"https://colab.research.google.com/assets/colab-badge.svg\" alt=\"Open In Colab\"/></a>"
      ]
    },
    {
      "metadata": {
        "id": "wFRSf6zNx6ag",
        "colab_type": "text"
      },
      "cell_type": "markdown",
      "source": [
        "**About this CNN:**\n",
        "\n",
        "\n",
        "---\n",
        "*   No Data Augmentation\n",
        "*   Includes Dropout\n",
        "*  {Conv2D + ReLU} -> {Conv2D + ReLU} -> maxpool -> {Conv2D + ReLU} -> maxpool -> Fully Connected Layers\n",
        "*   Evaluated on validation set\n",
        "\n",
        "\n",
        "---\n"
      ]
    },
    {
      "metadata": {
        "id": "z2OyH0McfQrk",
        "colab_type": "text"
      },
      "cell_type": "markdown",
      "source": [
        "**Loading the CIFAR10 data set:**\n"
      ]
    },
    {
      "metadata": {
        "id": "ZTLW9Fr8abTF",
        "colab_type": "code",
        "outputId": "34d1333b-250f-4dcc-9ae8-d9963b12eb81",
        "colab": {
          "base_uri": "https://localhost:8080/",
          "height": 35
        }
      },
      "cell_type": "code",
      "source": [
        "from keras.datasets import cifar10\n",
        "(train_images_original, train_labels_original), (test_images, test_labels) = cifar10.load_data()\n",
        "\n",
        "#X_train = train_images\n",
        "#Y_train = train_labels\n",
        "\n",
        "#X_test = test_images\n",
        "#Y_test = test_labels"
      ],
      "execution_count": 1,
      "outputs": [
        {
          "output_type": "stream",
          "text": [
            "Using TensorFlow backend.\n"
          ],
          "name": "stderr"
        }
      ]
    },
    {
      "metadata": {
        "id": "tjpIvK4wt1i_",
        "colab_type": "text"
      },
      "cell_type": "markdown",
      "source": [
        "**Split Training Data into Training Set and Validation Set:**\n",
        "\n",
        "20% of the training data will be used to form the validation set and the remaining 80% will be the new training set"
      ]
    },
    {
      "metadata": {
        "id": "AyJXB1ULuBOl",
        "colab_type": "code",
        "outputId": "03561720-277f-44be-e374-496752f5ab62",
        "colab": {
          "base_uri": "https://localhost:8080/",
          "height": 54
        }
      },
      "cell_type": "code",
      "source": [
        "import sklearn.model_selection\n",
        "\n",
        "train_images, val_images, train_labels, val_labels = sklearn.model_selection.train_test_split(train_images_original, train_labels_original, \n",
        "                                                                                              test_size=0.20, random_state=42)\n",
        "print('Training image shape:', train_images.shape)\n",
        "print('Validation image shape:', val_images.shape)"
      ],
      "execution_count": 2,
      "outputs": [
        {
          "output_type": "stream",
          "text": [
            "Training image shape: (40000, 32, 32, 3)\n",
            "Validation image shape: (10000, 32, 32, 3)\n"
          ],
          "name": "stdout"
        }
      ]
    },
    {
      "metadata": {
        "id": "UbVjM9Axko4E",
        "colab_type": "text"
      },
      "cell_type": "markdown",
      "source": [
        "**Prepare the training and validation image data:**"
      ]
    },
    {
      "metadata": {
        "id": "mLVSOteyj_2h",
        "colab_type": "code",
        "colab": {}
      },
      "cell_type": "code",
      "source": [
        "train_images = train_images.astype('float32')/ 255\n",
        "val_images = val_images.astype('float32')/ 255"
      ],
      "execution_count": 0,
      "outputs": []
    },
    {
      "metadata": {
        "id": "FFOxljsnhUSl",
        "colab_type": "text"
      },
      "cell_type": "markdown",
      "source": [
        "**Prepare the labels:**\n",
        "\n",
        "    airplane : 0     automobile : 1    bird : 2    cat : 3          deer : 4       dog : 5    frog : 6         horse : 7         ship : 8          truck : 9"
      ]
    },
    {
      "metadata": {
        "id": "Bpc_TIJDhTjd",
        "colab_type": "code",
        "colab": {}
      },
      "cell_type": "code",
      "source": [
        "import numpy as np\n",
        "from keras.utils.np_utils import to_categorical   \n",
        "\n",
        "train_labels = to_categorical(train_labels)\n",
        "val_labels = to_categorical(val_labels)"
      ],
      "execution_count": 0,
      "outputs": []
    },
    {
      "metadata": {
        "id": "XYiv_siQGvPR",
        "colab_type": "text"
      },
      "cell_type": "markdown",
      "source": [
        "**Convolutional Neural Network Architecture:**"
      ]
    },
    {
      "metadata": {
        "colab_type": "code",
        "id": "LbLzQ7E903zP",
        "outputId": "4329c332-b9ad-4ab5-fe5b-0b9cb1dec5bd",
        "colab": {
          "base_uri": "https://localhost:8080/",
          "height": 439
        }
      },
      "cell_type": "code",
      "source": [
        "from keras import models\n",
        "from keras import layers\n",
        "\n",
        "batch_size = 256\n",
        "num_classes = 10\n",
        "epochs = 25\n",
        "\n",
        "network = models.Sequential()\n",
        "\n",
        "network.add(layers.Conv2D(32, (3, 3), activation='relu', input_shape=(32, 32, 3)))\n",
        "network.add(layers.Conv2D(64, (3, 3), activation='relu'))\n",
        "network.add(layers.MaxPooling2D(pool_size = (2, 2)))\n",
        "\n",
        "network.add(layers.Conv2D(128, (3, 3), activation='relu'))\n",
        "network.add(layers.MaxPooling2D(pool_size = (2, 2)))\n",
        "network.add(layers.Dropout(0.25))\n",
        "\n",
        "network.add(layers.Flatten())\n",
        "network.add(layers.Dense(num_classes, activation='softmax'))\n",
        "network.summary()"
      ],
      "execution_count": 8,
      "outputs": [
        {
          "output_type": "stream",
          "text": [
            "_________________________________________________________________\n",
            "Layer (type)                 Output Shape              Param #   \n",
            "=================================================================\n",
            "conv2d_5 (Conv2D)            (None, 30, 30, 32)        896       \n",
            "_________________________________________________________________\n",
            "conv2d_6 (Conv2D)            (None, 28, 28, 64)        18496     \n",
            "_________________________________________________________________\n",
            "max_pooling2d_3 (MaxPooling2 (None, 14, 14, 64)        0         \n",
            "_________________________________________________________________\n",
            "conv2d_7 (Conv2D)            (None, 12, 12, 128)       73856     \n",
            "_________________________________________________________________\n",
            "max_pooling2d_4 (MaxPooling2 (None, 6, 6, 128)         0         \n",
            "_________________________________________________________________\n",
            "dropout_3 (Dropout)          (None, 6, 6, 128)         0         \n",
            "_________________________________________________________________\n",
            "flatten_2 (Flatten)          (None, 4608)              0         \n",
            "_________________________________________________________________\n",
            "dense_3 (Dense)              (None, 10)                46090     \n",
            "=================================================================\n",
            "Total params: 139,338\n",
            "Trainable params: 139,338\n",
            "Non-trainable params: 0\n",
            "_________________________________________________________________\n"
          ],
          "name": "stdout"
        }
      ]
    },
    {
      "metadata": {
        "id": "-n4OxnBsLVfY",
        "colab_type": "text"
      },
      "cell_type": "markdown",
      "source": [
        "**Compile the network:**"
      ]
    },
    {
      "metadata": {
        "id": "mpfOvohQLPL_",
        "colab_type": "code",
        "colab": {}
      },
      "cell_type": "code",
      "source": [
        "network.compile(optimizer='rmsprop', loss='categorical_crossentropy', metrics=['accuracy'])"
      ],
      "execution_count": 0,
      "outputs": []
    },
    {
      "metadata": {
        "id": "r9PRoeoTzDCL",
        "colab_type": "text"
      },
      "cell_type": "markdown",
      "source": [
        "**Train the network:**"
      ]
    },
    {
      "metadata": {
        "id": "ybmteRROzGJH",
        "colab_type": "code",
        "outputId": "b92b5bfb-edcf-4ea9-bf31-b5beae0f6e18",
        "colab": {
          "base_uri": "https://localhost:8080/",
          "height": 954
        }
      },
      "cell_type": "code",
      "source": [
        "network.fit(train_images, train_labels, batch_size=batch_size, epochs=epochs, verbose=1)"
      ],
      "execution_count": 10,
      "outputs": [
        {
          "output_type": "stream",
          "text": [
            "Epoch 1/25\n",
            "40000/40000 [==============================] - 6s 155us/step - loss: 1.7912 - acc: 0.3654\n",
            "Epoch 2/25\n",
            "40000/40000 [==============================] - 6s 147us/step - loss: 1.4281 - acc: 0.4956\n",
            "Epoch 3/25\n",
            "40000/40000 [==============================] - 6s 147us/step - loss: 1.2522 - acc: 0.5632\n",
            "Epoch 4/25\n",
            "40000/40000 [==============================] - 6s 146us/step - loss: 1.1300 - acc: 0.6114\n",
            "Epoch 5/25\n",
            "40000/40000 [==============================] - 6s 147us/step - loss: 1.0395 - acc: 0.6438\n",
            "Epoch 6/25\n",
            "40000/40000 [==============================] - 6s 147us/step - loss: 0.9748 - acc: 0.6649\n",
            "Epoch 7/25\n",
            "40000/40000 [==============================] - 6s 145us/step - loss: 0.9170 - acc: 0.6809\n",
            "Epoch 8/25\n",
            "40000/40000 [==============================] - 6s 146us/step - loss: 0.8608 - acc: 0.7049\n",
            "Epoch 9/25\n",
            "40000/40000 [==============================] - 6s 147us/step - loss: 0.8178 - acc: 0.7160\n",
            "Epoch 10/25\n",
            "40000/40000 [==============================] - 6s 147us/step - loss: 0.7818 - acc: 0.7316\n",
            "Epoch 11/25\n",
            "40000/40000 [==============================] - 6s 146us/step - loss: 0.7443 - acc: 0.7441\n",
            "Epoch 12/25\n",
            "40000/40000 [==============================] - 6s 146us/step - loss: 0.7115 - acc: 0.7562\n",
            "Epoch 13/25\n",
            "40000/40000 [==============================] - 6s 146us/step - loss: 0.6831 - acc: 0.7653\n",
            "Epoch 14/25\n",
            "40000/40000 [==============================] - 6s 146us/step - loss: 0.6563 - acc: 0.7742\n",
            "Epoch 15/25\n",
            "40000/40000 [==============================] - 6s 146us/step - loss: 0.6308 - acc: 0.7804\n",
            "Epoch 16/25\n",
            "40000/40000 [==============================] - 6s 146us/step - loss: 0.6083 - acc: 0.7910\n",
            "Epoch 17/25\n",
            "40000/40000 [==============================] - 6s 146us/step - loss: 0.5842 - acc: 0.7989\n",
            "Epoch 18/25\n",
            "40000/40000 [==============================] - 6s 146us/step - loss: 0.5673 - acc: 0.8043\n",
            "Epoch 19/25\n",
            "40000/40000 [==============================] - 6s 146us/step - loss: 0.5467 - acc: 0.8096\n",
            "Epoch 20/25\n",
            "40000/40000 [==============================] - 6s 146us/step - loss: 0.5346 - acc: 0.8142\n",
            "Epoch 21/25\n",
            "40000/40000 [==============================] - 6s 146us/step - loss: 0.5089 - acc: 0.8256\n",
            "Epoch 22/25\n",
            "40000/40000 [==============================] - 6s 147us/step - loss: 0.4946 - acc: 0.8289\n",
            "Epoch 23/25\n",
            "40000/40000 [==============================] - 6s 146us/step - loss: 0.4804 - acc: 0.8328\n",
            "Epoch 24/25\n",
            "40000/40000 [==============================] - 6s 146us/step - loss: 0.4637 - acc: 0.8379\n",
            "Epoch 25/25\n",
            "40000/40000 [==============================] - 6s 146us/step - loss: 0.4533 - acc: 0.8410\n"
          ],
          "name": "stdout"
        },
        {
          "output_type": "execute_result",
          "data": {
            "text/plain": [
              "<keras.callbacks.History at 0x7fec72f47d30>"
            ]
          },
          "metadata": {
            "tags": []
          },
          "execution_count": 10
        }
      ]
    },
    {
      "metadata": {
        "id": "ZRWBloclzFq5",
        "colab_type": "text"
      },
      "cell_type": "markdown",
      "source": [
        "**Evaluate the network on the Validation Set:**"
      ]
    },
    {
      "metadata": {
        "id": "zcBNY8XlzffY",
        "colab_type": "code",
        "outputId": "425c5a6e-2cc2-4dda-f797-a111973df975",
        "colab": {
          "base_uri": "https://localhost:8080/",
          "height": 54
        }
      },
      "cell_type": "code",
      "source": [
        "score = network.evaluate(val_images, val_labels, verbose=0)\n",
        "print('Validation loss:', score[0])\n",
        "print('Validation accuracy:', score[1]*100,\"%\")"
      ],
      "execution_count": 11,
      "outputs": [
        {
          "output_type": "stream",
          "text": [
            "Validation loss: 1.1173894656181336\n",
            "Validation accuracy: 67.38 %\n"
          ],
          "name": "stdout"
        }
      ]
    }
  ]
}
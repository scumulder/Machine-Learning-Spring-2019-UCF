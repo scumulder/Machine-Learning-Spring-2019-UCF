{
  "nbformat": 4,
  "nbformat_minor": 0,
  "metadata": {
    "colab": {
      "name": "CNN3.ipynb",
      "version": "0.3.2",
      "provenance": [],
      "collapsed_sections": [],
      "include_colab_link": true
    },
    "kernelspec": {
      "name": "python3",
      "display_name": "Python 3"
    },
    "accelerator": "GPU"
  },
  "cells": [
    {
      "cell_type": "markdown",
      "metadata": {
        "id": "view-in-github",
        "colab_type": "text"
      },
      "source": [
        "<a href=\"https://colab.research.google.com/github/scumulder/Machine-Learning-Spring-2019-UCF/blob/master/Homework%202/CNN3.ipynb\" target=\"_parent\"><img src=\"https://colab.research.google.com/assets/colab-badge.svg\" alt=\"Open In Colab\"/></a>"
      ]
    },
    {
      "metadata": {
        "id": "bUQuzCJfd6_l",
        "colab_type": "text"
      },
      "cell_type": "markdown",
      "source": [
        "**About this CNN:**\n",
        "\n",
        "\n",
        "---\n",
        "\n",
        "\n",
        "\n",
        "\n",
        "1.   Validation Set = 35% of training set\n",
        "\n",
        "2.   Network Architecture:\n",
        "\n",
        "       {Conv2D + ReLU} -> {Conv2D + ReLU} -> maxpool -> {Conv2D + ReLU} -> {Conv2D + ReLU} -> maxpool -> Fully Connected Layers\n",
        "\n",
        "\n",
        "---\n",
        "\n",
        "\n"
      ]
    },
    {
      "metadata": {
        "id": "k7CvruGz7gs9",
        "colab_type": "text"
      },
      "cell_type": "markdown",
      "source": [
        "**About the CIFAR-10 Dataset**\n",
        "\n",
        "The CIFAR-10 dataset consists of 60000 32x32 colour images in 10 classes, with 6000 images per class. There are 50000 training images and 10000 test images.\n",
        "\n",
        "The dataset is divided into **five training batches** and **one test batch**, each with 10000 images, i.e. 10000 x 3072 numpy array. \n",
        "\n",
        "Between them, the training batches contain exactly 5000 images from each class. The test batch contains exactly 1000 randomly-selected images from each class.  \n",
        "\n"
      ]
    },
    {
      "metadata": {
        "id": "z2OyH0McfQrk",
        "colab_type": "text"
      },
      "cell_type": "markdown",
      "source": [
        "**Loading the CIFAR10 data set:**\n"
      ]
    },
    {
      "metadata": {
        "id": "ZTLW9Fr8abTF",
        "colab_type": "code",
        "outputId": "8e486c5d-9522-459a-97cd-d2f22dd97ebb",
        "colab": {
          "base_uri": "https://localhost:8080/",
          "height": 35
        }
      },
      "cell_type": "code",
      "source": [
        "from keras.datasets import cifar10\n",
        "(train_images_original, train_labels_original), (test_images, test_labels) = cifar10.load_data()\n",
        "\n",
        "#X_train = train_images\n",
        "#Y_train = train_labels\n",
        "\n",
        "#X_test = test_images\n",
        "#Y_test = test_labels"
      ],
      "execution_count": 0,
      "outputs": [
        {
          "output_type": "stream",
          "text": [
            "Using TensorFlow backend.\n"
          ],
          "name": "stderr"
        }
      ]
    },
    {
      "metadata": {
        "id": "tjpIvK4wt1i_",
        "colab_type": "text"
      },
      "cell_type": "markdown",
      "source": [
        "**Split Training Data into Training Set and Validation Set:**\n",
        "\n",
        "35% of the training data will be used to form the validation set and the remaining 65% will be the new training set"
      ]
    },
    {
      "metadata": {
        "id": "AyJXB1ULuBOl",
        "colab_type": "code",
        "outputId": "d0c7f53e-33ce-42bd-ea65-efe730896114",
        "colab": {
          "base_uri": "https://localhost:8080/",
          "height": 54
        }
      },
      "cell_type": "code",
      "source": [
        "import sklearn.model_selection\n",
        "\n",
        "train_images, val_images, train_labels, val_labels = sklearn.model_selection.train_test_split(train_images_original, train_labels_original, \n",
        "                                                                                              test_size=0.35, random_state=42)\n",
        "print('Training image shape:', train_images.shape)\n",
        "print('Validation image shape:', val_images.shape)"
      ],
      "execution_count": 0,
      "outputs": [
        {
          "output_type": "stream",
          "text": [
            "Training image shape: (32500, 32, 32, 3)\n",
            "Validation image shape: (17500, 32, 32, 3)\n"
          ],
          "name": "stdout"
        }
      ]
    },
    {
      "metadata": {
        "id": "UbVjM9Axko4E",
        "colab_type": "text"
      },
      "cell_type": "markdown",
      "source": [
        "**Prepare the training and validation image data:**"
      ]
    },
    {
      "metadata": {
        "id": "mLVSOteyj_2h",
        "colab_type": "code",
        "colab": {}
      },
      "cell_type": "code",
      "source": [
        "train_images = train_images.astype('float32')/ 255\n",
        "val_images = val_images.astype('float32')/ 255"
      ],
      "execution_count": 0,
      "outputs": []
    },
    {
      "metadata": {
        "id": "FFOxljsnhUSl",
        "colab_type": "text"
      },
      "cell_type": "markdown",
      "source": [
        "**Prepare the labels:**\n",
        "\n",
        "    airplane : 0     automobile : 1    bird : 2    cat : 3          deer : 4       dog : 5    frog : 6         horse : 7         ship : 8          truck : 9"
      ]
    },
    {
      "metadata": {
        "id": "Bpc_TIJDhTjd",
        "colab_type": "code",
        "outputId": "23d4d302-06c5-49e3-e8f9-2972aef1aa28",
        "colab": {
          "base_uri": "https://localhost:8080/",
          "height": 54
        }
      },
      "cell_type": "code",
      "source": [
        "import numpy as np\n",
        "from keras.utils.np_utils import to_categorical   \n",
        "\n",
        "train_labels = to_categorical(train_labels)\n",
        "val_labels = to_categorical(val_labels)\n",
        "\n",
        "print('Training label shape:', train_labels.shape)\n",
        "print('Validation label shape:', val_labels.shape)"
      ],
      "execution_count": 0,
      "outputs": [
        {
          "output_type": "stream",
          "text": [
            "Training label shape: (32500, 10)\n",
            "Validation label shape: (17500, 10)\n"
          ],
          "name": "stdout"
        }
      ]
    },
    {
      "metadata": {
        "id": "XYiv_siQGvPR",
        "colab_type": "text"
      },
      "cell_type": "markdown",
      "source": [
        "**Convolutional Neural Network Architecture:**"
      ]
    },
    {
      "metadata": {
        "colab_type": "code",
        "id": "LbLzQ7E903zP",
        "outputId": "7bde4943-5533-4d62-c828-a34cb5d5b7bd",
        "colab": {
          "base_uri": "https://localhost:8080/",
          "height": 550
        }
      },
      "cell_type": "code",
      "source": [
        "from keras import models\n",
        "from keras import layers\n",
        "\n",
        "batch_size = 256\n",
        "num_classes = 10\n",
        "epochs = 25\n",
        "\n",
        "network = models.Sequential()\n",
        "\n",
        "network.add(layers.Conv2D(32, (3, 3), activation='relu', input_shape=(32, 32, 3)))\n",
        "network.add(layers.Conv2D(64, (3, 3), activation='relu'))\n",
        "network.add(layers.MaxPooling2D(pool_size = (2, 2)))\n",
        "network.add(layers.Conv2D(128, (3, 3), activation='relu'))\n",
        "network.add(layers.Conv2D(256, (3, 3), activation='relu'))\n",
        "network.add(layers.MaxPooling2D(pool_size = (2, 2)))\n",
        "network.add(layers.Dropout(0.25))\n",
        "network.add(layers.Flatten())\n",
        "network.add(layers.Dense(256, activation='relu'))\n",
        "network.add(layers.Dropout(0.50))\n",
        "network.add(layers.Dense(num_classes, activation='softmax'))\n",
        "network.summary()"
      ],
      "execution_count": 0,
      "outputs": [
        {
          "output_type": "stream",
          "text": [
            "_________________________________________________________________\n",
            "Layer (type)                 Output Shape              Param #   \n",
            "=================================================================\n",
            "conv2d_5 (Conv2D)            (None, 30, 30, 32)        896       \n",
            "_________________________________________________________________\n",
            "conv2d_6 (Conv2D)            (None, 28, 28, 64)        18496     \n",
            "_________________________________________________________________\n",
            "max_pooling2d_3 (MaxPooling2 (None, 14, 14, 64)        0         \n",
            "_________________________________________________________________\n",
            "conv2d_7 (Conv2D)            (None, 12, 12, 128)       73856     \n",
            "_________________________________________________________________\n",
            "conv2d_8 (Conv2D)            (None, 10, 10, 256)       295168    \n",
            "_________________________________________________________________\n",
            "max_pooling2d_4 (MaxPooling2 (None, 5, 5, 256)         0         \n",
            "_________________________________________________________________\n",
            "dropout_3 (Dropout)          (None, 5, 5, 256)         0         \n",
            "_________________________________________________________________\n",
            "flatten_2 (Flatten)          (None, 6400)              0         \n",
            "_________________________________________________________________\n",
            "dense_3 (Dense)              (None, 256)               1638656   \n",
            "_________________________________________________________________\n",
            "dropout_4 (Dropout)          (None, 256)               0         \n",
            "_________________________________________________________________\n",
            "dense_4 (Dense)              (None, 10)                2570      \n",
            "=================================================================\n",
            "Total params: 2,029,642\n",
            "Trainable params: 2,029,642\n",
            "Non-trainable params: 0\n",
            "_________________________________________________________________\n"
          ],
          "name": "stdout"
        }
      ]
    },
    {
      "metadata": {
        "id": "-n4OxnBsLVfY",
        "colab_type": "text"
      },
      "cell_type": "markdown",
      "source": [
        "**Compile the network:**"
      ]
    },
    {
      "metadata": {
        "id": "mpfOvohQLPL_",
        "colab_type": "code",
        "colab": {}
      },
      "cell_type": "code",
      "source": [
        "network.compile(optimizer='rmsprop', loss='categorical_crossentropy', metrics=['accuracy'])"
      ],
      "execution_count": 0,
      "outputs": []
    },
    {
      "metadata": {
        "id": "r9PRoeoTzDCL",
        "colab_type": "text"
      },
      "cell_type": "markdown",
      "source": [
        "**Train the network:**"
      ]
    },
    {
      "metadata": {
        "id": "ybmteRROzGJH",
        "colab_type": "code",
        "outputId": "3c038271-e456-49e6-a95d-41840b2c1327",
        "colab": {
          "base_uri": "https://localhost:8080/",
          "height": 1029
        }
      },
      "cell_type": "code",
      "source": [
        "network.fit(train_images, train_labels, batch_size=batch_size, epochs=epochs, verbose=1)"
      ],
      "execution_count": 0,
      "outputs": [
        {
          "output_type": "stream",
          "text": [
            "WARNING:tensorflow:From /usr/local/lib/python3.6/dist-packages/tensorflow/python/ops/math_ops.py:3066: to_int32 (from tensorflow.python.ops.math_ops) is deprecated and will be removed in a future version.\n",
            "Instructions for updating:\n",
            "Use tf.cast instead.\n",
            "Epoch 1/25\n",
            "32500/32500 [==============================] - 10s 305us/step - loss: 2.1084 - acc: 0.2383\n",
            "Epoch 2/25\n",
            "32500/32500 [==============================] - 8s 232us/step - loss: 1.6778 - acc: 0.3995\n",
            "Epoch 3/25\n",
            "32500/32500 [==============================] - 7s 230us/step - loss: 1.4649 - acc: 0.4792\n",
            "Epoch 4/25\n",
            "32500/32500 [==============================] - 8s 231us/step - loss: 1.3054 - acc: 0.5404\n",
            "Epoch 5/25\n",
            "32500/32500 [==============================] - 7s 230us/step - loss: 1.1563 - acc: 0.5946\n",
            "Epoch 6/25\n",
            "32500/32500 [==============================] - 7s 230us/step - loss: 1.0513 - acc: 0.6359\n",
            "Epoch 7/25\n",
            "32500/32500 [==============================] - 7s 230us/step - loss: 0.9403 - acc: 0.6744\n",
            "Epoch 8/25\n",
            "32500/32500 [==============================] - 7s 230us/step - loss: 0.8568 - acc: 0.6998\n",
            "Epoch 9/25\n",
            "32500/32500 [==============================] - 7s 229us/step - loss: 0.7776 - acc: 0.7300\n",
            "Epoch 10/25\n",
            "32500/32500 [==============================] - 7s 230us/step - loss: 0.7116 - acc: 0.7552\n",
            "Epoch 11/25\n",
            "32500/32500 [==============================] - 7s 228us/step - loss: 0.6472 - acc: 0.7761\n",
            "Epoch 12/25\n",
            "32500/32500 [==============================] - 7s 229us/step - loss: 0.5885 - acc: 0.7943\n",
            "Epoch 13/25\n",
            "32500/32500 [==============================] - 7s 229us/step - loss: 0.5474 - acc: 0.8101\n",
            "Epoch 14/25\n",
            "32500/32500 [==============================] - 7s 229us/step - loss: 0.4984 - acc: 0.8264\n",
            "Epoch 15/25\n",
            "32500/32500 [==============================] - 7s 229us/step - loss: 0.4525 - acc: 0.8435\n",
            "Epoch 16/25\n",
            "32500/32500 [==============================] - 7s 228us/step - loss: 0.4154 - acc: 0.8568\n",
            "Epoch 17/25\n",
            "32500/32500 [==============================] - 7s 229us/step - loss: 0.3779 - acc: 0.8704\n",
            "Epoch 18/25\n",
            "32500/32500 [==============================] - 7s 229us/step - loss: 0.3486 - acc: 0.8762\n",
            "Epoch 19/25\n",
            "32500/32500 [==============================] - 7s 228us/step - loss: 0.3272 - acc: 0.8861\n",
            "Epoch 20/25\n",
            "32500/32500 [==============================] - 7s 229us/step - loss: 0.2966 - acc: 0.8978\n",
            "Epoch 21/25\n",
            "32500/32500 [==============================] - 7s 228us/step - loss: 0.2858 - acc: 0.9014\n",
            "Epoch 22/25\n",
            "32500/32500 [==============================] - 7s 227us/step - loss: 0.2732 - acc: 0.9067\n",
            "Epoch 23/25\n",
            "32500/32500 [==============================] - 7s 228us/step - loss: 0.2480 - acc: 0.9136\n",
            "Epoch 24/25\n",
            "32500/32500 [==============================] - 7s 226us/step - loss: 0.2482 - acc: 0.9138\n",
            "Epoch 25/25\n",
            "32500/32500 [==============================] - 7s 227us/step - loss: 0.2347 - acc: 0.9193\n"
          ],
          "name": "stdout"
        },
        {
          "output_type": "execute_result",
          "data": {
            "text/plain": [
              "<keras.callbacks.History at 0x7f2231c87cc0>"
            ]
          },
          "metadata": {
            "tags": []
          },
          "execution_count": 19
        }
      ]
    },
    {
      "metadata": {
        "id": "ZRWBloclzFq5",
        "colab_type": "text"
      },
      "cell_type": "markdown",
      "source": [
        "**Evaluate the network on the Validation Set:**"
      ]
    },
    {
      "metadata": {
        "id": "zcBNY8XlzffY",
        "colab_type": "code",
        "outputId": "da69b94c-7db1-43a8-8cb2-1e17d547c778",
        "colab": {
          "base_uri": "https://localhost:8080/",
          "height": 54
        }
      },
      "cell_type": "code",
      "source": [
        "score = network.evaluate(val_images, val_labels, verbose=0)\n",
        "print('Validation loss:', score[0])\n",
        "print('Validation accuracy:', score[1]*100,\"%\")"
      ],
      "execution_count": 0,
      "outputs": [
        {
          "output_type": "stream",
          "text": [
            "Validation loss: 0.8090038654327393\n",
            "Validation accuracy: 77.8285714326586 %\n"
          ],
          "name": "stdout"
        }
      ]
    }
  ]
}
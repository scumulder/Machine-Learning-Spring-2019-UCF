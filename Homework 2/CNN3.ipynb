{
  "nbformat": 4,
  "nbformat_minor": 0,
  "metadata": {
    "colab": {
      "name": "CNN3.ipynb",
      "version": "0.3.2",
      "provenance": [],
      "collapsed_sections": [],
      "include_colab_link": true
    },
    "kernelspec": {
      "name": "python3",
      "display_name": "Python 3"
    },
    "accelerator": "GPU"
  },
  "cells": [
    {
      "cell_type": "markdown",
      "metadata": {
        "id": "view-in-github",
        "colab_type": "text"
      },
      "source": [
        "<a href=\"https://colab.research.google.com/github/scumulder/Machine-Learning-Spring-2019-UCF/blob/master/Homework%202/CNN3.ipynb\" target=\"_parent\"><img src=\"https://colab.research.google.com/assets/colab-badge.svg\" alt=\"Open In Colab\"/></a>"
      ]
    },
    {
      "metadata": {
        "id": "bUQuzCJfd6_l",
        "colab_type": "text"
      },
      "cell_type": "markdown",
      "source": [
        "**About this CNN:**\n",
        "\n",
        "\n",
        "---\n",
        "\n",
        "\n",
        "*   Increased epochs (epochs = 50)\n",
        "*   Data Augmentation \n",
        "*   Dropout\n",
        "*   {Conv2D + ReLU} -> {Conv2D + ReLU} -> maxpool -> {Conv2D + ReLU} -> {Conv2D + ReLU} -> maxpool -> Fully Connected Layers\n",
        "*   Change in filter sizes of Conv2D layers\n",
        "\n",
        "\n",
        "---\n",
        "\n",
        "\n"
      ]
    },
    {
      "metadata": {
        "id": "z2OyH0McfQrk",
        "colab_type": "text"
      },
      "cell_type": "markdown",
      "source": [
        "**Loading the CIFAR10 data set:**\n"
      ]
    },
    {
      "metadata": {
        "id": "ZTLW9Fr8abTF",
        "colab_type": "code",
        "outputId": "39e85f64-d42b-4f4e-ae64-75c2fc089031",
        "colab": {
          "base_uri": "https://localhost:8080/",
          "height": 35
        }
      },
      "cell_type": "code",
      "source": [
        "from keras.datasets import cifar10\n",
        "(train_images_original, train_labels_original), (test_images, test_labels) = cifar10.load_data()\n",
        "\n",
        "#X_train = train_images\n",
        "#Y_train = train_labels\n",
        "\n",
        "#X_test = test_images\n",
        "#Y_test = test_labels"
      ],
      "execution_count": 1,
      "outputs": [
        {
          "output_type": "stream",
          "text": [
            "Using TensorFlow backend.\n"
          ],
          "name": "stderr"
        }
      ]
    },
    {
      "metadata": {
        "id": "tjpIvK4wt1i_",
        "colab_type": "text"
      },
      "cell_type": "markdown",
      "source": [
        "**Split Training Data into Training Set and Validation Set:**\n",
        "\n",
        "20% of the training data will be used to form the validation set and the remaining 80% will be the new training set"
      ]
    },
    {
      "metadata": {
        "id": "AyJXB1ULuBOl",
        "colab_type": "code",
        "outputId": "2c67fac8-22c7-4040-b65a-e1a09d66e6fa",
        "colab": {
          "base_uri": "https://localhost:8080/",
          "height": 54
        }
      },
      "cell_type": "code",
      "source": [
        "import sklearn.model_selection\n",
        "\n",
        "train_images, val_images, train_labels, val_labels = sklearn.model_selection.train_test_split(train_images_original, train_labels_original, \n",
        "                                                                                              test_size=0.20, random_state=42)\n",
        "print('Training image shape:', train_images.shape)\n",
        "print('Validation image shape:', val_images.shape)"
      ],
      "execution_count": 2,
      "outputs": [
        {
          "output_type": "stream",
          "text": [
            "Training image shape: (40000, 32, 32, 3)\n",
            "Validation image shape: (10000, 32, 32, 3)\n"
          ],
          "name": "stdout"
        }
      ]
    },
    {
      "metadata": {
        "id": "UbVjM9Axko4E",
        "colab_type": "text"
      },
      "cell_type": "markdown",
      "source": [
        "**Prepare the training and validation image data:**"
      ]
    },
    {
      "metadata": {
        "id": "mLVSOteyj_2h",
        "colab_type": "code",
        "colab": {}
      },
      "cell_type": "code",
      "source": [
        "train_images = train_images.astype('float32')/ 255\n",
        "val_images = val_images.astype('float32')/ 255"
      ],
      "execution_count": 0,
      "outputs": []
    },
    {
      "metadata": {
        "id": "FFOxljsnhUSl",
        "colab_type": "text"
      },
      "cell_type": "markdown",
      "source": [
        "**Prepare the labels:**\n",
        "\n",
        "    airplane : 0     automobile : 1    bird : 2    cat : 3          deer : 4       dog : 5    frog : 6         horse : 7         ship : 8          truck : 9"
      ]
    },
    {
      "metadata": {
        "id": "Bpc_TIJDhTjd",
        "colab_type": "code",
        "outputId": "20e572f9-2ebb-45a1-c094-7fd26fbc34b7",
        "colab": {
          "base_uri": "https://localhost:8080/",
          "height": 54
        }
      },
      "cell_type": "code",
      "source": [
        "import numpy as np\n",
        "from keras.utils.np_utils import to_categorical   \n",
        "\n",
        "train_labels = to_categorical(train_labels)\n",
        "val_labels = to_categorical(val_labels)\n",
        "\n",
        "print('Training label shape:', train_labels.shape)\n",
        "print('Validation label shape:', val_labels.shape)"
      ],
      "execution_count": 4,
      "outputs": [
        {
          "output_type": "stream",
          "text": [
            "Training label shape: (40000, 10)\n",
            "Validation label shape: (10000, 10)\n"
          ],
          "name": "stdout"
        }
      ]
    },
    {
      "metadata": {
        "id": "XYiv_siQGvPR",
        "colab_type": "text"
      },
      "cell_type": "markdown",
      "source": [
        "**Convolutional Neural Network Architecture:**"
      ]
    },
    {
      "metadata": {
        "colab_type": "code",
        "id": "LbLzQ7E903zP",
        "outputId": "e0afa18e-f166-4be2-8f24-1e19a61c8594",
        "colab": {
          "base_uri": "https://localhost:8080/",
          "height": 513
        }
      },
      "cell_type": "code",
      "source": [
        "from keras import models\n",
        "from keras import layers\n",
        "\n",
        "batch_size = 256\n",
        "num_classes = 10\n",
        "epochs = 50\n",
        "\n",
        "network = models.Sequential()\n",
        "\n",
        "network.add(layers.Conv2D(32, (3, 3), activation='relu', input_shape=(32, 32, 3)))\n",
        "network.add(layers.Conv2D(32, (3, 3), activation='relu'))\n",
        "network.add(layers.MaxPooling2D(pool_size = (2, 2)))\n",
        "\n",
        "network.add(layers.Conv2D(64, (3, 3), activation='relu'))\n",
        "network.add(layers.Conv2D(64, (3, 3), activation='relu'))\n",
        "network.add(layers.MaxPooling2D(pool_size = (2, 2)))\n",
        "\n",
        "network.add(layers.Flatten())\n",
        "\n",
        "\n",
        "network.add(layers.Dense(128, activation='relu'))\n",
        "network.add(layers.Dropout(0.50))\n",
        "network.add(layers.Dense(num_classes, activation='softmax'))\n",
        "network.summary()"
      ],
      "execution_count": 15,
      "outputs": [
        {
          "output_type": "stream",
          "text": [
            "_________________________________________________________________\n",
            "Layer (type)                 Output Shape              Param #   \n",
            "=================================================================\n",
            "conv2d_9 (Conv2D)            (None, 30, 30, 32)        896       \n",
            "_________________________________________________________________\n",
            "conv2d_10 (Conv2D)           (None, 28, 28, 32)        9248      \n",
            "_________________________________________________________________\n",
            "max_pooling2d_5 (MaxPooling2 (None, 14, 14, 32)        0         \n",
            "_________________________________________________________________\n",
            "conv2d_11 (Conv2D)           (None, 12, 12, 64)        18496     \n",
            "_________________________________________________________________\n",
            "conv2d_12 (Conv2D)           (None, 10, 10, 64)        36928     \n",
            "_________________________________________________________________\n",
            "max_pooling2d_6 (MaxPooling2 (None, 5, 5, 64)          0         \n",
            "_________________________________________________________________\n",
            "flatten_3 (Flatten)          (None, 1600)              0         \n",
            "_________________________________________________________________\n",
            "dense_5 (Dense)              (None, 128)               204928    \n",
            "_________________________________________________________________\n",
            "dropout_4 (Dropout)          (None, 128)               0         \n",
            "_________________________________________________________________\n",
            "dense_6 (Dense)              (None, 10)                1290      \n",
            "=================================================================\n",
            "Total params: 271,786\n",
            "Trainable params: 271,786\n",
            "Non-trainable params: 0\n",
            "_________________________________________________________________\n"
          ],
          "name": "stdout"
        }
      ]
    },
    {
      "metadata": {
        "id": "EJBcx7tpDmts",
        "colab_type": "text"
      },
      "cell_type": "markdown",
      "source": [
        "**Initialize the Image Data Generator for Data Augmentation:**"
      ]
    },
    {
      "metadata": {
        "id": "p_EpBiQtDkQi",
        "colab_type": "code",
        "colab": {}
      },
      "cell_type": "code",
      "source": [
        "from keras.preprocessing.image import ImageDataGenerator\n",
        "datagen = ImageDataGenerator( rotation_range=15,\n",
        "                 width_shift_range=0.1, height_shift_range=0.1,\n",
        "                 horizontal_flip=True)\n",
        "datagen.fit(train_images)"
      ],
      "execution_count": 0,
      "outputs": []
    },
    {
      "metadata": {
        "id": "-n4OxnBsLVfY",
        "colab_type": "text"
      },
      "cell_type": "markdown",
      "source": [
        "**Compile the network:**"
      ]
    },
    {
      "metadata": {
        "id": "mpfOvohQLPL_",
        "colab_type": "code",
        "colab": {}
      },
      "cell_type": "code",
      "source": [
        "network.compile(optimizer='rmsprop', loss='categorical_crossentropy', metrics=['accuracy'])"
      ],
      "execution_count": 0,
      "outputs": []
    },
    {
      "metadata": {
        "id": "r9PRoeoTzDCL",
        "colab_type": "text"
      },
      "cell_type": "markdown",
      "source": [
        "**Train the network:**"
      ]
    },
    {
      "metadata": {
        "id": "ybmteRROzGJH",
        "colab_type": "code",
        "outputId": "bdf9075a-230c-4730-b5fb-ac2e9e131666",
        "colab": {
          "base_uri": "https://localhost:8080/",
          "height": 1872
        }
      },
      "cell_type": "code",
      "source": [
        "network.fit_generator(datagen.flow(train_images, train_labels, batch_size=batch_size),steps_per_epoch=100, epochs=epochs, verbose=1)"
      ],
      "execution_count": 17,
      "outputs": [
        {
          "output_type": "stream",
          "text": [
            "Epoch 1/50\n",
            "100/100 [==============================] - 14s 136ms/step - loss: 2.0902 - acc: 0.2349\n",
            "Epoch 2/50\n",
            "100/100 [==============================] - 13s 135ms/step - loss: 1.8585 - acc: 0.3272\n",
            "Epoch 3/50\n",
            "100/100 [==============================] - 14s 135ms/step - loss: 1.7237 - acc: 0.3786\n",
            "Epoch 4/50\n",
            "100/100 [==============================] - 13s 134ms/step - loss: 1.6471 - acc: 0.4033\n",
            "Epoch 5/50\n",
            "100/100 [==============================] - 13s 134ms/step - loss: 1.5498 - acc: 0.4419\n",
            "Epoch 6/50\n",
            "100/100 [==============================] - 14s 136ms/step - loss: 1.4999 - acc: 0.4620\n",
            "Epoch 7/50\n",
            "100/100 [==============================] - 13s 134ms/step - loss: 1.4432 - acc: 0.4886\n",
            "Epoch 8/50\n",
            "100/100 [==============================] - 14s 136ms/step - loss: 1.4107 - acc: 0.4989\n",
            "Epoch 9/50\n",
            "100/100 [==============================] - 13s 134ms/step - loss: 1.3523 - acc: 0.5207\n",
            "Epoch 10/50\n",
            "100/100 [==============================] - 13s 133ms/step - loss: 1.3266 - acc: 0.5326\n",
            "Epoch 11/50\n",
            "100/100 [==============================] - 13s 133ms/step - loss: 1.2907 - acc: 0.5425\n",
            "Epoch 12/50\n",
            "100/100 [==============================] - 14s 137ms/step - loss: 1.2502 - acc: 0.5576\n",
            "Epoch 13/50\n",
            "100/100 [==============================] - 13s 133ms/step - loss: 1.2106 - acc: 0.5753\n",
            "Epoch 14/50\n",
            "100/100 [==============================] - 13s 133ms/step - loss: 1.1930 - acc: 0.5815\n",
            "Epoch 15/50\n",
            "100/100 [==============================] - 13s 131ms/step - loss: 1.1633 - acc: 0.5939\n",
            "Epoch 16/50\n",
            "100/100 [==============================] - 13s 132ms/step - loss: 1.1408 - acc: 0.6025\n",
            "Epoch 17/50\n",
            "100/100 [==============================] - 14s 135ms/step - loss: 1.1126 - acc: 0.6129\n",
            "Epoch 18/50\n",
            "100/100 [==============================] - 13s 134ms/step - loss: 1.0937 - acc: 0.6191\n",
            "Epoch 19/50\n",
            "100/100 [==============================] - 13s 135ms/step - loss: 1.0775 - acc: 0.6243\n",
            "Epoch 20/50\n",
            "100/100 [==============================] - 13s 134ms/step - loss: 1.0629 - acc: 0.6282\n",
            "Epoch 21/50\n",
            "100/100 [==============================] - 13s 132ms/step - loss: 1.0341 - acc: 0.6402\n",
            "Epoch 22/50\n",
            "100/100 [==============================] - 13s 131ms/step - loss: 1.0234 - acc: 0.6392\n",
            "Epoch 23/50\n",
            "100/100 [==============================] - 13s 132ms/step - loss: 1.0039 - acc: 0.6504\n",
            "Epoch 24/50\n",
            "100/100 [==============================] - 13s 133ms/step - loss: 0.9918 - acc: 0.6565\n",
            "Epoch 25/50\n",
            "100/100 [==============================] - 13s 134ms/step - loss: 0.9732 - acc: 0.6623\n",
            "Epoch 26/50\n",
            "100/100 [==============================] - 13s 133ms/step - loss: 0.9696 - acc: 0.6668\n",
            "Epoch 27/50\n",
            "100/100 [==============================] - 13s 132ms/step - loss: 0.9578 - acc: 0.6668\n",
            "Epoch 28/50\n",
            "100/100 [==============================] - 13s 134ms/step - loss: 0.9457 - acc: 0.6741\n",
            "Epoch 29/50\n",
            "100/100 [==============================] - 13s 133ms/step - loss: 0.9262 - acc: 0.6763\n",
            "Epoch 30/50\n",
            "100/100 [==============================] - 13s 132ms/step - loss: 0.9252 - acc: 0.6782\n",
            "Epoch 31/50\n",
            "100/100 [==============================] - 14s 137ms/step - loss: 0.9074 - acc: 0.6875\n",
            "Epoch 32/50\n",
            "100/100 [==============================] - 13s 131ms/step - loss: 0.8967 - acc: 0.6871\n",
            "Epoch 33/50\n",
            "100/100 [==============================] - 13s 132ms/step - loss: 0.8985 - acc: 0.6915\n",
            "Epoch 34/50\n",
            "100/100 [==============================] - 14s 136ms/step - loss: 0.8875 - acc: 0.6958\n",
            "Epoch 35/50\n",
            "100/100 [==============================] - 14s 137ms/step - loss: 0.8714 - acc: 0.6979\n",
            "Epoch 36/50\n",
            "100/100 [==============================] - 14s 136ms/step - loss: 0.8753 - acc: 0.6973\n",
            "Epoch 37/50\n",
            "100/100 [==============================] - 14s 135ms/step - loss: 0.8577 - acc: 0.7028\n",
            "Epoch 38/50\n",
            "100/100 [==============================] - 14s 136ms/step - loss: 0.8454 - acc: 0.7054\n",
            "Epoch 39/50\n",
            "100/100 [==============================] - 14s 137ms/step - loss: 0.8458 - acc: 0.7081\n",
            "Epoch 40/50\n",
            "100/100 [==============================] - 14s 136ms/step - loss: 0.8440 - acc: 0.7092\n",
            "Epoch 41/50\n",
            "100/100 [==============================] - 14s 135ms/step - loss: 0.8398 - acc: 0.7118\n",
            "Epoch 42/50\n",
            "100/100 [==============================] - 16s 160ms/step - loss: 0.8351 - acc: 0.7119\n",
            "Epoch 43/50\n",
            "100/100 [==============================] - 14s 139ms/step - loss: 0.8254 - acc: 0.7159\n",
            "Epoch 44/50\n",
            "100/100 [==============================] - 15s 147ms/step - loss: 0.8232 - acc: 0.7183\n",
            "Epoch 45/50\n",
            "100/100 [==============================] - 23s 233ms/step - loss: 0.8118 - acc: 0.7189\n",
            "Epoch 46/50\n",
            "100/100 [==============================] - 23s 233ms/step - loss: 0.8132 - acc: 0.7185\n",
            "Epoch 47/50\n",
            "100/100 [==============================] - 24s 236ms/step - loss: 0.8042 - acc: 0.7245\n",
            "Epoch 48/50\n",
            "100/100 [==============================] - 23s 234ms/step - loss: 0.7987 - acc: 0.7265\n",
            "Epoch 49/50\n",
            "100/100 [==============================] - 23s 232ms/step - loss: 0.7947 - acc: 0.7288\n",
            "Epoch 50/50\n",
            "100/100 [==============================] - 23s 234ms/step - loss: 0.7875 - acc: 0.7295\n"
          ],
          "name": "stdout"
        },
        {
          "output_type": "execute_result",
          "data": {
            "text/plain": [
              "<keras.callbacks.History at 0x7f826df95860>"
            ]
          },
          "metadata": {
            "tags": []
          },
          "execution_count": 17
        }
      ]
    },
    {
      "metadata": {
        "id": "ZRWBloclzFq5",
        "colab_type": "text"
      },
      "cell_type": "markdown",
      "source": [
        "**Evaluate the network on the Validation Set:**"
      ]
    },
    {
      "metadata": {
        "id": "zcBNY8XlzffY",
        "colab_type": "code",
        "outputId": "23b3f6b7-09d7-4cfc-8158-1ab7b7ba5cee",
        "colab": {
          "base_uri": "https://localhost:8080/",
          "height": 54
        }
      },
      "cell_type": "code",
      "source": [
        "score = network.evaluate(val_images, val_labels, verbose=0)\n",
        "print('Validation loss:', score[0])\n",
        "print('Validation accuracy:', score[1]*100,\"%\")"
      ],
      "execution_count": 18,
      "outputs": [
        {
          "output_type": "stream",
          "text": [
            "Validation loss: 0.7468105646133423\n",
            "Validation accuracy: 75.12 %\n"
          ],
          "name": "stdout"
        }
      ]
    }
  ]
}
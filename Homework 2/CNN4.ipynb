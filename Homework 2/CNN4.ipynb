{
  "nbformat": 4,
  "nbformat_minor": 0,
  "metadata": {
    "colab": {
      "name": "CNN4.ipynb",
      "version": "0.3.2",
      "provenance": [],
      "collapsed_sections": [],
      "include_colab_link": true
    },
    "kernelspec": {
      "name": "python3",
      "display_name": "Python 3"
    },
    "accelerator": "GPU"
  },
  "cells": [
    {
      "cell_type": "markdown",
      "metadata": {
        "id": "view-in-github",
        "colab_type": "text"
      },
      "source": [
        "<a href=\"https://colab.research.google.com/github/scumulder/Machine-Learning-Spring-2019-UCF/blob/master/Homework%202/CNN4.ipynb\" target=\"_parent\"><img src=\"https://colab.research.google.com/assets/colab-badge.svg\" alt=\"Open In Colab\"/></a>"
      ]
    },
    {
      "metadata": {
        "id": "bUQuzCJfd6_l",
        "colab_type": "text"
      },
      "cell_type": "markdown",
      "source": [
        "**About this CNN:**\n",
        "\n",
        "\n",
        "---\n",
        "\n",
        "\n",
        "*   No Data Augmentation\n",
        "*   Four Dropouts\n",
        "*   Conv2D filter sizes of 32, 32, 64, and 128\n",
        "\n",
        "\n",
        "\n",
        "\n",
        "---\n",
        "\n",
        "\n"
      ]
    },
    {
      "metadata": {
        "id": "z2OyH0McfQrk",
        "colab_type": "text"
      },
      "cell_type": "markdown",
      "source": [
        "**Loading the CIFAR10 data set:**\n"
      ]
    },
    {
      "metadata": {
        "id": "ZTLW9Fr8abTF",
        "colab_type": "code",
        "colab": {}
      },
      "cell_type": "code",
      "source": [
        "from keras.datasets import cifar10\n",
        "(train_images_original, train_labels_original), (test_images, test_labels) = cifar10.load_data()\n",
        "\n",
        "#X_train = train_images\n",
        "#Y_train = train_labels\n",
        "\n",
        "#X_test = test_images\n",
        "#Y_test = test_labels"
      ],
      "execution_count": 0,
      "outputs": []
    },
    {
      "metadata": {
        "id": "tjpIvK4wt1i_",
        "colab_type": "text"
      },
      "cell_type": "markdown",
      "source": [
        "**Split Training Data into Training Set and Validation Set:**\n",
        "\n",
        "20% of the training data will be used to form the validation set and the remaining 80% will be the new training set"
      ]
    },
    {
      "metadata": {
        "id": "AyJXB1ULuBOl",
        "colab_type": "code",
        "colab": {
          "base_uri": "https://localhost:8080/",
          "height": 54
        },
        "outputId": "84285469-2c59-433d-f9c3-327edd6f8648"
      },
      "cell_type": "code",
      "source": [
        "import sklearn.model_selection\n",
        "\n",
        "train_images, val_images, train_labels, val_labels = sklearn.model_selection.train_test_split(train_images_original, train_labels_original, \n",
        "                                                                                              test_size=0.20, random_state=42)\n",
        "print('Training image shape:', train_images.shape)\n",
        "print('Validation image shape:', val_images.shape)"
      ],
      "execution_count": 53,
      "outputs": [
        {
          "output_type": "stream",
          "text": [
            "Training image shape: (40000, 32, 32, 3)\n",
            "Validation image shape: (10000, 32, 32, 3)\n"
          ],
          "name": "stdout"
        }
      ]
    },
    {
      "metadata": {
        "id": "UbVjM9Axko4E",
        "colab_type": "text"
      },
      "cell_type": "markdown",
      "source": [
        "**Prepare the training and validation image data:**"
      ]
    },
    {
      "metadata": {
        "id": "mLVSOteyj_2h",
        "colab_type": "code",
        "colab": {}
      },
      "cell_type": "code",
      "source": [
        "train_images = train_images.astype('float32')/ 255\n",
        "val_images = val_images.astype('float32')/ 255"
      ],
      "execution_count": 0,
      "outputs": []
    },
    {
      "metadata": {
        "id": "FFOxljsnhUSl",
        "colab_type": "text"
      },
      "cell_type": "markdown",
      "source": [
        "**Prepare the labels:**\n",
        "\n",
        "    airplane : 0     automobile : 1    bird : 2    cat : 3          deer : 4       dog : 5    frog : 6         horse : 7         ship : 8          truck : 9"
      ]
    },
    {
      "metadata": {
        "id": "Bpc_TIJDhTjd",
        "colab_type": "code",
        "colab": {
          "base_uri": "https://localhost:8080/",
          "height": 54
        },
        "outputId": "5473882a-6eb9-4f87-bd1b-c6c991ae93fb"
      },
      "cell_type": "code",
      "source": [
        "import numpy as np\n",
        "from keras.utils.np_utils import to_categorical   \n",
        "\n",
        "train_labels = to_categorical(train_labels)\n",
        "val_labels = to_categorical(val_labels)\n",
        "\n",
        "print('Training label shape:', train_labels.shape)\n",
        "print('Validation label shape:', val_labels.shape)"
      ],
      "execution_count": 55,
      "outputs": [
        {
          "output_type": "stream",
          "text": [
            "Training label shape: (40000, 10)\n",
            "Validation label shape: (10000, 10)\n"
          ],
          "name": "stdout"
        }
      ]
    },
    {
      "metadata": {
        "id": "XYiv_siQGvPR",
        "colab_type": "text"
      },
      "cell_type": "markdown",
      "source": [
        "**Convolutional Neural Network Architecture:**"
      ]
    },
    {
      "metadata": {
        "colab_type": "code",
        "id": "LbLzQ7E903zP",
        "colab": {
          "base_uri": "https://localhost:8080/",
          "height": 660
        },
        "outputId": "2eceb15e-b0ab-4098-ff16-72724a1a3928"
      },
      "cell_type": "code",
      "source": [
        "from keras import models\n",
        "from keras import layers\n",
        "\n",
        "batch_size = 256\n",
        "num_classes = 10\n",
        "epochs = 50\n",
        "\n",
        "network = models.Sequential()\n",
        "\n",
        "network.add(layers.Conv2D(32, (3, 3), activation='relu', input_shape=(32, 32, 3)))\n",
        "network.add(layers.Conv2D(32, (3, 3), activation='relu'))\n",
        "network.add(layers.MaxPooling2D(pool_size = (2, 2)))\n",
        "network.add(layers.Dropout(0.15))\n",
        "\n",
        "network.add(layers.Conv2D(64, (3, 3), activation='relu'))\n",
        "network.add(layers.MaxPooling2D(pool_size = (2, 2)))\n",
        "network.add(layers.Dropout(0.15))\n",
        "\n",
        "network.add(layers.Conv2D(128, (3, 3), activation='relu'))\n",
        "network.add(layers.MaxPooling2D(pool_size = (2, 2)))\n",
        "network.add(layers.Dropout(0.15))\n",
        "\n",
        "network.add(layers.Flatten())\n",
        "\n",
        "\n",
        "network.add(layers.Dense(256, activation='relu'))\n",
        "network.add(layers.Dropout(0.35))\n",
        "network.add(layers.Dense(num_classes, activation='softmax'))\n",
        "network.summary()"
      ],
      "execution_count": 56,
      "outputs": [
        {
          "output_type": "stream",
          "text": [
            "_________________________________________________________________\n",
            "Layer (type)                 Output Shape              Param #   \n",
            "=================================================================\n",
            "conv2d_79 (Conv2D)           (None, 30, 30, 32)        896       \n",
            "_________________________________________________________________\n",
            "conv2d_80 (Conv2D)           (None, 28, 28, 32)        9248      \n",
            "_________________________________________________________________\n",
            "max_pooling2d_52 (MaxPooling (None, 14, 14, 32)        0         \n",
            "_________________________________________________________________\n",
            "dropout_13 (Dropout)         (None, 14, 14, 32)        0         \n",
            "_________________________________________________________________\n",
            "conv2d_81 (Conv2D)           (None, 12, 12, 64)        18496     \n",
            "_________________________________________________________________\n",
            "max_pooling2d_53 (MaxPooling (None, 6, 6, 64)          0         \n",
            "_________________________________________________________________\n",
            "dropout_14 (Dropout)         (None, 6, 6, 64)          0         \n",
            "_________________________________________________________________\n",
            "conv2d_82 (Conv2D)           (None, 4, 4, 128)         73856     \n",
            "_________________________________________________________________\n",
            "max_pooling2d_54 (MaxPooling (None, 2, 2, 128)         0         \n",
            "_________________________________________________________________\n",
            "dropout_15 (Dropout)         (None, 2, 2, 128)         0         \n",
            "_________________________________________________________________\n",
            "flatten_8 (Flatten)          (None, 512)               0         \n",
            "_________________________________________________________________\n",
            "dense_15 (Dense)             (None, 256)               131328    \n",
            "_________________________________________________________________\n",
            "dropout_16 (Dropout)         (None, 256)               0         \n",
            "_________________________________________________________________\n",
            "dense_16 (Dense)             (None, 10)                2570      \n",
            "=================================================================\n",
            "Total params: 236,394\n",
            "Trainable params: 236,394\n",
            "Non-trainable params: 0\n",
            "_________________________________________________________________\n"
          ],
          "name": "stdout"
        }
      ]
    },
    {
      "metadata": {
        "id": "r9PRoeoTzDCL",
        "colab_type": "text"
      },
      "cell_type": "markdown",
      "source": [
        "**Compile and Train the network:**"
      ]
    },
    {
      "metadata": {
        "id": "ybmteRROzGJH",
        "colab_type": "code",
        "colab": {
          "base_uri": "https://localhost:8080/",
          "height": 1872
        },
        "outputId": "c92df215-dd1b-4da8-d748-9ad2fd150e65"
      },
      "cell_type": "code",
      "source": [
        "network.compile(optimizer='rmsprop', loss='categorical_crossentropy', metrics=['accuracy'])\n",
        "\n",
        "network.fit(train_images, train_labels, batch_size=batch_size, epochs=epochs, verbose=1)"
      ],
      "execution_count": 57,
      "outputs": [
        {
          "output_type": "stream",
          "text": [
            "Epoch 1/50\n",
            "40000/40000 [==============================] - 8s 194us/step - loss: 2.0025 - acc: 0.2699\n",
            "Epoch 2/50\n",
            "40000/40000 [==============================] - 6s 151us/step - loss: 1.6803 - acc: 0.3915\n",
            "Epoch 3/50\n",
            "40000/40000 [==============================] - 6s 155us/step - loss: 1.5095 - acc: 0.4566\n",
            "Epoch 4/50\n",
            "40000/40000 [==============================] - 6s 150us/step - loss: 1.3769 - acc: 0.5098\n",
            "Epoch 5/50\n",
            "40000/40000 [==============================] - 6s 151us/step - loss: 1.2705 - acc: 0.5491\n",
            "Epoch 6/50\n",
            "40000/40000 [==============================] - 6s 152us/step - loss: 1.1868 - acc: 0.5796\n",
            "Epoch 7/50\n",
            "40000/40000 [==============================] - 6s 153us/step - loss: 1.1133 - acc: 0.6074\n",
            "Epoch 8/50\n",
            "40000/40000 [==============================] - 6s 154us/step - loss: 1.0447 - acc: 0.6310\n",
            "Epoch 9/50\n",
            "40000/40000 [==============================] - 6s 152us/step - loss: 0.9937 - acc: 0.6512\n",
            "Epoch 10/50\n",
            "40000/40000 [==============================] - 6s 152us/step - loss: 0.9391 - acc: 0.6720\n",
            "Epoch 11/50\n",
            "40000/40000 [==============================] - 6s 155us/step - loss: 0.8910 - acc: 0.6869\n",
            "Epoch 12/50\n",
            "40000/40000 [==============================] - 6s 153us/step - loss: 0.8520 - acc: 0.7007\n",
            "Epoch 13/50\n",
            "40000/40000 [==============================] - 6s 152us/step - loss: 0.8183 - acc: 0.7134\n",
            "Epoch 14/50\n",
            "40000/40000 [==============================] - 6s 153us/step - loss: 0.7893 - acc: 0.7241\n",
            "Epoch 15/50\n",
            "40000/40000 [==============================] - 6s 155us/step - loss: 0.7560 - acc: 0.7352\n",
            "Epoch 16/50\n",
            "40000/40000 [==============================] - 6s 157us/step - loss: 0.7357 - acc: 0.7411\n",
            "Epoch 17/50\n",
            "40000/40000 [==============================] - 6s 154us/step - loss: 0.7093 - acc: 0.7516\n",
            "Epoch 18/50\n",
            "40000/40000 [==============================] - 6s 155us/step - loss: 0.6862 - acc: 0.7616\n",
            "Epoch 19/50\n",
            "40000/40000 [==============================] - 6s 155us/step - loss: 0.6705 - acc: 0.7648\n",
            "Epoch 20/50\n",
            "40000/40000 [==============================] - 6s 152us/step - loss: 0.6480 - acc: 0.7725\n",
            "Epoch 21/50\n",
            "40000/40000 [==============================] - 6s 154us/step - loss: 0.6307 - acc: 0.7767\n",
            "Epoch 22/50\n",
            "40000/40000 [==============================] - 6s 153us/step - loss: 0.6121 - acc: 0.7831\n",
            "Epoch 23/50\n",
            "40000/40000 [==============================] - 6s 152us/step - loss: 0.5962 - acc: 0.7903\n",
            "Epoch 24/50\n",
            "40000/40000 [==============================] - 6s 155us/step - loss: 0.5799 - acc: 0.7949\n",
            "Epoch 25/50\n",
            "40000/40000 [==============================] - 6s 151us/step - loss: 0.5730 - acc: 0.7982\n",
            "Epoch 26/50\n",
            "40000/40000 [==============================] - 6s 153us/step - loss: 0.5669 - acc: 0.8002\n",
            "Epoch 27/50\n",
            "40000/40000 [==============================] - 6s 156us/step - loss: 0.5484 - acc: 0.8062\n",
            "Epoch 28/50\n",
            "40000/40000 [==============================] - 6s 153us/step - loss: 0.5350 - acc: 0.8121\n",
            "Epoch 29/50\n",
            "40000/40000 [==============================] - 6s 154us/step - loss: 0.5256 - acc: 0.8153\n",
            "Epoch 30/50\n",
            "40000/40000 [==============================] - 6s 154us/step - loss: 0.5177 - acc: 0.8175\n",
            "Epoch 31/50\n",
            "40000/40000 [==============================] - 6s 151us/step - loss: 0.5058 - acc: 0.8227\n",
            "Epoch 32/50\n",
            "40000/40000 [==============================] - 5s 124us/step - loss: 0.4999 - acc: 0.8219\n",
            "Epoch 33/50\n",
            "40000/40000 [==============================] - 5s 125us/step - loss: 0.4888 - acc: 0.8264\n",
            "Epoch 34/50\n",
            "40000/40000 [==============================] - 5s 125us/step - loss: 0.4813 - acc: 0.8300\n",
            "Epoch 35/50\n",
            "40000/40000 [==============================] - 5s 124us/step - loss: 0.4756 - acc: 0.8324\n",
            "Epoch 36/50\n",
            "40000/40000 [==============================] - 5s 124us/step - loss: 0.4654 - acc: 0.8350\n",
            "Epoch 37/50\n",
            "40000/40000 [==============================] - 5s 124us/step - loss: 0.4558 - acc: 0.8386\n",
            "Epoch 38/50\n",
            "40000/40000 [==============================] - 5s 125us/step - loss: 0.4485 - acc: 0.8425\n",
            "Epoch 39/50\n",
            "40000/40000 [==============================] - 5s 124us/step - loss: 0.4485 - acc: 0.8408\n",
            "Epoch 40/50\n",
            "40000/40000 [==============================] - 5s 125us/step - loss: 0.4432 - acc: 0.8418\n",
            "Epoch 41/50\n",
            "40000/40000 [==============================] - 5s 124us/step - loss: 0.4321 - acc: 0.8453\n",
            "Epoch 42/50\n",
            "40000/40000 [==============================] - 5s 124us/step - loss: 0.4290 - acc: 0.8482\n",
            "Epoch 43/50\n",
            "40000/40000 [==============================] - 5s 124us/step - loss: 0.4230 - acc: 0.8511\n",
            "Epoch 44/50\n",
            "40000/40000 [==============================] - 5s 125us/step - loss: 0.4213 - acc: 0.8520\n",
            "Epoch 45/50\n",
            "40000/40000 [==============================] - 5s 125us/step - loss: 0.4176 - acc: 0.8516\n",
            "Epoch 46/50\n",
            "40000/40000 [==============================] - 5s 124us/step - loss: 0.4149 - acc: 0.8528\n",
            "Epoch 47/50\n",
            "40000/40000 [==============================] - 5s 130us/step - loss: 0.4063 - acc: 0.8567\n",
            "Epoch 48/50\n",
            "40000/40000 [==============================] - 5s 124us/step - loss: 0.3969 - acc: 0.8587\n",
            "Epoch 49/50\n",
            "40000/40000 [==============================] - 5s 125us/step - loss: 0.3986 - acc: 0.8590\n",
            "Epoch 50/50\n",
            "40000/40000 [==============================] - 5s 125us/step - loss: 0.3929 - acc: 0.8590\n"
          ],
          "name": "stdout"
        },
        {
          "output_type": "execute_result",
          "data": {
            "text/plain": [
              "<keras.callbacks.History at 0x7f9cf3461518>"
            ]
          },
          "metadata": {
            "tags": []
          },
          "execution_count": 57
        }
      ]
    },
    {
      "metadata": {
        "id": "ZRWBloclzFq5",
        "colab_type": "text"
      },
      "cell_type": "markdown",
      "source": [
        "**Evaluate the network on the Validation Set:**"
      ]
    },
    {
      "metadata": {
        "id": "zcBNY8XlzffY",
        "colab_type": "code",
        "colab": {
          "base_uri": "https://localhost:8080/",
          "height": 54
        },
        "outputId": "4050f152-97bf-4bec-d27f-3e9eec6744b2"
      },
      "cell_type": "code",
      "source": [
        "score = network.evaluate(val_images, val_labels, verbose=0)\n",
        "print('Validation loss:', score[0])\n",
        "print('Validation accuracy:', score[1]*100,\"%\")"
      ],
      "execution_count": 58,
      "outputs": [
        {
          "output_type": "stream",
          "text": [
            "Validation loss: 0.6663036602973939\n",
            "Validation accuracy: 78.94 %\n"
          ],
          "name": "stdout"
        }
      ]
    }
  ]
}
{
  "nbformat": 4,
  "nbformat_minor": 0,
  "metadata": {
    "colab": {
      "name": "Final Model.ipynb",
      "version": "0.3.2",
      "provenance": [],
      "collapsed_sections": [],
      "include_colab_link": true
    },
    "kernelspec": {
      "name": "python3",
      "display_name": "Python 3"
    },
    "accelerator": "GPU"
  },
  "cells": [
    {
      "cell_type": "markdown",
      "metadata": {
        "id": "view-in-github",
        "colab_type": "text"
      },
      "source": [
        "<a href=\"https://colab.research.google.com/github/scumulder/Machine-Learning-Spring-2019-UCF/blob/master/Homework%202/Final_Model.ipynb\" target=\"_parent\"><img src=\"https://colab.research.google.com/assets/colab-badge.svg\" alt=\"Open In Colab\"/></a>"
      ]
    },
    {
      "metadata": {
        "id": "bUQuzCJfd6_l",
        "colab_type": "text"
      },
      "cell_type": "markdown",
      "source": [
        "**About this CNN:**\n",
        "\n",
        "\n",
        "---\n",
        "This final Convolutional Neural Network is based on the Model 2 architecture (provided in my Homework 2 repository.\n",
        "\n",
        "It achieves a test accuracy of 78.93% in 25 epochs. \n",
        "\n",
        "Network Architecture:\n",
        "\n",
        "       {Conv2D + ReLU} -> {Conv2D + ReLU} -> maxpool -> {Conv2D + ReLU} -> {Conv2D + ReLU} -> maxpool -> Fully Connected Layers\n",
        "\n",
        "\n",
        "---\n",
        "\n",
        "\n"
      ]
    },
    {
      "metadata": {
        "id": "k7CvruGz7gs9",
        "colab_type": "text"
      },
      "cell_type": "markdown",
      "source": [
        "**About the CIFAR-10 Dataset**\n",
        "\n",
        "The CIFAR-10 dataset consists of 60000 32x32 colour images in 10 classes, with 6000 images per class. There are 50000 training images and 10000 test images.\n",
        "\n",
        "The dataset is divided into **five training batches** and **one test batch**, each with 10000 images, i.e. 10000 x 3072 numpy array. \n",
        "\n",
        "Between them, the training batches contain exactly 5000 images from each class. The test batch contains exactly 1000 randomly-selected images from each class.  \n",
        "\n"
      ]
    },
    {
      "metadata": {
        "id": "z2OyH0McfQrk",
        "colab_type": "text"
      },
      "cell_type": "markdown",
      "source": [
        "**Loading the CIFAR10 data set:**\n"
      ]
    },
    {
      "metadata": {
        "id": "ZTLW9Fr8abTF",
        "colab_type": "code",
        "colab": {}
      },
      "cell_type": "code",
      "source": [
        "from keras.datasets import cifar10\n",
        "(train_images, train_labels), (test_images, test_labels) = cifar10.load_data()\n",
        "\n",
        "#X_train = train_images\n",
        "#Y_train = train_labels\n",
        "\n",
        "#X_test = test_images\n",
        "#Y_test = test_labels"
      ],
      "execution_count": 0,
      "outputs": []
    },
    {
      "metadata": {
        "id": "UbVjM9Axko4E",
        "colab_type": "text"
      },
      "cell_type": "markdown",
      "source": [
        "**Prepare the training and validation image data:**"
      ]
    },
    {
      "metadata": {
        "id": "mLVSOteyj_2h",
        "colab_type": "code",
        "colab": {}
      },
      "cell_type": "code",
      "source": [
        "train_images = train_images.astype('float32')/ 255\n",
        "test_images = test_images.astype('float32')/ 255"
      ],
      "execution_count": 0,
      "outputs": []
    },
    {
      "metadata": {
        "id": "FFOxljsnhUSl",
        "colab_type": "text"
      },
      "cell_type": "markdown",
      "source": [
        "**Prepare the labels:**\n",
        "\n",
        "    airplane : 0     automobile : 1    bird : 2    cat : 3          deer : 4       dog : 5    frog : 6         horse : 7         ship : 8          truck : 9"
      ]
    },
    {
      "metadata": {
        "id": "Bpc_TIJDhTjd",
        "colab_type": "code",
        "outputId": "fe4a68fa-86b8-4d93-b4af-051cf0dd906a",
        "colab": {
          "base_uri": "https://localhost:8080/",
          "height": 54
        }
      },
      "cell_type": "code",
      "source": [
        "from keras.utils.np_utils import to_categorical   \n",
        "\n",
        "train_labels = to_categorical(train_labels)\n",
        "test_labels = to_categorical(test_labels)\n",
        "\n",
        "print('Training label shape:', train_labels.shape)\n",
        "print('Test label shape:', test_labels.shape)"
      ],
      "execution_count": 29,
      "outputs": [
        {
          "output_type": "stream",
          "text": [
            "Training label shape: (50000, 10)\n",
            "Test label shape: (10000, 10)\n"
          ],
          "name": "stdout"
        }
      ]
    },
    {
      "metadata": {
        "id": "XYiv_siQGvPR",
        "colab_type": "text"
      },
      "cell_type": "markdown",
      "source": [
        "**Convolutional Neural Network Architecture:**"
      ]
    },
    {
      "metadata": {
        "colab_type": "code",
        "id": "LbLzQ7E903zP",
        "outputId": "648a9415-c36b-4901-be0f-9e204ac9d751",
        "colab": {
          "base_uri": "https://localhost:8080/",
          "height": 550
        }
      },
      "cell_type": "code",
      "source": [
        "from keras import models\n",
        "from keras import layers\n",
        "\n",
        "batch_size = 256\n",
        "num_classes = 10\n",
        "epochs = 25\n",
        "\n",
        "network = models.Sequential()\n",
        "\n",
        "network.add(layers.Conv2D(32, (3, 3), activation='relu', input_shape=(32, 32, 3)))\n",
        "network.add(layers.Conv2D(64, (3, 3), activation='relu'))\n",
        "network.add(layers.MaxPooling2D(pool_size = (2, 2)))\n",
        "network.add(layers.Conv2D(128, (3, 3), activation='relu'))\n",
        "network.add(layers.Conv2D(256, (3, 3), activation='relu'))\n",
        "network.add(layers.MaxPooling2D(pool_size = (2, 2)))\n",
        "network.add(layers.Dropout(0.25))\n",
        "network.add(layers.Flatten())\n",
        "network.add(layers.Dense(256, activation='relu'))\n",
        "network.add(layers.Dropout(0.50))\n",
        "network.add(layers.Dense(num_classes, activation='softmax'))\n",
        "network.summary()"
      ],
      "execution_count": 30,
      "outputs": [
        {
          "output_type": "stream",
          "text": [
            "_________________________________________________________________\n",
            "Layer (type)                 Output Shape              Param #   \n",
            "=================================================================\n",
            "conv2d_13 (Conv2D)           (None, 30, 30, 32)        896       \n",
            "_________________________________________________________________\n",
            "conv2d_14 (Conv2D)           (None, 28, 28, 64)        18496     \n",
            "_________________________________________________________________\n",
            "max_pooling2d_7 (MaxPooling2 (None, 14, 14, 64)        0         \n",
            "_________________________________________________________________\n",
            "conv2d_15 (Conv2D)           (None, 12, 12, 128)       73856     \n",
            "_________________________________________________________________\n",
            "conv2d_16 (Conv2D)           (None, 10, 10, 256)       295168    \n",
            "_________________________________________________________________\n",
            "max_pooling2d_8 (MaxPooling2 (None, 5, 5, 256)         0         \n",
            "_________________________________________________________________\n",
            "dropout_7 (Dropout)          (None, 5, 5, 256)         0         \n",
            "_________________________________________________________________\n",
            "flatten_4 (Flatten)          (None, 6400)              0         \n",
            "_________________________________________________________________\n",
            "dense_7 (Dense)              (None, 256)               1638656   \n",
            "_________________________________________________________________\n",
            "dropout_8 (Dropout)          (None, 256)               0         \n",
            "_________________________________________________________________\n",
            "dense_8 (Dense)              (None, 10)                2570      \n",
            "=================================================================\n",
            "Total params: 2,029,642\n",
            "Trainable params: 2,029,642\n",
            "Non-trainable params: 0\n",
            "_________________________________________________________________\n"
          ],
          "name": "stdout"
        }
      ]
    },
    {
      "metadata": {
        "id": "-n4OxnBsLVfY",
        "colab_type": "text"
      },
      "cell_type": "markdown",
      "source": [
        "**Compile the network:**"
      ]
    },
    {
      "metadata": {
        "id": "mpfOvohQLPL_",
        "colab_type": "code",
        "colab": {}
      },
      "cell_type": "code",
      "source": [
        "network.compile(optimizer='rmsprop', loss='categorical_crossentropy', metrics=['accuracy'])"
      ],
      "execution_count": 0,
      "outputs": []
    },
    {
      "metadata": {
        "id": "r9PRoeoTzDCL",
        "colab_type": "text"
      },
      "cell_type": "markdown",
      "source": [
        "**Train the network:**"
      ]
    },
    {
      "metadata": {
        "id": "ybmteRROzGJH",
        "colab_type": "code",
        "outputId": "3b9a1187-b03c-4be9-e51b-61df312e172e",
        "colab": {
          "base_uri": "https://localhost:8080/",
          "height": 954
        }
      },
      "cell_type": "code",
      "source": [
        "network.fit(train_images, train_labels, batch_size=batch_size, epochs=epochs, verbose=1)"
      ],
      "execution_count": 32,
      "outputs": [
        {
          "output_type": "stream",
          "text": [
            "Epoch 1/25\n",
            "50000/50000 [==============================] - 13s 251us/step - loss: 1.9121 - acc: 0.3086\n",
            "Epoch 2/25\n",
            "50000/50000 [==============================] - 12s 239us/step - loss: 1.4386 - acc: 0.4887\n",
            "Epoch 3/25\n",
            "50000/50000 [==============================] - 12s 239us/step - loss: 1.2045 - acc: 0.5784\n",
            "Epoch 4/25\n",
            "50000/50000 [==============================] - 12s 238us/step - loss: 1.0317 - acc: 0.6422\n",
            "Epoch 5/25\n",
            "50000/50000 [==============================] - 12s 237us/step - loss: 0.9093 - acc: 0.6862\n",
            "Epoch 6/25\n",
            "50000/50000 [==============================] - 12s 238us/step - loss: 0.8168 - acc: 0.7190\n",
            "Epoch 7/25\n",
            "50000/50000 [==============================] - 12s 237us/step - loss: 0.7364 - acc: 0.7471\n",
            "Epoch 8/25\n",
            "50000/50000 [==============================] - 12s 237us/step - loss: 0.6704 - acc: 0.7691\n",
            "Epoch 9/25\n",
            "50000/50000 [==============================] - 12s 237us/step - loss: 0.6048 - acc: 0.7917\n",
            "Epoch 10/25\n",
            "50000/50000 [==============================] - 12s 237us/step - loss: 0.5590 - acc: 0.8058\n",
            "Epoch 11/25\n",
            "50000/50000 [==============================] - 12s 237us/step - loss: 0.5142 - acc: 0.8240\n",
            "Epoch 12/25\n",
            "50000/50000 [==============================] - 12s 237us/step - loss: 0.4774 - acc: 0.8340\n",
            "Epoch 13/25\n",
            "50000/50000 [==============================] - 12s 237us/step - loss: 0.4398 - acc: 0.8472\n",
            "Epoch 14/25\n",
            "50000/50000 [==============================] - 12s 236us/step - loss: 0.4114 - acc: 0.8586\n",
            "Epoch 15/25\n",
            "50000/50000 [==============================] - 12s 237us/step - loss: 0.3849 - acc: 0.8685\n",
            "Epoch 16/25\n",
            "50000/50000 [==============================] - 12s 238us/step - loss: 0.3660 - acc: 0.8739\n",
            "Epoch 17/25\n",
            "50000/50000 [==============================] - 12s 237us/step - loss: 0.3504 - acc: 0.8801\n",
            "Epoch 18/25\n",
            "50000/50000 [==============================] - 12s 237us/step - loss: 0.3365 - acc: 0.8870\n",
            "Epoch 19/25\n",
            "50000/50000 [==============================] - 12s 236us/step - loss: 0.3281 - acc: 0.8906\n",
            "Epoch 20/25\n",
            "50000/50000 [==============================] - 12s 236us/step - loss: 0.3104 - acc: 0.8970\n",
            "Epoch 21/25\n",
            "50000/50000 [==============================] - 12s 237us/step - loss: 0.3060 - acc: 0.9010\n",
            "Epoch 22/25\n",
            "50000/50000 [==============================] - 12s 236us/step - loss: 0.2961 - acc: 0.9021\n",
            "Epoch 23/25\n",
            "50000/50000 [==============================] - 12s 236us/step - loss: 0.2979 - acc: 0.9036\n",
            "Epoch 24/25\n",
            "50000/50000 [==============================] - 12s 236us/step - loss: 0.2916 - acc: 0.9071\n",
            "Epoch 25/25\n",
            "50000/50000 [==============================] - 12s 237us/step - loss: 0.2825 - acc: 0.9101\n"
          ],
          "name": "stdout"
        },
        {
          "output_type": "execute_result",
          "data": {
            "text/plain": [
              "<keras.callbacks.History at 0x7fc88019ef98>"
            ]
          },
          "metadata": {
            "tags": []
          },
          "execution_count": 32
        }
      ]
    },
    {
      "metadata": {
        "id": "ZRWBloclzFq5",
        "colab_type": "text"
      },
      "cell_type": "markdown",
      "source": [
        "**Evaluate the network on the Validation Set:**"
      ]
    },
    {
      "metadata": {
        "id": "zcBNY8XlzffY",
        "colab_type": "code",
        "outputId": "d1e6b43c-16a2-40d1-efc7-6a75ab017734",
        "colab": {
          "base_uri": "https://localhost:8080/",
          "height": 54
        }
      },
      "cell_type": "code",
      "source": [
        "score = network.evaluate(test_images, test_labels, verbose=0)\n",
        "print('Test loss:', score[0])\n",
        "print('Test accuracy:', score[1]*100,\"%\")"
      ],
      "execution_count": 33,
      "outputs": [
        {
          "output_type": "stream",
          "text": [
            "Test loss: 0.7620107914447785\n",
            "Test accuracy: 78.93 %\n"
          ],
          "name": "stdout"
        }
      ]
    }
  ]
}

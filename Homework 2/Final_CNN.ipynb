{
  "nbformat": 4,
  "nbformat_minor": 0,
  "metadata": {
    "colab": {
      "name": "Final CNN.ipynb",
      "version": "0.3.2",
      "provenance": [],
      "collapsed_sections": [],
      "include_colab_link": true
    },
    "kernelspec": {
      "name": "python3",
      "display_name": "Python 3"
    },
    "accelerator": "GPU"
  },
  "cells": [
    {
      "cell_type": "markdown",
      "metadata": {
        "id": "view-in-github",
        "colab_type": "text"
      },
      "source": [
        "<a href=\"https://colab.research.google.com/github/scumulder/Machine-Learning-Spring-2019-UCF/blob/master/Homework%202/Final_CNN.ipynb\" target=\"_parent\"><img src=\"https://colab.research.google.com/assets/colab-badge.svg\" alt=\"Open In Colab\"/></a>"
      ]
    },
    {
      "metadata": {
        "id": "bUQuzCJfd6_l",
        "colab_type": "text"
      },
      "cell_type": "markdown",
      "source": [
        "**About this CNN:**\n",
        "\n",
        "\n",
        "---\n",
        "This is the chosen architecture for performing Simple Hold-Out Validation. It is based on the model CNN4, the code for which can found in the Homework 2 repository.\n",
        "\n",
        "It achieves a test accuracy of 77.79% in 50 epochs. \n",
        "\n",
        "*   No Data Augmentation\n",
        "*   Four Dropouts\n",
        "*   Conv2D Filter sizes: 32, 32, 64, 128\n",
        "*   Dense layer filter sizes: 256, 10\n",
        "\n",
        "\n",
        "\n",
        "---\n",
        "\n",
        "\n"
      ]
    },
    {
      "metadata": {
        "id": "k7CvruGz7gs9",
        "colab_type": "text"
      },
      "cell_type": "markdown",
      "source": [
        "**About the CIFAR-10 Dataset**\n",
        "\n",
        "The CIFAR-10 dataset consists of 60000 32x32 colour images in 10 classes, with 6000 images per class. There are 50000 training images and 10000 test images.\n",
        "\n",
        "The dataset is divided into **five training batches** and **one test batch**, each with 10000 images, i.e. 10000 x 3072 numpy array. \n",
        "\n",
        "Between them, the training batches contain exactly 5000 images from each class. The test batch contains exactly 1000 randomly-selected images from each class.  \n",
        "\n"
      ]
    },
    {
      "metadata": {
        "id": "z2OyH0McfQrk",
        "colab_type": "text"
      },
      "cell_type": "markdown",
      "source": [
        "**Loading the CIFAR10 data set:**\n"
      ]
    },
    {
      "metadata": {
        "id": "ZTLW9Fr8abTF",
        "colab_type": "code",
        "colab": {}
      },
      "cell_type": "code",
      "source": [
        "from keras.datasets import cifar10\n",
        "(train_images, train_labels), (test_images, test_labels) = cifar10.load_data()\n",
        "\n",
        "#X_train = train_images\n",
        "#Y_train = train_labels\n",
        "\n",
        "#X_test = test_images\n",
        "#Y_test = test_labels"
      ],
      "execution_count": 0,
      "outputs": []
    },
    {
      "metadata": {
        "id": "UbVjM9Axko4E",
        "colab_type": "text"
      },
      "cell_type": "markdown",
      "source": [
        "**Prepare the training and validation image data:**"
      ]
    },
    {
      "metadata": {
        "id": "mLVSOteyj_2h",
        "colab_type": "code",
        "colab": {}
      },
      "cell_type": "code",
      "source": [
        "train_images = train_images.astype('float32')/ 255\n",
        "test_images = test_images.astype('float32')/ 255"
      ],
      "execution_count": 0,
      "outputs": []
    },
    {
      "metadata": {
        "id": "FFOxljsnhUSl",
        "colab_type": "text"
      },
      "cell_type": "markdown",
      "source": [
        "**Prepare the labels:**\n",
        "\n",
        "    airplane : 0     automobile : 1    bird : 2    cat : 3          deer : 4       dog : 5    frog : 6         horse : 7         ship : 8          truck : 9"
      ]
    },
    {
      "metadata": {
        "id": "Bpc_TIJDhTjd",
        "colab_type": "code",
        "colab": {
          "base_uri": "https://localhost:8080/",
          "height": 54
        },
        "outputId": "7b5cfbbb-6a79-4401-95d7-f6d82b7aaf7d"
      },
      "cell_type": "code",
      "source": [
        "from keras.utils.np_utils import to_categorical   \n",
        "\n",
        "train_labels = to_categorical(train_labels)\n",
        "test_labels = to_categorical(test_labels)\n",
        "\n",
        "print('Training label shape:', train_labels.shape)\n",
        "print('Test label shape:', test_labels.shape)"
      ],
      "execution_count": 10,
      "outputs": [
        {
          "output_type": "stream",
          "text": [
            "Training label shape: (50000, 10)\n",
            "Test label shape: (10000, 10)\n"
          ],
          "name": "stdout"
        }
      ]
    },
    {
      "metadata": {
        "id": "XYiv_siQGvPR",
        "colab_type": "text"
      },
      "cell_type": "markdown",
      "source": [
        "**Convolutional Neural Network Architecture:**"
      ]
    },
    {
      "metadata": {
        "colab_type": "code",
        "id": "LbLzQ7E903zP",
        "colab": {
          "base_uri": "https://localhost:8080/",
          "height": 660
        },
        "outputId": "4edd4796-ad9e-4bf6-ce6a-005e13119cb3"
      },
      "cell_type": "code",
      "source": [
        "from keras import models\n",
        "from keras import layers\n",
        "\n",
        "batch_size = 256\n",
        "num_classes = 10\n",
        "epochs = 50\n",
        "\n",
        "network = models.Sequential()\n",
        "\n",
        "network.add(layers.Conv2D(32, (3, 3), activation='relu', input_shape=(32, 32, 3)))\n",
        "network.add(layers.Conv2D(32, (3, 3), activation='relu'))\n",
        "network.add(layers.MaxPooling2D(pool_size = (2, 2)))\n",
        "network.add(layers.Dropout(0.15))\n",
        "\n",
        "network.add(layers.Conv2D(64, (3, 3), activation='relu'))\n",
        "network.add(layers.MaxPooling2D(pool_size = (2, 2)))\n",
        "network.add(layers.Dropout(0.15))\n",
        "\n",
        "network.add(layers.Conv2D(128, (3, 3), activation='relu'))\n",
        "network.add(layers.MaxPooling2D(pool_size = (2, 2)))\n",
        "network.add(layers.Dropout(0.15))\n",
        "\n",
        "network.add(layers.Flatten())\n",
        "\n",
        "\n",
        "network.add(layers.Dense(256, activation='relu'))\n",
        "network.add(layers.Dropout(0.35))\n",
        "network.add(layers.Dense(num_classes, activation='softmax'))\n",
        "network.summary()"
      ],
      "execution_count": 11,
      "outputs": [
        {
          "output_type": "stream",
          "text": [
            "_________________________________________________________________\n",
            "Layer (type)                 Output Shape              Param #   \n",
            "=================================================================\n",
            "conv2d_5 (Conv2D)            (None, 30, 30, 32)        896       \n",
            "_________________________________________________________________\n",
            "conv2d_6 (Conv2D)            (None, 28, 28, 32)        9248      \n",
            "_________________________________________________________________\n",
            "max_pooling2d_3 (MaxPooling2 (None, 14, 14, 32)        0         \n",
            "_________________________________________________________________\n",
            "dropout_3 (Dropout)          (None, 14, 14, 32)        0         \n",
            "_________________________________________________________________\n",
            "conv2d_7 (Conv2D)            (None, 12, 12, 64)        18496     \n",
            "_________________________________________________________________\n",
            "max_pooling2d_4 (MaxPooling2 (None, 6, 6, 64)          0         \n",
            "_________________________________________________________________\n",
            "dropout_4 (Dropout)          (None, 6, 6, 64)          0         \n",
            "_________________________________________________________________\n",
            "conv2d_8 (Conv2D)            (None, 4, 4, 128)         73856     \n",
            "_________________________________________________________________\n",
            "max_pooling2d_5 (MaxPooling2 (None, 2, 2, 128)         0         \n",
            "_________________________________________________________________\n",
            "dropout_5 (Dropout)          (None, 2, 2, 128)         0         \n",
            "_________________________________________________________________\n",
            "flatten_2 (Flatten)          (None, 512)               0         \n",
            "_________________________________________________________________\n",
            "dense_3 (Dense)              (None, 256)               131328    \n",
            "_________________________________________________________________\n",
            "dropout_6 (Dropout)          (None, 256)               0         \n",
            "_________________________________________________________________\n",
            "dense_4 (Dense)              (None, 10)                2570      \n",
            "=================================================================\n",
            "Total params: 236,394\n",
            "Trainable params: 236,394\n",
            "Non-trainable params: 0\n",
            "_________________________________________________________________\n"
          ],
          "name": "stdout"
        }
      ]
    },
    {
      "metadata": {
        "id": "r9PRoeoTzDCL",
        "colab_type": "text"
      },
      "cell_type": "markdown",
      "source": [
        "**Compile and Train the network:**"
      ]
    },
    {
      "metadata": {
        "id": "ybmteRROzGJH",
        "colab_type": "code",
        "colab": {
          "base_uri": "https://localhost:8080/",
          "height": 1890
        },
        "outputId": "13943c58-41e1-4837-e6db-277ea4d1cefe"
      },
      "cell_type": "code",
      "source": [
        "network.compile(optimizer='rmsprop', loss='categorical_crossentropy', metrics=['accuracy'])\n",
        "network.fit(train_images, train_labels, batch_size=batch_size, epochs=epochs, verbose=1, validation_split = 0.2)"
      ],
      "execution_count": 12,
      "outputs": [
        {
          "output_type": "stream",
          "text": [
            "Train on 40000 samples, validate on 10000 samples\n",
            "Epoch 1/50\n",
            "40000/40000 [==============================] - 9s 213us/step - loss: 2.0200 - acc: 0.2582 - val_loss: 1.7029 - val_acc: 0.3771\n",
            "Epoch 2/50\n",
            "40000/40000 [==============================] - 7s 186us/step - loss: 1.6661 - acc: 0.3980 - val_loss: 1.5631 - val_acc: 0.4406\n",
            "Epoch 3/50\n",
            "40000/40000 [==============================] - 7s 185us/step - loss: 1.4784 - acc: 0.4655 - val_loss: 1.7254 - val_acc: 0.4045\n",
            "Epoch 4/50\n",
            "40000/40000 [==============================] - 7s 185us/step - loss: 1.3595 - acc: 0.5158 - val_loss: 1.2810 - val_acc: 0.5480\n",
            "Epoch 5/50\n",
            "40000/40000 [==============================] - 7s 183us/step - loss: 1.2559 - acc: 0.5554 - val_loss: 1.1799 - val_acc: 0.5832\n",
            "Epoch 6/50\n",
            "40000/40000 [==============================] - 7s 183us/step - loss: 1.1729 - acc: 0.5859 - val_loss: 1.1383 - val_acc: 0.5902\n",
            "Epoch 7/50\n",
            "40000/40000 [==============================] - 7s 182us/step - loss: 1.1029 - acc: 0.6143 - val_loss: 1.0401 - val_acc: 0.6420\n",
            "Epoch 8/50\n",
            "40000/40000 [==============================] - 7s 184us/step - loss: 1.0371 - acc: 0.6352 - val_loss: 1.0161 - val_acc: 0.6521\n",
            "Epoch 9/50\n",
            "40000/40000 [==============================] - 7s 182us/step - loss: 0.9796 - acc: 0.6545 - val_loss: 0.9424 - val_acc: 0.6665\n",
            "Epoch 10/50\n",
            "40000/40000 [==============================] - 7s 183us/step - loss: 0.9350 - acc: 0.6693 - val_loss: 1.0136 - val_acc: 0.6440\n",
            "Epoch 11/50\n",
            "40000/40000 [==============================] - 7s 184us/step - loss: 0.8921 - acc: 0.6870 - val_loss: 0.9720 - val_acc: 0.6592\n",
            "Epoch 12/50\n",
            "40000/40000 [==============================] - 7s 187us/step - loss: 0.8583 - acc: 0.6993 - val_loss: 0.9070 - val_acc: 0.6741\n",
            "Epoch 13/50\n",
            "40000/40000 [==============================] - 7s 181us/step - loss: 0.8178 - acc: 0.7137 - val_loss: 0.9139 - val_acc: 0.6803\n",
            "Epoch 14/50\n",
            "40000/40000 [==============================] - 7s 184us/step - loss: 0.7823 - acc: 0.7236 - val_loss: 0.7768 - val_acc: 0.7298\n",
            "Epoch 15/50\n",
            "40000/40000 [==============================] - 7s 183us/step - loss: 0.7571 - acc: 0.7359 - val_loss: 0.8447 - val_acc: 0.7039\n",
            "Epoch 16/50\n",
            "40000/40000 [==============================] - 7s 180us/step - loss: 0.7387 - acc: 0.7418 - val_loss: 0.8589 - val_acc: 0.7044\n",
            "Epoch 17/50\n",
            "40000/40000 [==============================] - 7s 184us/step - loss: 0.7067 - acc: 0.7541 - val_loss: 0.7894 - val_acc: 0.7228\n",
            "Epoch 18/50\n",
            "40000/40000 [==============================] - 7s 182us/step - loss: 0.6876 - acc: 0.7568 - val_loss: 0.7916 - val_acc: 0.7252\n",
            "Epoch 19/50\n",
            "40000/40000 [==============================] - 7s 183us/step - loss: 0.6717 - acc: 0.7673 - val_loss: 0.8692 - val_acc: 0.7001\n",
            "Epoch 20/50\n",
            "40000/40000 [==============================] - 7s 185us/step - loss: 0.6482 - acc: 0.7703 - val_loss: 0.9228 - val_acc: 0.7009\n",
            "Epoch 21/50\n",
            "40000/40000 [==============================] - 7s 182us/step - loss: 0.6304 - acc: 0.7768 - val_loss: 0.9863 - val_acc: 0.6901\n",
            "Epoch 22/50\n",
            "40000/40000 [==============================] - 7s 182us/step - loss: 0.6159 - acc: 0.7815 - val_loss: 0.6882 - val_acc: 0.7615\n",
            "Epoch 23/50\n",
            "40000/40000 [==============================] - 7s 181us/step - loss: 0.5979 - acc: 0.7899 - val_loss: 0.7391 - val_acc: 0.7473\n",
            "Epoch 24/50\n",
            "40000/40000 [==============================] - 7s 180us/step - loss: 0.5817 - acc: 0.7941 - val_loss: 0.7340 - val_acc: 0.7483\n",
            "Epoch 25/50\n",
            "40000/40000 [==============================] - 7s 184us/step - loss: 0.5763 - acc: 0.7974 - val_loss: 0.7085 - val_acc: 0.7586\n",
            "Epoch 26/50\n",
            "40000/40000 [==============================] - 7s 181us/step - loss: 0.5591 - acc: 0.8021 - val_loss: 0.6896 - val_acc: 0.7650\n",
            "Epoch 27/50\n",
            "40000/40000 [==============================] - 7s 184us/step - loss: 0.5446 - acc: 0.8071 - val_loss: 0.7054 - val_acc: 0.7559\n",
            "Epoch 28/50\n",
            "40000/40000 [==============================] - 7s 181us/step - loss: 0.5339 - acc: 0.8117 - val_loss: 0.7110 - val_acc: 0.7579\n",
            "Epoch 29/50\n",
            "40000/40000 [==============================] - 7s 182us/step - loss: 0.5191 - acc: 0.8150 - val_loss: 0.7615 - val_acc: 0.7426\n",
            "Epoch 30/50\n",
            "40000/40000 [==============================] - 7s 181us/step - loss: 0.5159 - acc: 0.8168 - val_loss: 0.7383 - val_acc: 0.7556\n",
            "Epoch 31/50\n",
            "40000/40000 [==============================] - 7s 182us/step - loss: 0.5078 - acc: 0.8183 - val_loss: 0.7565 - val_acc: 0.7523\n",
            "Epoch 32/50\n",
            "40000/40000 [==============================] - 7s 184us/step - loss: 0.4964 - acc: 0.8236 - val_loss: 0.8896 - val_acc: 0.7176\n",
            "Epoch 33/50\n",
            "40000/40000 [==============================] - 7s 183us/step - loss: 0.4906 - acc: 0.8259 - val_loss: 0.6691 - val_acc: 0.7799\n",
            "Epoch 34/50\n",
            "40000/40000 [==============================] - 7s 181us/step - loss: 0.4769 - acc: 0.8318 - val_loss: 0.7345 - val_acc: 0.7490\n",
            "Epoch 35/50\n",
            "40000/40000 [==============================] - 7s 181us/step - loss: 0.4679 - acc: 0.8344 - val_loss: 0.6942 - val_acc: 0.7663\n",
            "Epoch 36/50\n",
            "40000/40000 [==============================] - 7s 185us/step - loss: 0.4647 - acc: 0.8344 - val_loss: 0.6663 - val_acc: 0.7833\n",
            "Epoch 37/50\n",
            "40000/40000 [==============================] - 7s 185us/step - loss: 0.4582 - acc: 0.8389 - val_loss: 0.6907 - val_acc: 0.7714\n",
            "Epoch 38/50\n",
            "40000/40000 [==============================] - 7s 181us/step - loss: 0.4550 - acc: 0.8388 - val_loss: 0.6567 - val_acc: 0.7844\n",
            "Epoch 39/50\n",
            "40000/40000 [==============================] - 7s 183us/step - loss: 0.4449 - acc: 0.8427 - val_loss: 0.7038 - val_acc: 0.7725\n",
            "Epoch 40/50\n",
            "40000/40000 [==============================] - 7s 180us/step - loss: 0.4379 - acc: 0.8444 - val_loss: 0.7429 - val_acc: 0.7643\n",
            "Epoch 41/50\n",
            "40000/40000 [==============================] - 7s 179us/step - loss: 0.4318 - acc: 0.8478 - val_loss: 0.7047 - val_acc: 0.7701\n",
            "Epoch 42/50\n",
            "40000/40000 [==============================] - 7s 182us/step - loss: 0.4237 - acc: 0.8492 - val_loss: 0.6801 - val_acc: 0.7834\n",
            "Epoch 43/50\n",
            "40000/40000 [==============================] - 7s 183us/step - loss: 0.4211 - acc: 0.8518 - val_loss: 0.6602 - val_acc: 0.7805\n",
            "Epoch 44/50\n",
            "40000/40000 [==============================] - 7s 184us/step - loss: 0.4136 - acc: 0.8538 - val_loss: 0.6657 - val_acc: 0.7839\n",
            "Epoch 45/50\n",
            "40000/40000 [==============================] - 7s 182us/step - loss: 0.4101 - acc: 0.8543 - val_loss: 0.6931 - val_acc: 0.7803\n",
            "Epoch 46/50\n",
            "40000/40000 [==============================] - 7s 181us/step - loss: 0.4004 - acc: 0.8574 - val_loss: 0.6564 - val_acc: 0.7874\n",
            "Epoch 47/50\n",
            "40000/40000 [==============================] - 7s 182us/step - loss: 0.3995 - acc: 0.8584 - val_loss: 0.7204 - val_acc: 0.7670\n",
            "Epoch 48/50\n",
            "40000/40000 [==============================] - 7s 184us/step - loss: 0.3923 - acc: 0.8596 - val_loss: 0.7136 - val_acc: 0.7777\n",
            "Epoch 49/50\n",
            "40000/40000 [==============================] - 7s 182us/step - loss: 0.3887 - acc: 0.8613 - val_loss: 0.7073 - val_acc: 0.7728\n",
            "Epoch 50/50\n",
            "40000/40000 [==============================] - 7s 180us/step - loss: 0.3888 - acc: 0.8620 - val_loss: 0.6712 - val_acc: 0.7839\n"
          ],
          "name": "stdout"
        },
        {
          "output_type": "execute_result",
          "data": {
            "text/plain": [
              "<keras.callbacks.History at 0x7fdff11aeef0>"
            ]
          },
          "metadata": {
            "tags": []
          },
          "execution_count": 12
        }
      ]
    },
    {
      "metadata": {
        "id": "ZRWBloclzFq5",
        "colab_type": "text"
      },
      "cell_type": "markdown",
      "source": [
        "**Evaluate the network on the Test Set:**"
      ]
    },
    {
      "metadata": {
        "id": "zcBNY8XlzffY",
        "colab_type": "code",
        "colab": {
          "base_uri": "https://localhost:8080/",
          "height": 54
        },
        "outputId": "637bc9f7-69a0-42de-cbbd-0160422f907e"
      },
      "cell_type": "code",
      "source": [
        "score = network.evaluate(test_images, test_labels, verbose=0)\n",
        "print('Test loss:', score[0])\n",
        "print('Test accuracy:', round(score[1]*100, 3),\"%\")"
      ],
      "execution_count": 13,
      "outputs": [
        {
          "output_type": "stream",
          "text": [
            "Test loss: 0.6800338690757751\n",
            "Test accuracy: 77.79 %\n"
          ],
          "name": "stdout"
        }
      ]
    }
  ]
}
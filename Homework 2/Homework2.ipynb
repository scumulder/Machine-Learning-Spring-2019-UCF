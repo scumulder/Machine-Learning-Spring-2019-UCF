{
  "nbformat": 4,
  "nbformat_minor": 0,
  "metadata": {
    "colab": {
      "name": "Homework2.ipynb",
      "version": "0.3.2",
      "provenance": [],
      "collapsed_sections": [],
      "include_colab_link": true
    },
    "kernelspec": {
      "name": "python3",
      "display_name": "Python 3"
    }
  },
  "cells": [
    {
      "cell_type": "markdown",
      "metadata": {
        "id": "view-in-github",
        "colab_type": "text"
      },
      "source": [
        "<a href=\"https://colab.research.google.com/github/scumulder/Machine-Learning-Spring-2019-UCF/blob/master/Homework%202/Homework2.ipynb\" target=\"_parent\"><img src=\"https://colab.research.google.com/assets/colab-badge.svg\" alt=\"Open In Colab\"/></a>"
      ]
    },
    {
      "metadata": {
        "id": "z2OyH0McfQrk",
        "colab_type": "text"
      },
      "cell_type": "markdown",
      "source": [
        "**Loading the CIFAR10 data set:**"
      ]
    },
    {
      "metadata": {
        "id": "ZTLW9Fr8abTF",
        "colab_type": "code",
        "colab": {}
      },
      "cell_type": "code",
      "source": [
        "from keras.datasets import cifar10\n",
        "(train_images_original, train_labels_original), (test_images_original, test_labels_original) = cifar10.load_data()\n",
        "\n",
        "#X_train = train_images_original\n",
        "#Y_train = train_labels_original\n",
        "\n",
        "#X_test = test_images_original\n",
        "#Y_test = test_labels_original"
      ],
      "execution_count": 0,
      "outputs": []
    },
    {
      "metadata": {
        "id": "UbVjM9Axko4E",
        "colab_type": "text"
      },
      "cell_type": "markdown",
      "source": [
        "**Prepare the image data:**"
      ]
    },
    {
      "metadata": {
        "id": "mLVSOteyj_2h",
        "colab_type": "code",
        "colab": {}
      },
      "cell_type": "code",
      "source": [
        "train_images = train_images_original.reshape((50000, 32 * 32 * 3))\n",
        "train_images = train_images.astype('float32')/ 255\n",
        "\n",
        "test_images = test_images_original.reshape((50000, 32 * 32 * 3))\n",
        "test_images = test_images.astype('float32')/ 255"
      ],
      "execution_count": 0,
      "outputs": []
    },
    {
      "metadata": {
        "id": "FFOxljsnhUSl",
        "colab_type": "text"
      },
      "cell_type": "markdown",
      "source": [
        "**Prepare the labels:**"
      ]
    },
    {
      "metadata": {
        "id": "Bpc_TIJDhTjd",
        "colab_type": "code",
        "colab": {}
      },
      "cell_type": "code",
      "source": [
        "import numpy as np\n",
        "from keras.utils.np_utils import to_categorical   \n",
        "\n",
        "\n",
        "train_labels = to_categorical(train_labels_original)\n",
        "test_labels = to_categorical(test_labels_original)"
      ],
      "execution_count": 0,
      "outputs": []
    }
  ]
}
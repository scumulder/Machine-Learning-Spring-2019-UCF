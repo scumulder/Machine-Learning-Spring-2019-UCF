{
  "nbformat": 4,
  "nbformat_minor": 0,
  "metadata": {
    "colab": {
      "name": "K-Fold Validation CNN.ipynb",
      "version": "0.3.2",
      "provenance": [],
      "collapsed_sections": [],
      "include_colab_link": true
    },
    "kernelspec": {
      "name": "python3",
      "display_name": "Python 3"
    },
    "accelerator": "GPU"
  },
  "cells": [
    {
      "cell_type": "markdown",
      "metadata": {
        "id": "view-in-github",
        "colab_type": "text"
      },
      "source": [
        "<a href=\"https://colab.research.google.com/github/scumulder/Machine-Learning-Spring-2019-UCF/blob/master/Homework%202/K_Fold_Validation_CNN.ipynb\" target=\"_parent\"><img src=\"https://colab.research.google.com/assets/colab-badge.svg\" alt=\"Open In Colab\"/></a>"
      ]
    },
    {
      "metadata": {
        "id": "PX6oIRFCf4Dk",
        "colab_type": "text"
      },
      "cell_type": "markdown",
      "source": [
        "# **Instructions:**\n",
        "\n",
        "Reevaluate your best architecture using k-fold validation with k=5, that is, the size of the validation fold is 20%. Does the accuracy/loss obtain by k-fold validation differ from the accuracy/loss obtain by simple hold-out validation."
      ]
    },
    {
      "metadata": {
        "id": "k7CvruGz7gs9",
        "colab_type": "text"
      },
      "cell_type": "markdown",
      "source": [
        "**About the CIFAR-10 Dataset**\n",
        "\n",
        "The CIFAR-10 dataset consists of 60000 32x32 colour images in 10 classes, with 6000 images per class. There are 50000 training images and 10000 test images.\n",
        "\n",
        "The dataset is divided into **five training batches** and **one test batch**, each with 10000 images, i.e. 10000 x 3072 numpy array. \n",
        "\n",
        "Between them, the training batches contain exactly 5000 images from each class. The test batch contains exactly 1000 randomly-selected images from each class.  \n",
        "\n"
      ]
    },
    {
      "metadata": {
        "id": "z2OyH0McfQrk",
        "colab_type": "text"
      },
      "cell_type": "markdown",
      "source": [
        "**Loading the CIFAR10 data set:**\n"
      ]
    },
    {
      "metadata": {
        "id": "ZTLW9Fr8abTF",
        "colab_type": "code",
        "outputId": "f638e004-7d62-4cb2-a8d5-cae57eb86d11",
        "colab": {
          "base_uri": "https://localhost:8080/",
          "height": 72
        }
      },
      "cell_type": "code",
      "source": [
        "from keras.datasets import cifar10\n",
        "(train_images, train_labels), (test_images, test_labels) = cifar10.load_data()\n",
        "\n",
        "#X_train = train_images\n",
        "#Y_train = train_labels\n",
        "\n",
        "#X_test = test_images\n",
        "#Y_test = test_labels"
      ],
      "execution_count": 0,
      "outputs": [
        {
          "output_type": "stream",
          "text": [
            "Using TensorFlow backend.\n"
          ],
          "name": "stderr"
        },
        {
          "output_type": "stream",
          "text": [
            "Downloading data from https://www.cs.toronto.edu/~kriz/cifar-10-python.tar.gz\n",
            "170500096/170498071 [==============================] - 21s 0us/step\n"
          ],
          "name": "stdout"
        }
      ]
    },
    {
      "metadata": {
        "id": "UbVjM9Axko4E",
        "colab_type": "text"
      },
      "cell_type": "markdown",
      "source": [
        "**Prepare the training and validation image data:**"
      ]
    },
    {
      "metadata": {
        "id": "mLVSOteyj_2h",
        "colab_type": "code",
        "colab": {}
      },
      "cell_type": "code",
      "source": [
        "train_images = train_images.astype('float32')/ 255\n",
        "test_images = test_images.astype('float32')/ 255"
      ],
      "execution_count": 0,
      "outputs": []
    },
    {
      "metadata": {
        "id": "FFOxljsnhUSl",
        "colab_type": "text"
      },
      "cell_type": "markdown",
      "source": [
        "**Prepare the labels:**\n",
        "\n",
        "    airplane : 0     automobile : 1    bird : 2    cat : 3          deer : 4       dog : 5    frog : 6         horse : 7         ship : 8          truck : 9"
      ]
    },
    {
      "metadata": {
        "id": "Bpc_TIJDhTjd",
        "colab_type": "code",
        "outputId": "19da3853-7dfd-46b6-f442-5e6577af64f7",
        "colab": {
          "base_uri": "https://localhost:8080/",
          "height": 54
        }
      },
      "cell_type": "code",
      "source": [
        "from keras.utils.np_utils import to_categorical   \n",
        "\n",
        "train_labels = to_categorical(train_labels)\n",
        "test_labels = to_categorical(test_labels)\n",
        "\n",
        "print('Training label shape:', train_labels.shape)\n",
        "print('Test label shape:', test_labels.shape)"
      ],
      "execution_count": 0,
      "outputs": [
        {
          "output_type": "stream",
          "text": [
            "Training label shape: (50000, 10)\n",
            "Test label shape: (10000, 10)\n"
          ],
          "name": "stdout"
        }
      ]
    },
    {
      "metadata": {
        "id": "XYiv_siQGvPR",
        "colab_type": "text"
      },
      "cell_type": "markdown",
      "source": [
        "**Convolutional Neural Network Architecture:**"
      ]
    },
    {
      "metadata": {
        "colab_type": "code",
        "id": "LbLzQ7E903zP",
        "colab": {}
      },
      "cell_type": "code",
      "source": [
        "from keras import models\n",
        "from keras import layers\n",
        "\n",
        "batch_size = 256\n",
        "num_classes = 10\n",
        "epochs = 25\n",
        "\n",
        "def cnn():\n",
        "\n",
        "  network = models.Sequential()\n",
        "\n",
        "  network.add(layers.Conv2D(32, (3, 3), activation='relu', input_shape=(32, 32, 3)))\n",
        "  network.add(layers.Conv2D(64, (3, 3), activation='relu'))\n",
        "  network.add(layers.MaxPooling2D(pool_size = (2, 2)))\n",
        "\n",
        "  network.add(layers.Conv2D(128, (3, 3), activation='relu'))\n",
        "  network.add(layers.Conv2D(256, (3, 3), activation='relu'))\n",
        "  network.add(layers.MaxPooling2D(pool_size = (2, 2)))\n",
        "\n",
        "  network.add(layers.Dropout(0.25))\n",
        "  network.add(layers.Flatten())\n",
        "\n",
        "  network.add(layers.Dense(512, activation='relu'))\n",
        "\n",
        "  network.add(layers.Dropout(0.50))\n",
        "\n",
        "  network.add(layers.Dense(num_classes, activation='softmax'))\n",
        "  network.summary()\n",
        "  \n",
        "  network.compile(optimizer='rmsprop', loss='categorical_crossentropy', metrics=['accuracy'])\n",
        "  \n",
        "  return network"
      ],
      "execution_count": 0,
      "outputs": []
    },
    {
      "metadata": {
        "id": "-n4OxnBsLVfY",
        "colab_type": "text"
      },
      "cell_type": "markdown",
      "source": [
        "**Compile the network:**"
      ]
    },
    {
      "metadata": {
        "id": "mpfOvohQLPL_",
        "colab_type": "code",
        "colab": {}
      },
      "cell_type": "code",
      "source": [
        "#network.compile(optimizer='rmsprop', loss='categorical_crossentropy', metrics=['accuracy'])"
      ],
      "execution_count": 0,
      "outputs": []
    },
    {
      "metadata": {
        "id": "r9PRoeoTzDCL",
        "colab_type": "text"
      },
      "cell_type": "markdown",
      "source": [
        "**Train the network:**"
      ]
    },
    {
      "metadata": {
        "id": "ybmteRROzGJH",
        "colab_type": "code",
        "colab": {}
      },
      "cell_type": "code",
      "source": [
        "#network.fit(train_images, train_labels, batch_size=batch_size, epochs=epochs, verbose=1, validation_split = 0.2)\n",
        "\n",
        "from keras.wrappers.scikit_learn import KerasClassifier\n",
        "neural_network = KerasClassifier(build_fn=cnn, \n",
        "                                 epochs=epochs, \n",
        "                                 batch_size=batch_size, \n",
        "                                 verbose=1)"
      ],
      "execution_count": 0,
      "outputs": []
    },
    {
      "metadata": {
        "id": "o_3E1-y3e_xu",
        "colab_type": "code",
        "outputId": "69e0d38a-df01-448e-f141-86d01aca136c",
        "colab": {
          "base_uri": "https://localhost:8080/",
          "height": 7567
        }
      },
      "cell_type": "code",
      "source": [
        "from sklearn.model_selection import cross_val_score\n",
        "cross_val_score(neural_network, train_images, train_labels, cv=5)"
      ],
      "execution_count": 0,
      "outputs": [
        {
          "output_type": "stream",
          "text": [
            "WARNING:tensorflow:From /usr/local/lib/python3.6/dist-packages/tensorflow/python/framework/op_def_library.py:263: colocate_with (from tensorflow.python.framework.ops) is deprecated and will be removed in a future version.\n",
            "Instructions for updating:\n",
            "Colocations handled automatically by placer.\n",
            "WARNING:tensorflow:From /usr/local/lib/python3.6/dist-packages/keras/backend/tensorflow_backend.py:3445: calling dropout (from tensorflow.python.ops.nn_ops) with keep_prob is deprecated and will be removed in a future version.\n",
            "Instructions for updating:\n",
            "Please use `rate` instead of `keep_prob`. Rate should be set to `rate = 1 - keep_prob`.\n",
            "_________________________________________________________________\n",
            "Layer (type)                 Output Shape              Param #   \n",
            "=================================================================\n",
            "conv2d_1 (Conv2D)            (None, 30, 30, 32)        896       \n",
            "_________________________________________________________________\n",
            "conv2d_2 (Conv2D)            (None, 28, 28, 64)        18496     \n",
            "_________________________________________________________________\n",
            "max_pooling2d_1 (MaxPooling2 (None, 14, 14, 64)        0         \n",
            "_________________________________________________________________\n",
            "conv2d_3 (Conv2D)            (None, 12, 12, 128)       73856     \n",
            "_________________________________________________________________\n",
            "conv2d_4 (Conv2D)            (None, 10, 10, 256)       295168    \n",
            "_________________________________________________________________\n",
            "max_pooling2d_2 (MaxPooling2 (None, 5, 5, 256)         0         \n",
            "_________________________________________________________________\n",
            "dropout_1 (Dropout)          (None, 5, 5, 256)         0         \n",
            "_________________________________________________________________\n",
            "flatten_1 (Flatten)          (None, 6400)              0         \n",
            "_________________________________________________________________\n",
            "dense_1 (Dense)              (None, 512)               3277312   \n",
            "_________________________________________________________________\n",
            "dropout_2 (Dropout)          (None, 512)               0         \n",
            "_________________________________________________________________\n",
            "dense_2 (Dense)              (None, 10)                5130      \n",
            "=================================================================\n",
            "Total params: 3,670,858\n",
            "Trainable params: 3,670,858\n",
            "Non-trainable params: 0\n",
            "_________________________________________________________________\n",
            "WARNING:tensorflow:From /usr/local/lib/python3.6/dist-packages/tensorflow/python/ops/math_ops.py:3066: to_int32 (from tensorflow.python.ops.math_ops) is deprecated and will be removed in a future version.\n",
            "Instructions for updating:\n",
            "Use tf.cast instead.\n",
            "Epoch 1/25\n",
            "40000/40000 [==============================] - 15s 371us/step - loss: 2.0136 - acc: 0.2773\n",
            "Epoch 2/25\n",
            "40000/40000 [==============================] - 10s 240us/step - loss: 1.5563 - acc: 0.4488\n",
            "Epoch 3/25\n",
            "40000/40000 [==============================] - 10s 241us/step - loss: 1.2619 - acc: 0.5582\n",
            "Epoch 4/25\n",
            "40000/40000 [==============================] - 10s 241us/step - loss: 1.0622 - acc: 0.6320\n",
            "Epoch 5/25\n",
            "40000/40000 [==============================] - 10s 242us/step - loss: 0.9219 - acc: 0.6815\n",
            "Epoch 6/25\n",
            "40000/40000 [==============================] - 10s 240us/step - loss: 0.8111 - acc: 0.7200\n",
            "Epoch 7/25\n",
            "40000/40000 [==============================] - 10s 242us/step - loss: 0.7222 - acc: 0.7505\n",
            "Epoch 8/25\n",
            "40000/40000 [==============================] - 10s 241us/step - loss: 0.6364 - acc: 0.7786\n",
            "Epoch 9/25\n",
            "40000/40000 [==============================] - 10s 242us/step - loss: 0.5758 - acc: 0.7996\n",
            "Epoch 10/25\n",
            "40000/40000 [==============================] - 10s 243us/step - loss: 0.5055 - acc: 0.8270\n",
            "Epoch 11/25\n",
            "40000/40000 [==============================] - 10s 240us/step - loss: 0.4530 - acc: 0.8406\n",
            "Epoch 12/25\n",
            "40000/40000 [==============================] - 10s 242us/step - loss: 0.4099 - acc: 0.8585\n",
            "Epoch 13/25\n",
            "40000/40000 [==============================] - 10s 242us/step - loss: 0.3695 - acc: 0.8707\n",
            "Epoch 14/25\n",
            "40000/40000 [==============================] - 10s 241us/step - loss: 0.3270 - acc: 0.8855\n",
            "Epoch 15/25\n",
            "40000/40000 [==============================] - 10s 241us/step - loss: 0.3022 - acc: 0.8961\n",
            "Epoch 16/25\n",
            "40000/40000 [==============================] - 10s 239us/step - loss: 0.2785 - acc: 0.9055\n",
            "Epoch 17/25\n",
            "40000/40000 [==============================] - 10s 240us/step - loss: 0.2652 - acc: 0.9095\n",
            "Epoch 18/25\n",
            "40000/40000 [==============================] - 10s 241us/step - loss: 0.2451 - acc: 0.9161\n",
            "Epoch 19/25\n",
            "40000/40000 [==============================] - 10s 240us/step - loss: 0.2356 - acc: 0.9197\n",
            "Epoch 20/25\n",
            "40000/40000 [==============================] - 10s 241us/step - loss: 0.2264 - acc: 0.9249\n",
            "Epoch 21/25\n",
            "40000/40000 [==============================] - 10s 241us/step - loss: 0.2196 - acc: 0.9274\n",
            "Epoch 22/25\n",
            "40000/40000 [==============================] - 10s 243us/step - loss: 0.2102 - acc: 0.9317\n",
            "Epoch 23/25\n",
            "40000/40000 [==============================] - 10s 245us/step - loss: 0.2089 - acc: 0.9309\n",
            "Epoch 24/25\n",
            "40000/40000 [==============================] - 10s 243us/step - loss: 0.2035 - acc: 0.9351\n",
            "Epoch 25/25\n",
            "40000/40000 [==============================] - 10s 243us/step - loss: 0.2010 - acc: 0.9352\n",
            "10000/10000 [==============================] - 1s 96us/step\n",
            "_________________________________________________________________\n",
            "Layer (type)                 Output Shape              Param #   \n",
            "=================================================================\n",
            "conv2d_5 (Conv2D)            (None, 30, 30, 32)        896       \n",
            "_________________________________________________________________\n",
            "conv2d_6 (Conv2D)            (None, 28, 28, 64)        18496     \n",
            "_________________________________________________________________\n",
            "max_pooling2d_3 (MaxPooling2 (None, 14, 14, 64)        0         \n",
            "_________________________________________________________________\n",
            "conv2d_7 (Conv2D)            (None, 12, 12, 128)       73856     \n",
            "_________________________________________________________________\n",
            "conv2d_8 (Conv2D)            (None, 10, 10, 256)       295168    \n",
            "_________________________________________________________________\n",
            "max_pooling2d_4 (MaxPooling2 (None, 5, 5, 256)         0         \n",
            "_________________________________________________________________\n",
            "dropout_3 (Dropout)          (None, 5, 5, 256)         0         \n",
            "_________________________________________________________________\n",
            "flatten_2 (Flatten)          (None, 6400)              0         \n",
            "_________________________________________________________________\n",
            "dense_3 (Dense)              (None, 512)               3277312   \n",
            "_________________________________________________________________\n",
            "dropout_4 (Dropout)          (None, 512)               0         \n",
            "_________________________________________________________________\n",
            "dense_4 (Dense)              (None, 10)                5130      \n",
            "=================================================================\n",
            "Total params: 3,670,858\n",
            "Trainable params: 3,670,858\n",
            "Non-trainable params: 0\n",
            "_________________________________________________________________\n",
            "Epoch 1/25\n",
            "40000/40000 [==============================] - 11s 269us/step - loss: 2.0288 - acc: 0.2625\n",
            "Epoch 2/25\n",
            "40000/40000 [==============================] - 10s 252us/step - loss: 1.5578 - acc: 0.4443\n",
            "Epoch 3/25\n",
            "40000/40000 [==============================] - 10s 250us/step - loss: 1.2784 - acc: 0.5522\n",
            "Epoch 4/25\n",
            "40000/40000 [==============================] - 10s 253us/step - loss: 1.0852 - acc: 0.6181\n",
            "Epoch 5/25\n",
            "40000/40000 [==============================] - 10s 254us/step - loss: 0.9432 - acc: 0.6739\n",
            "Epoch 6/25\n",
            "40000/40000 [==============================] - 10s 254us/step - loss: 0.8239 - acc: 0.7165\n",
            "Epoch 7/25\n",
            "40000/40000 [==============================] - 10s 253us/step - loss: 0.7357 - acc: 0.7446\n",
            "Epoch 8/25\n",
            "40000/40000 [==============================] - 10s 252us/step - loss: 0.6627 - acc: 0.7715\n",
            "Epoch 9/25\n",
            "40000/40000 [==============================] - 10s 251us/step - loss: 0.5859 - acc: 0.7960\n",
            "Epoch 10/25\n",
            "40000/40000 [==============================] - 10s 252us/step - loss: 0.5287 - acc: 0.8179\n",
            "Epoch 11/25\n",
            "40000/40000 [==============================] - 10s 252us/step - loss: 0.4679 - acc: 0.8381\n",
            "Epoch 12/25\n",
            "40000/40000 [==============================] - 10s 251us/step - loss: 0.4230 - acc: 0.8520\n",
            "Epoch 13/25\n",
            "40000/40000 [==============================] - 10s 251us/step - loss: 0.3805 - acc: 0.8673\n",
            "Epoch 14/25\n",
            "40000/40000 [==============================] - 10s 252us/step - loss: 0.3470 - acc: 0.8801\n",
            "Epoch 15/25\n",
            "40000/40000 [==============================] - 10s 250us/step - loss: 0.3162 - acc: 0.8908\n",
            "Epoch 16/25\n",
            "40000/40000 [==============================] - 10s 254us/step - loss: 0.2879 - acc: 0.9003\n",
            "Epoch 17/25\n",
            "40000/40000 [==============================] - 10s 253us/step - loss: 0.2718 - acc: 0.9074\n",
            "Epoch 18/25\n",
            "40000/40000 [==============================] - 10s 252us/step - loss: 0.2549 - acc: 0.9140\n",
            "Epoch 19/25\n",
            "40000/40000 [==============================] - 10s 253us/step - loss: 0.2465 - acc: 0.9170\n",
            "Epoch 20/25\n",
            "40000/40000 [==============================] - 10s 251us/step - loss: 0.2356 - acc: 0.9223\n",
            "Epoch 21/25\n",
            "40000/40000 [==============================] - 10s 253us/step - loss: 0.2240 - acc: 0.9251\n",
            "Epoch 22/25\n",
            "40000/40000 [==============================] - 10s 251us/step - loss: 0.2229 - acc: 0.9260\n",
            "Epoch 23/25\n",
            "40000/40000 [==============================] - 10s 252us/step - loss: 0.2080 - acc: 0.9325\n",
            "Epoch 24/25\n",
            "40000/40000 [==============================] - 10s 249us/step - loss: 0.2202 - acc: 0.9302\n",
            "Epoch 25/25\n",
            "40000/40000 [==============================] - 10s 247us/step - loss: 0.2089 - acc: 0.9334\n",
            "10000/10000 [==============================] - 1s 105us/step\n",
            "_________________________________________________________________\n",
            "Layer (type)                 Output Shape              Param #   \n",
            "=================================================================\n",
            "conv2d_9 (Conv2D)            (None, 30, 30, 32)        896       \n",
            "_________________________________________________________________\n",
            "conv2d_10 (Conv2D)           (None, 28, 28, 64)        18496     \n",
            "_________________________________________________________________\n",
            "max_pooling2d_5 (MaxPooling2 (None, 14, 14, 64)        0         \n",
            "_________________________________________________________________\n",
            "conv2d_11 (Conv2D)           (None, 12, 12, 128)       73856     \n",
            "_________________________________________________________________\n",
            "conv2d_12 (Conv2D)           (None, 10, 10, 256)       295168    \n",
            "_________________________________________________________________\n",
            "max_pooling2d_6 (MaxPooling2 (None, 5, 5, 256)         0         \n",
            "_________________________________________________________________\n",
            "dropout_5 (Dropout)          (None, 5, 5, 256)         0         \n",
            "_________________________________________________________________\n",
            "flatten_3 (Flatten)          (None, 6400)              0         \n",
            "_________________________________________________________________\n",
            "dense_5 (Dense)              (None, 512)               3277312   \n",
            "_________________________________________________________________\n",
            "dropout_6 (Dropout)          (None, 512)               0         \n",
            "_________________________________________________________________\n",
            "dense_6 (Dense)              (None, 10)                5130      \n",
            "=================================================================\n",
            "Total params: 3,670,858\n",
            "Trainable params: 3,670,858\n",
            "Non-trainable params: 0\n",
            "_________________________________________________________________\n",
            "Epoch 1/25\n",
            "40000/40000 [==============================] - 11s 267us/step - loss: 2.0443 - acc: 0.2643\n",
            "Epoch 2/25\n",
            "40000/40000 [==============================] - 10s 247us/step - loss: 1.5540 - acc: 0.4466\n",
            "Epoch 3/25\n",
            "40000/40000 [==============================] - 10s 242us/step - loss: 1.2903 - acc: 0.5463\n",
            "Epoch 4/25\n",
            "40000/40000 [==============================] - 10s 243us/step - loss: 1.1005 - acc: 0.6138\n",
            "Epoch 5/25\n",
            "40000/40000 [==============================] - 10s 243us/step - loss: 0.9535 - acc: 0.6686\n",
            "Epoch 6/25\n",
            "40000/40000 [==============================] - 10s 244us/step - loss: 0.8391 - acc: 0.7103\n",
            "Epoch 7/25\n",
            "40000/40000 [==============================] - 10s 245us/step - loss: 0.7343 - acc: 0.7442\n",
            "Epoch 8/25\n",
            "40000/40000 [==============================] - 10s 246us/step - loss: 0.6579 - acc: 0.7728\n",
            "Epoch 9/25\n",
            "40000/40000 [==============================] - 10s 243us/step - loss: 0.5809 - acc: 0.7986\n",
            "Epoch 10/25\n",
            "40000/40000 [==============================] - 10s 243us/step - loss: 0.5241 - acc: 0.8176\n",
            "Epoch 11/25\n",
            "40000/40000 [==============================] - 10s 242us/step - loss: 0.4582 - acc: 0.8416\n",
            "Epoch 12/25\n",
            "40000/40000 [==============================] - 10s 244us/step - loss: 0.4136 - acc: 0.8544\n",
            "Epoch 13/25\n",
            "40000/40000 [==============================] - 10s 243us/step - loss: 0.3676 - acc: 0.8709\n",
            "Epoch 14/25\n",
            "40000/40000 [==============================] - 10s 242us/step - loss: 0.3338 - acc: 0.8844\n",
            "Epoch 15/25\n",
            "40000/40000 [==============================] - 10s 245us/step - loss: 0.3106 - acc: 0.8932\n",
            "Epoch 16/25\n",
            "40000/40000 [==============================] - 10s 244us/step - loss: 0.2798 - acc: 0.9041\n",
            "Epoch 17/25\n",
            "40000/40000 [==============================] - 10s 246us/step - loss: 0.2652 - acc: 0.9090\n",
            "Epoch 18/25\n",
            "40000/40000 [==============================] - 10s 245us/step - loss: 0.2482 - acc: 0.9156\n",
            "Epoch 19/25\n",
            "40000/40000 [==============================] - 10s 246us/step - loss: 0.2423 - acc: 0.9190\n",
            "Epoch 20/25\n",
            "40000/40000 [==============================] - 10s 243us/step - loss: 0.2304 - acc: 0.9238\n",
            "Epoch 21/25\n",
            "40000/40000 [==============================] - 10s 242us/step - loss: 0.2232 - acc: 0.9258\n",
            "Epoch 22/25\n",
            "40000/40000 [==============================] - 10s 246us/step - loss: 0.2196 - acc: 0.9273\n",
            "Epoch 23/25\n",
            "40000/40000 [==============================] - 10s 247us/step - loss: 0.2091 - acc: 0.9339\n",
            "Epoch 24/25\n",
            "40000/40000 [==============================] - 10s 248us/step - loss: 0.2093 - acc: 0.9345\n",
            "Epoch 25/25\n",
            "40000/40000 [==============================] - 10s 248us/step - loss: 0.2092 - acc: 0.9341\n",
            "10000/10000 [==============================] - 1s 103us/step\n",
            "_________________________________________________________________\n",
            "Layer (type)                 Output Shape              Param #   \n",
            "=================================================================\n",
            "conv2d_13 (Conv2D)           (None, 30, 30, 32)        896       \n",
            "_________________________________________________________________\n",
            "conv2d_14 (Conv2D)           (None, 28, 28, 64)        18496     \n",
            "_________________________________________________________________\n",
            "max_pooling2d_7 (MaxPooling2 (None, 14, 14, 64)        0         \n",
            "_________________________________________________________________\n",
            "conv2d_15 (Conv2D)           (None, 12, 12, 128)       73856     \n",
            "_________________________________________________________________\n",
            "conv2d_16 (Conv2D)           (None, 10, 10, 256)       295168    \n",
            "_________________________________________________________________\n",
            "max_pooling2d_8 (MaxPooling2 (None, 5, 5, 256)         0         \n",
            "_________________________________________________________________\n",
            "dropout_7 (Dropout)          (None, 5, 5, 256)         0         \n",
            "_________________________________________________________________\n",
            "flatten_4 (Flatten)          (None, 6400)              0         \n",
            "_________________________________________________________________\n",
            "dense_7 (Dense)              (None, 512)               3277312   \n",
            "_________________________________________________________________\n",
            "dropout_8 (Dropout)          (None, 512)               0         \n",
            "_________________________________________________________________\n",
            "dense_8 (Dense)              (None, 10)                5130      \n",
            "=================================================================\n",
            "Total params: 3,670,858\n",
            "Trainable params: 3,670,858\n",
            "Non-trainable params: 0\n",
            "_________________________________________________________________\n",
            "Epoch 1/25\n",
            "40000/40000 [==============================] - 11s 267us/step - loss: 1.9894 - acc: 0.2887\n",
            "Epoch 2/25\n",
            "40000/40000 [==============================] - 10s 246us/step - loss: 1.5326 - acc: 0.4565\n",
            "Epoch 3/25\n",
            "40000/40000 [==============================] - 10s 248us/step - loss: 1.2740 - acc: 0.5516\n",
            "Epoch 4/25\n",
            "40000/40000 [==============================] - 10s 247us/step - loss: 1.0988 - acc: 0.6169\n",
            "Epoch 5/25\n",
            "40000/40000 [==============================] - 10s 250us/step - loss: 0.9339 - acc: 0.6778\n",
            "Epoch 6/25\n",
            "40000/40000 [==============================] - 10s 248us/step - loss: 0.8392 - acc: 0.7118\n",
            "Epoch 7/25\n",
            "40000/40000 [==============================] - 10s 248us/step - loss: 0.7373 - acc: 0.7455\n",
            "Epoch 8/25\n",
            "40000/40000 [==============================] - 10s 250us/step - loss: 0.6615 - acc: 0.7713\n",
            "Epoch 9/25\n",
            "40000/40000 [==============================] - 10s 249us/step - loss: 0.5852 - acc: 0.7972\n",
            "Epoch 10/25\n",
            "40000/40000 [==============================] - 10s 250us/step - loss: 0.5231 - acc: 0.8197\n",
            "Epoch 11/25\n",
            "40000/40000 [==============================] - 10s 247us/step - loss: 0.4678 - acc: 0.8368\n",
            "Epoch 12/25\n",
            "40000/40000 [==============================] - 10s 246us/step - loss: 0.4193 - acc: 0.8544\n",
            "Epoch 13/25\n",
            "40000/40000 [==============================] - 10s 248us/step - loss: 0.3834 - acc: 0.8679\n",
            "Epoch 14/25\n",
            "40000/40000 [==============================] - 10s 249us/step - loss: 0.3342 - acc: 0.8828\n",
            "Epoch 15/25\n",
            "40000/40000 [==============================] - 10s 246us/step - loss: 0.3051 - acc: 0.8924\n",
            "Epoch 16/25\n",
            "40000/40000 [==============================] - 10s 247us/step - loss: 0.2850 - acc: 0.9015\n",
            "Epoch 17/25\n",
            "40000/40000 [==============================] - 10s 246us/step - loss: 0.2593 - acc: 0.9117\n",
            "Epoch 18/25\n",
            "40000/40000 [==============================] - 10s 246us/step - loss: 0.2474 - acc: 0.9169\n",
            "Epoch 19/25\n",
            "40000/40000 [==============================] - 10s 248us/step - loss: 0.2304 - acc: 0.9223\n",
            "Epoch 20/25\n",
            "40000/40000 [==============================] - 10s 247us/step - loss: 0.2234 - acc: 0.9244\n",
            "Epoch 21/25\n",
            "40000/40000 [==============================] - 10s 245us/step - loss: 0.2221 - acc: 0.9257\n",
            "Epoch 22/25\n",
            "40000/40000 [==============================] - 10s 245us/step - loss: 0.2106 - acc: 0.9321\n",
            "Epoch 23/25\n",
            "40000/40000 [==============================] - 10s 245us/step - loss: 0.2088 - acc: 0.9321\n",
            "Epoch 24/25\n",
            "40000/40000 [==============================] - 10s 244us/step - loss: 0.2126 - acc: 0.9320\n",
            "Epoch 25/25\n",
            "40000/40000 [==============================] - 10s 244us/step - loss: 0.1958 - acc: 0.9364\n",
            "10000/10000 [==============================] - 1s 105us/step\n",
            "_________________________________________________________________\n",
            "Layer (type)                 Output Shape              Param #   \n",
            "=================================================================\n",
            "conv2d_17 (Conv2D)           (None, 30, 30, 32)        896       \n",
            "_________________________________________________________________\n",
            "conv2d_18 (Conv2D)           (None, 28, 28, 64)        18496     \n",
            "_________________________________________________________________\n",
            "max_pooling2d_9 (MaxPooling2 (None, 14, 14, 64)        0         \n",
            "_________________________________________________________________\n",
            "conv2d_19 (Conv2D)           (None, 12, 12, 128)       73856     \n",
            "_________________________________________________________________\n",
            "conv2d_20 (Conv2D)           (None, 10, 10, 256)       295168    \n",
            "_________________________________________________________________\n",
            "max_pooling2d_10 (MaxPooling (None, 5, 5, 256)         0         \n",
            "_________________________________________________________________\n",
            "dropout_9 (Dropout)          (None, 5, 5, 256)         0         \n",
            "_________________________________________________________________\n",
            "flatten_5 (Flatten)          (None, 6400)              0         \n",
            "_________________________________________________________________\n",
            "dense_9 (Dense)              (None, 512)               3277312   \n",
            "_________________________________________________________________\n",
            "dropout_10 (Dropout)         (None, 512)               0         \n",
            "_________________________________________________________________\n",
            "dense_10 (Dense)             (None, 10)                5130      \n",
            "=================================================================\n",
            "Total params: 3,670,858\n",
            "Trainable params: 3,670,858\n",
            "Non-trainable params: 0\n",
            "_________________________________________________________________\n",
            "Epoch 1/25\n",
            "40000/40000 [==============================] - 11s 269us/step - loss: 2.1137 - acc: 0.2521\n",
            "Epoch 2/25\n",
            "40000/40000 [==============================] - 10s 246us/step - loss: 1.6081 - acc: 0.4351\n",
            "Epoch 3/25\n",
            "40000/40000 [==============================] - 10s 243us/step - loss: 1.3090 - acc: 0.5397\n",
            "Epoch 4/25\n",
            "40000/40000 [==============================] - 10s 246us/step - loss: 1.1103 - acc: 0.6146\n",
            "Epoch 5/25\n",
            "40000/40000 [==============================] - 10s 246us/step - loss: 0.9747 - acc: 0.6646\n",
            "Epoch 6/25\n",
            "40000/40000 [==============================] - 10s 247us/step - loss: 0.8483 - acc: 0.7071\n",
            "Epoch 7/25\n",
            "40000/40000 [==============================] - 10s 245us/step - loss: 0.7557 - acc: 0.7397\n",
            "Epoch 8/25\n",
            "40000/40000 [==============================] - 10s 242us/step - loss: 0.6767 - acc: 0.7643\n",
            "Epoch 9/25\n",
            "40000/40000 [==============================] - 10s 242us/step - loss: 0.6047 - acc: 0.7908\n",
            "Epoch 10/25\n",
            "40000/40000 [==============================] - 10s 242us/step - loss: 0.5352 - acc: 0.8135\n",
            "Epoch 11/25\n",
            "40000/40000 [==============================] - 10s 243us/step - loss: 0.4849 - acc: 0.8331\n",
            "Epoch 12/25\n",
            "40000/40000 [==============================] - 10s 242us/step - loss: 0.4328 - acc: 0.8505\n",
            "Epoch 13/25\n",
            "40000/40000 [==============================] - 10s 245us/step - loss: 0.3937 - acc: 0.8628\n",
            "Epoch 14/25\n",
            "40000/40000 [==============================] - 10s 248us/step - loss: 0.3471 - acc: 0.8795\n",
            "Epoch 15/25\n",
            "40000/40000 [==============================] - 10s 245us/step - loss: 0.3154 - acc: 0.8902\n",
            "Epoch 16/25\n",
            "40000/40000 [==============================] - 10s 246us/step - loss: 0.2953 - acc: 0.8992\n",
            "Epoch 17/25\n",
            "40000/40000 [==============================] - 10s 248us/step - loss: 0.2775 - acc: 0.9054\n",
            "Epoch 18/25\n",
            "40000/40000 [==============================] - 10s 246us/step - loss: 0.2564 - acc: 0.9128\n",
            "Epoch 19/25\n",
            "40000/40000 [==============================] - 10s 247us/step - loss: 0.2497 - acc: 0.9147\n",
            "Epoch 20/25\n",
            "40000/40000 [==============================] - 10s 247us/step - loss: 0.2397 - acc: 0.9202\n",
            "Epoch 21/25\n",
            "40000/40000 [==============================] - 10s 246us/step - loss: 0.2251 - acc: 0.9247\n",
            "Epoch 22/25\n",
            "40000/40000 [==============================] - 10s 245us/step - loss: 0.2240 - acc: 0.9259\n",
            "Epoch 23/25\n",
            "40000/40000 [==============================] - 10s 244us/step - loss: 0.2166 - acc: 0.9296\n",
            "Epoch 24/25\n",
            "40000/40000 [==============================] - 10s 246us/step - loss: 0.2157 - acc: 0.9316\n",
            "Epoch 25/25\n",
            "40000/40000 [==============================] - 10s 245us/step - loss: 0.2124 - acc: 0.9321\n",
            "10000/10000 [==============================] - 1s 106us/step\n"
          ],
          "name": "stdout"
        },
        {
          "output_type": "execute_result",
          "data": {
            "text/plain": [
              "array([0.7819, 0.7526, 0.7813, 0.748 , 0.7844])"
            ]
          },
          "metadata": {
            "tags": []
          },
          "execution_count": 6
        }
      ]
    },
    {
      "metadata": {
        "id": "ZRWBloclzFq5",
        "colab_type": "text"
      },
      "cell_type": "markdown",
      "source": [
        "**Evaluate the network on the Validation Set:**"
      ]
    },
    {
      "metadata": {
        "id": "zcBNY8XlzffY",
        "colab_type": "code",
        "outputId": "c6392986-d925-46e7-95b5-08cc684795c3",
        "colab": {
          "base_uri": "https://localhost:8080/",
          "height": 209
        }
      },
      "cell_type": "code",
      "source": [
        "score = network.evaluate(test_images, test_labels, verbose=0)\n",
        "print('Test loss:', score[0])\n",
        "print('Test accuracy:', round(score[1]*100, 3),\"%\")"
      ],
      "execution_count": 0,
      "outputs": [
        {
          "output_type": "error",
          "ename": "NameError",
          "evalue": "ignored",
          "traceback": [
            "\u001b[0;31m---------------------------------------------------------------------------\u001b[0m",
            "\u001b[0;31mNameError\u001b[0m                                 Traceback (most recent call last)",
            "\u001b[0;32m<ipython-input-7-2b546ee31f53>\u001b[0m in \u001b[0;36m<module>\u001b[0;34m()\u001b[0m\n\u001b[0;32m----> 1\u001b[0;31m \u001b[0mscore\u001b[0m \u001b[0;34m=\u001b[0m \u001b[0mnetwork\u001b[0m\u001b[0;34m.\u001b[0m\u001b[0mevaluate\u001b[0m\u001b[0;34m(\u001b[0m\u001b[0mtest_images\u001b[0m\u001b[0;34m,\u001b[0m \u001b[0mtest_labels\u001b[0m\u001b[0;34m,\u001b[0m \u001b[0mverbose\u001b[0m\u001b[0;34m=\u001b[0m\u001b[0;36m0\u001b[0m\u001b[0;34m)\u001b[0m\u001b[0;34m\u001b[0m\u001b[0;34m\u001b[0m\u001b[0m\n\u001b[0m\u001b[1;32m      2\u001b[0m \u001b[0mprint\u001b[0m\u001b[0;34m(\u001b[0m\u001b[0;34m'Test loss:'\u001b[0m\u001b[0;34m,\u001b[0m \u001b[0mscore\u001b[0m\u001b[0;34m[\u001b[0m\u001b[0;36m0\u001b[0m\u001b[0;34m]\u001b[0m\u001b[0;34m)\u001b[0m\u001b[0;34m\u001b[0m\u001b[0;34m\u001b[0m\u001b[0m\n\u001b[1;32m      3\u001b[0m \u001b[0mprint\u001b[0m\u001b[0;34m(\u001b[0m\u001b[0;34m'Test accuracy:'\u001b[0m\u001b[0;34m,\u001b[0m \u001b[0mround\u001b[0m\u001b[0;34m(\u001b[0m\u001b[0mscore\u001b[0m\u001b[0;34m[\u001b[0m\u001b[0;36m1\u001b[0m\u001b[0;34m]\u001b[0m\u001b[0;34m*\u001b[0m\u001b[0;36m100\u001b[0m\u001b[0;34m,\u001b[0m \u001b[0;36m3\u001b[0m\u001b[0;34m)\u001b[0m\u001b[0;34m,\u001b[0m\u001b[0;34m\"%\"\u001b[0m\u001b[0;34m)\u001b[0m\u001b[0;34m\u001b[0m\u001b[0;34m\u001b[0m\u001b[0m\n",
            "\u001b[0;31mNameError\u001b[0m: name 'network' is not defined"
          ]
        }
      ]
    }
  ]
}
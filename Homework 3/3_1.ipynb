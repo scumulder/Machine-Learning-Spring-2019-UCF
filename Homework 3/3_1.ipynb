{
  "nbformat": 4,
  "nbformat_minor": 0,
  "metadata": {
    "colab": {
      "name": "3.1.ipynb",
      "version": "0.3.2",
      "provenance": [],
      "collapsed_sections": [],
      "include_colab_link": true
    },
    "kernelspec": {
      "name": "python3",
      "display_name": "Python 3"
    },
    "accelerator": "GPU"
  },
  "cells": [
    {
      "cell_type": "markdown",
      "metadata": {
        "id": "view-in-github",
        "colab_type": "text"
      },
      "source": [
        "<a href=\"https://colab.research.google.com/github/scumulder/Machine-Learning-Spring-2019-UCF/blob/master/Homework%203/3_1.ipynb\" target=\"_parent\"><img src=\"https://colab.research.google.com/assets/colab-badge.svg\" alt=\"Open In Colab\"/></a>"
      ]
    },
    {
      "metadata": {
        "id": "bRHasMkGrxuz",
        "colab_type": "text"
      },
      "cell_type": "markdown",
      "source": [
        "# Problem 1\n",
        "\n",
        "Working with the **Cats vs Dogs** data set and the pretrained convnet VGG19:\n",
        "\n",
        "*  Do feature extraction with data augmentation."
      ]
    },
    {
      "metadata": {
        "id": "polSUktOs20v",
        "colab_type": "text"
      },
      "cell_type": "markdown",
      "source": [
        "**Download the Data:**"
      ]
    },
    {
      "metadata": {
        "id": "Lpt2akxmoKsx",
        "colab_type": "code",
        "outputId": "ff61a9b7-3afe-4a73-c5ae-04f2d6ced739",
        "colab": {
          "base_uri": "https://localhost:8080/",
          "height": 219
        }
      },
      "cell_type": "code",
      "source": [
        "!wget --no-check-certificate \\\n",
        "    https://storage.googleapis.com/mledu-datasets/cats_and_dogs_filtered.zip \\\n",
        "    -O /tmp/cats_and_dogs_filtered.zip"
      ],
      "execution_count": 1,
      "outputs": [
        {
          "output_type": "stream",
          "text": [
            "--2019-04-11 02:00:24--  https://storage.googleapis.com/mledu-datasets/cats_and_dogs_filtered.zip\n",
            "Resolving storage.googleapis.com (storage.googleapis.com)... 74.125.141.128, 2607:f8b0:400c:c06::80\n",
            "Connecting to storage.googleapis.com (storage.googleapis.com)|74.125.141.128|:443... connected.\n",
            "HTTP request sent, awaiting response... 200 OK\n",
            "Length: 68606236 (65M) [application/zip]\n",
            "Saving to: ‘/tmp/cats_and_dogs_filtered.zip’\n",
            "\n",
            "/tmp/cats_and_dogs_ 100%[===================>]  65.43M  98.7MB/s    in 0.7s    \n",
            "\n",
            "2019-04-11 02:00:29 (98.7 MB/s) - ‘/tmp/cats_and_dogs_filtered.zip’ saved [68606236/68606236]\n",
            "\n"
          ],
          "name": "stdout"
        }
      ]
    },
    {
      "metadata": {
        "id": "iX1auMVg2uwq",
        "colab_type": "code",
        "colab": {}
      },
      "cell_type": "code",
      "source": [
        "import os\n",
        "import zipfile\n",
        "\n",
        "local_zip = '/tmp/cats_and_dogs_filtered.zip'\n",
        "zip_ref = zipfile.ZipFile(local_zip, 'r')\n",
        "zip_ref.extractall('/tmp')\n",
        "zip_ref.close()"
      ],
      "execution_count": 0,
      "outputs": []
    },
    {
      "metadata": {
        "id": "nBPEBVbU2NeD",
        "colab_type": "code",
        "colab": {}
      },
      "cell_type": "code",
      "source": [
        "base_dir = '/tmp/cats_and_dogs_filtered'\n",
        "train_dir = os.path.join(base_dir, 'train')\n",
        "validation_dir = os.path.join(base_dir, 'validation')"
      ],
      "execution_count": 0,
      "outputs": []
    },
    {
      "metadata": {
        "id": "N_JenvGOgBs7",
        "colab_type": "text"
      },
      "cell_type": "markdown",
      "source": [
        "# Build network with VGG19 convolution base and custom densely connected layers:"
      ]
    },
    {
      "metadata": {
        "id": "P9chT0ti21Qj",
        "colab_type": "code",
        "outputId": "12e1533c-eec9-4445-b1aa-3c976fd69c5f",
        "colab": {
          "base_uri": "https://localhost:8080/",
          "height": 954
        }
      },
      "cell_type": "code",
      "source": [
        "from keras.applications import VGG19\n",
        "\n",
        "base_model = VGG19(\n",
        "    weights='imagenet', \n",
        "    include_top=False, \n",
        "    input_shape=(150, 150, 3))\n",
        "base_model.summary()"
      ],
      "execution_count": 13,
      "outputs": [
        {
          "output_type": "stream",
          "text": [
            "_________________________________________________________________\n",
            "Layer (type)                 Output Shape              Param #   \n",
            "=================================================================\n",
            "input_2 (InputLayer)         (None, 150, 150, 3)       0         \n",
            "_________________________________________________________________\n",
            "block1_conv1 (Conv2D)        (None, 150, 150, 64)      1792      \n",
            "_________________________________________________________________\n",
            "block1_conv2 (Conv2D)        (None, 150, 150, 64)      36928     \n",
            "_________________________________________________________________\n",
            "block1_pool (MaxPooling2D)   (None, 75, 75, 64)        0         \n",
            "_________________________________________________________________\n",
            "block2_conv1 (Conv2D)        (None, 75, 75, 128)       73856     \n",
            "_________________________________________________________________\n",
            "block2_conv2 (Conv2D)        (None, 75, 75, 128)       147584    \n",
            "_________________________________________________________________\n",
            "block2_pool (MaxPooling2D)   (None, 37, 37, 128)       0         \n",
            "_________________________________________________________________\n",
            "block3_conv1 (Conv2D)        (None, 37, 37, 256)       295168    \n",
            "_________________________________________________________________\n",
            "block3_conv2 (Conv2D)        (None, 37, 37, 256)       590080    \n",
            "_________________________________________________________________\n",
            "block3_conv3 (Conv2D)        (None, 37, 37, 256)       590080    \n",
            "_________________________________________________________________\n",
            "block3_conv4 (Conv2D)        (None, 37, 37, 256)       590080    \n",
            "_________________________________________________________________\n",
            "block3_pool (MaxPooling2D)   (None, 18, 18, 256)       0         \n",
            "_________________________________________________________________\n",
            "block4_conv1 (Conv2D)        (None, 18, 18, 512)       1180160   \n",
            "_________________________________________________________________\n",
            "block4_conv2 (Conv2D)        (None, 18, 18, 512)       2359808   \n",
            "_________________________________________________________________\n",
            "block4_conv3 (Conv2D)        (None, 18, 18, 512)       2359808   \n",
            "_________________________________________________________________\n",
            "block4_conv4 (Conv2D)        (None, 18, 18, 512)       2359808   \n",
            "_________________________________________________________________\n",
            "block4_pool (MaxPooling2D)   (None, 9, 9, 512)         0         \n",
            "_________________________________________________________________\n",
            "block5_conv1 (Conv2D)        (None, 9, 9, 512)         2359808   \n",
            "_________________________________________________________________\n",
            "block5_conv2 (Conv2D)        (None, 9, 9, 512)         2359808   \n",
            "_________________________________________________________________\n",
            "block5_conv3 (Conv2D)        (None, 9, 9, 512)         2359808   \n",
            "_________________________________________________________________\n",
            "block5_conv4 (Conv2D)        (None, 9, 9, 512)         2359808   \n",
            "_________________________________________________________________\n",
            "block5_pool (MaxPooling2D)   (None, 4, 4, 512)         0         \n",
            "=================================================================\n",
            "Total params: 20,024,384\n",
            "Trainable params: 20,024,384\n",
            "Non-trainable params: 0\n",
            "_________________________________________________________________\n"
          ],
          "name": "stdout"
        }
      ]
    },
    {
      "metadata": {
        "id": "bUkz0xHohBq_",
        "colab_type": "text"
      },
      "cell_type": "markdown",
      "source": [
        "**Freeze the convolutional base:**\n",
        "\n",
        "This makes it so that only the dense layers are trained and vgg19 convnet is left alone."
      ]
    },
    {
      "metadata": {
        "id": "PqAV7oW0glaH",
        "colab_type": "code",
        "colab": {}
      },
      "cell_type": "code",
      "source": [
        "base_model.trainable = False"
      ],
      "execution_count": 0,
      "outputs": []
    },
    {
      "metadata": {
        "id": "ZcOglcaUISTy",
        "colab_type": "text"
      },
      "cell_type": "markdown",
      "source": [
        "**Add the dense layers:**"
      ]
    },
    {
      "metadata": {
        "id": "5iPTz8H0go8y",
        "colab_type": "code",
        "outputId": "16c24c07-6338-4d44-b8b5-4edc0b1503cd",
        "colab": {
          "base_uri": "https://localhost:8080/",
          "height": 293
        }
      },
      "cell_type": "code",
      "source": [
        "from keras import layers\n",
        "from keras import models\n",
        "from keras import optimizers\n",
        "\n",
        "network = models.Sequential()\n",
        "network.add(base_model)\n",
        "network.add(layers.Flatten())\n",
        "network.add(layers.Dense(256, activation='relu'))\n",
        "# no dropout\n",
        "network.add(layers.Dense(1, activation='sigmoid'))\n",
        "\n",
        "network.summary()"
      ],
      "execution_count": 15,
      "outputs": [
        {
          "output_type": "stream",
          "text": [
            "_________________________________________________________________\n",
            "Layer (type)                 Output Shape              Param #   \n",
            "=================================================================\n",
            "vgg19 (Model)                (None, 4, 4, 512)         20024384  \n",
            "_________________________________________________________________\n",
            "flatten_3 (Flatten)          (None, 8192)              0         \n",
            "_________________________________________________________________\n",
            "dense_5 (Dense)              (None, 256)               2097408   \n",
            "_________________________________________________________________\n",
            "dense_6 (Dense)              (None, 1)                 257       \n",
            "=================================================================\n",
            "Total params: 22,122,049\n",
            "Trainable params: 2,097,665\n",
            "Non-trainable params: 20,024,384\n",
            "_________________________________________________________________\n"
          ],
          "name": "stdout"
        }
      ]
    },
    {
      "metadata": {
        "id": "d3DHqrErT2CD",
        "colab_type": "text"
      },
      "cell_type": "markdown",
      "source": [
        "**Augment the Data, Compile and Train the Network:**"
      ]
    },
    {
      "metadata": {
        "id": "m4y_1kFxhqt7",
        "colab_type": "code",
        "outputId": "eba9cb93-32cd-4aa5-8dba-a9100993656b",
        "colab": {
          "base_uri": "https://localhost:8080/",
          "height": 1156
        }
      },
      "cell_type": "code",
      "source": [
        "from keras.preprocessing.image import ImageDataGenerator\n",
        "from keras import optimizers\n",
        "\n",
        "# data augmentation\n",
        "\n",
        "train_datagen = ImageDataGenerator(\n",
        "    rescale=1./255, \n",
        "    rotation_range=40,\n",
        "    width_shift_range=0.2,\n",
        "    height_shift_range=0.2,\n",
        "    shear_range=0.2,\n",
        "    zoom_range=0.2,\n",
        "    horizontal_flip=True,\n",
        "    fill_mode='nearest'\n",
        ")\n",
        "\n",
        "train_generator = train_datagen.flow_from_directory(\n",
        "    train_dir,\n",
        "    target_size=(150, 150),\n",
        "    batch_size=20,\n",
        "    class_mode='binary')\n",
        "\n",
        "validation_datagen = ImageDataGenerator(rescale=1./255)\n",
        "\n",
        "validation_generator = validation_datagen.flow_from_directory(\n",
        "    validation_dir,\n",
        "    target_size=(150, 150),\n",
        "    batch_size=20,\n",
        "    class_mode='binary')\n",
        "\n",
        "# Compile the network\n",
        "\n",
        "network.compile(\n",
        "    loss='binary_crossentropy', \n",
        "    optimizer=optimizers.RMSprop(lr=2e-5), \n",
        "    metrics=['acc'])\n",
        "\n",
        "# Train the network\n",
        "\n",
        "history = network.fit_generator(\n",
        "    train_generator,\n",
        "    steps_per_epoch=100,\n",
        "    epochs=30,\n",
        "    validation_data=validation_generator,\n",
        "    validation_steps=50\n",
        ")"
      ],
      "execution_count": 16,
      "outputs": [
        {
          "output_type": "stream",
          "text": [
            "Found 2000 images belonging to 2 classes.\n",
            "Found 1000 images belonging to 2 classes.\n",
            "Epoch 1/30\n",
            "100/100 [==============================] - 30s 296ms/step - loss: 0.6213 - acc: 0.6675 - val_loss: 0.4955 - val_acc: 0.7920\n",
            "Epoch 2/30\n",
            "100/100 [==============================] - 28s 279ms/step - loss: 0.5290 - acc: 0.7440 - val_loss: 0.4084 - val_acc: 0.8140\n",
            "Epoch 3/30\n",
            "100/100 [==============================] - 28s 279ms/step - loss: 0.4772 - acc: 0.7765 - val_loss: 0.3682 - val_acc: 0.8320\n",
            "Epoch 4/30\n",
            "100/100 [==============================] - 28s 279ms/step - loss: 0.4405 - acc: 0.8085 - val_loss: 0.3708 - val_acc: 0.8330\n",
            "Epoch 5/30\n",
            "100/100 [==============================] - 28s 280ms/step - loss: 0.4192 - acc: 0.8075 - val_loss: 0.3297 - val_acc: 0.8680\n",
            "Epoch 6/30\n",
            "100/100 [==============================] - 28s 278ms/step - loss: 0.4028 - acc: 0.8265 - val_loss: 0.3414 - val_acc: 0.8510\n",
            "Epoch 7/30\n",
            "100/100 [==============================] - 28s 278ms/step - loss: 0.3987 - acc: 0.8175 - val_loss: 0.3265 - val_acc: 0.8600\n",
            "Epoch 8/30\n",
            "100/100 [==============================] - 28s 279ms/step - loss: 0.3890 - acc: 0.8265 - val_loss: 0.3071 - val_acc: 0.8720\n",
            "Epoch 9/30\n",
            "100/100 [==============================] - 28s 278ms/step - loss: 0.3826 - acc: 0.8305 - val_loss: 0.2954 - val_acc: 0.8780\n",
            "Epoch 10/30\n",
            "100/100 [==============================] - 28s 280ms/step - loss: 0.3813 - acc: 0.8300 - val_loss: 0.2874 - val_acc: 0.8800\n",
            "Epoch 11/30\n",
            "100/100 [==============================] - 28s 279ms/step - loss: 0.3658 - acc: 0.8460 - val_loss: 0.2905 - val_acc: 0.8800\n",
            "Epoch 12/30\n",
            "100/100 [==============================] - 28s 281ms/step - loss: 0.3616 - acc: 0.8470 - val_loss: 0.2989 - val_acc: 0.8750\n",
            "Epoch 13/30\n",
            "100/100 [==============================] - 28s 280ms/step - loss: 0.3628 - acc: 0.8405 - val_loss: 0.2734 - val_acc: 0.8820\n",
            "Epoch 14/30\n",
            "100/100 [==============================] - 28s 278ms/step - loss: 0.3618 - acc: 0.8415 - val_loss: 0.3139 - val_acc: 0.8660\n",
            "Epoch 15/30\n",
            "100/100 [==============================] - 28s 277ms/step - loss: 0.3568 - acc: 0.8465 - val_loss: 0.2728 - val_acc: 0.8810\n",
            "Epoch 16/30\n",
            "100/100 [==============================] - 28s 280ms/step - loss: 0.3622 - acc: 0.8280 - val_loss: 0.2657 - val_acc: 0.8900\n",
            "Epoch 17/30\n",
            "100/100 [==============================] - 28s 280ms/step - loss: 0.3420 - acc: 0.8475 - val_loss: 0.2669 - val_acc: 0.8850\n",
            "Epoch 18/30\n",
            "100/100 [==============================] - 28s 278ms/step - loss: 0.3424 - acc: 0.8400 - val_loss: 0.2772 - val_acc: 0.8830\n",
            "Epoch 19/30\n",
            "100/100 [==============================] - 28s 280ms/step - loss: 0.3425 - acc: 0.8465 - val_loss: 0.2639 - val_acc: 0.8840\n",
            "Epoch 20/30\n",
            "100/100 [==============================] - 28s 276ms/step - loss: 0.3313 - acc: 0.8540 - val_loss: 0.2683 - val_acc: 0.8830\n",
            "Epoch 21/30\n",
            "100/100 [==============================] - 28s 279ms/step - loss: 0.3401 - acc: 0.8525 - val_loss: 0.2576 - val_acc: 0.8920\n",
            "Epoch 22/30\n",
            "100/100 [==============================] - 28s 279ms/step - loss: 0.3326 - acc: 0.8530 - val_loss: 0.2592 - val_acc: 0.8890\n",
            "Epoch 23/30\n",
            "100/100 [==============================] - 28s 278ms/step - loss: 0.3191 - acc: 0.8640 - val_loss: 0.2653 - val_acc: 0.8890\n",
            "Epoch 24/30\n",
            "100/100 [==============================] - 28s 278ms/step - loss: 0.3231 - acc: 0.8595 - val_loss: 0.2580 - val_acc: 0.8870\n",
            "Epoch 25/30\n",
            "100/100 [==============================] - 28s 279ms/step - loss: 0.3275 - acc: 0.8565 - val_loss: 0.2542 - val_acc: 0.8900\n",
            "Epoch 26/30\n",
            "100/100 [==============================] - 28s 280ms/step - loss: 0.3344 - acc: 0.8515 - val_loss: 0.2586 - val_acc: 0.8850\n",
            "Epoch 27/30\n",
            "100/100 [==============================] - 28s 277ms/step - loss: 0.3094 - acc: 0.8745 - val_loss: 0.2821 - val_acc: 0.8770\n",
            "Epoch 28/30\n",
            "100/100 [==============================] - 28s 279ms/step - loss: 0.3165 - acc: 0.8625 - val_loss: 0.2670 - val_acc: 0.8850\n",
            "Epoch 29/30\n",
            "100/100 [==============================] - 28s 280ms/step - loss: 0.3275 - acc: 0.8555 - val_loss: 0.2563 - val_acc: 0.8880\n",
            "Epoch 30/30\n",
            "100/100 [==============================] - 28s 277ms/step - loss: 0.3198 - acc: 0.8605 - val_loss: 0.2518 - val_acc: 0.8930\n"
          ],
          "name": "stdout"
        }
      ]
    },
    {
      "metadata": {
        "id": "IbKicS3ahv-u",
        "colab_type": "text"
      },
      "cell_type": "markdown",
      "source": [
        "**Display curves of loss and accuracy during training**"
      ]
    },
    {
      "metadata": {
        "id": "hvRdAkgBhvHr",
        "colab_type": "code",
        "outputId": "158ff7ba-9c08-451a-f501-15fdd5cdd6a3",
        "colab": {
          "base_uri": "https://localhost:8080/",
          "height": 545
        }
      },
      "cell_type": "code",
      "source": [
        "%matplotlib inline\n",
        "\n",
        "import matplotlib.pyplot as plt\n",
        "\n",
        "acc = history.history['acc']\n",
        "val_acc = history.history['val_acc']\n",
        "\n",
        "loss = history.history['loss']\n",
        "val_loss = history.history['val_loss']\n",
        "\n",
        "epochs = range(1, len(acc) + 1)\n",
        "\n",
        "# training and validation accuracy\n",
        "\n",
        "plt.plot(epochs, acc, 'bo', label='training acc')\n",
        "plt.plot(epochs, val_acc, 'b', label='validation acc')\n",
        "plt.title('training and validation accuracy')\n",
        "plt.legend()\n",
        "\n",
        "plt.figure()\n",
        "\n",
        "# training and validation loss\n",
        "\n",
        "plt.plot(epochs, loss, 'bo', label='training loss')\n",
        "plt.plot(epochs, val_loss, 'b', label='validation loss')\n",
        "plt.title('training and validation loss')\n",
        "plt.legend()\n",
        "\n",
        "plt.show()"
      ],
      "execution_count": 17,
      "outputs": [
        {
          "output_type": "display_data",
          "data": {
            "image/png": "[encoded data removed]",
            "text/plain": [
              "<Figure size 432x288 with 1 Axes>"
            ]
          },
          "metadata": {
            "tags": []
          }
        },
        {
          "output_type": "display_data",
          "data": {
            "image/png": "[encoded data removed]",
            "text/plain": [
              "<Figure size 432x288 with 1 Axes>"
            ]
          },
          "metadata": {
            "tags": []
          }
        }
      ]
    },
    {
      "metadata": {
        "id": "uIKz0THarCNg",
        "colab_type": "code",
        "outputId": "edaf2205-3a5e-4308-b6ee-08395e5d91ef",
        "colab": {
          "base_uri": "https://localhost:8080/",
          "height": 54
        }
      },
      "cell_type": "code",
      "source": [
        "val_loss, val_acc = network.evaluate_generator(validation_generator, steps=50)\n",
        "print(\"Validation loss:\", val_loss)\n",
        "print(\"Validation accuracy:\", round(val_acc*100,2), \"%\")"
      ],
      "execution_count": 18,
      "outputs": [
        {
          "output_type": "stream",
          "text": [
            "Validation loss: 0.24749683901667596\n",
            "Validation accuracy: 89.5 %\n"
          ],
          "name": "stdout"
        }
      ]
    }
  ]
}
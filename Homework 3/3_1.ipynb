{
  "nbformat": 4,
  "nbformat_minor": 0,
  "metadata": {
    "colab": {
      "name": "3.1.ipynb",
      "version": "0.3.2",
      "provenance": [],
      "collapsed_sections": [],
      "include_colab_link": true
    },
    "kernelspec": {
      "name": "python3",
      "display_name": "Python 3"
    },
    "accelerator": "GPU"
  },
  "cells": [
    {
      "cell_type": "markdown",
      "metadata": {
        "id": "view-in-github",
        "colab_type": "text"
      },
      "source": [
        "<a href=\"https://colab.research.google.com/github/scumulder/Machine-Learning-Spring-2019-UCF/blob/master/Homework%203/3_1.ipynb\" target=\"_parent\"><img src=\"https://colab.research.google.com/assets/colab-badge.svg\" alt=\"Open In Colab\"/></a>"
      ]
    },
    {
      "metadata": {
        "id": "bRHasMkGrxuz",
        "colab_type": "text"
      },
      "cell_type": "markdown",
      "source": [
        "# Problem 1\n",
        "\n",
        "Working with the **Cats vs Dogs** data set and the pretrained convnet VGG19:\n",
        "\n",
        "*  Do feature extraction with data augmentation."
      ]
    },
    {
      "metadata": {
        "id": "polSUktOs20v",
        "colab_type": "text"
      },
      "cell_type": "markdown",
      "source": [
        "**Download the Data:**"
      ]
    },
    {
      "metadata": {
        "id": "Lpt2akxmoKsx",
        "colab_type": "code",
        "colab": {
          "base_uri": "https://localhost:8080/",
          "height": 219
        },
        "outputId": "c7d68526-1738-4c6a-998a-e6e2884d1285"
      },
      "cell_type": "code",
      "source": [
        "!wget --no-check-certificate \\\n",
        "    https://storage.googleapis.com/mledu-datasets/cats_and_dogs_filtered.zip \\\n",
        "    -O /tmp/cats_and_dogs_filtered.zip"
      ],
      "execution_count": 3,
      "outputs": [
        {
          "output_type": "stream",
          "text": [
            "--2019-04-10 00:19:21--  https://storage.googleapis.com/mledu-datasets/cats_and_dogs_filtered.zip\n",
            "Resolving storage.googleapis.com (storage.googleapis.com)... 173.194.76.128, 2a00:1450:400c:c0a::80\n",
            "Connecting to storage.googleapis.com (storage.googleapis.com)|173.194.76.128|:443... connected.\n",
            "HTTP request sent, awaiting response... 200 OK\n",
            "Length: 68606236 (65M) [application/zip]\n",
            "Saving to: ‘/tmp/cats_and_dogs_filtered.zip’\n",
            "\n",
            "/tmp/cats_and_dogs_ 100%[===================>]  65.43M  72.2MB/s    in 0.9s    \n",
            "\n",
            "2019-04-10 00:19:22 (72.2 MB/s) - ‘/tmp/cats_and_dogs_filtered.zip’ saved [68606236/68606236]\n",
            "\n"
          ],
          "name": "stdout"
        }
      ]
    },
    {
      "metadata": {
        "id": "iX1auMVg2uwq",
        "colab_type": "code",
        "colab": {}
      },
      "cell_type": "code",
      "source": [
        "import os\n",
        "import zipfile\n",
        "\n",
        "local_zip = '/tmp/cats_and_dogs_filtered.zip'\n",
        "zip_ref = zipfile.ZipFile(local_zip, 'r')\n",
        "zip_ref.extractall('/tmp')\n",
        "zip_ref.close()"
      ],
      "execution_count": 0,
      "outputs": []
    },
    {
      "metadata": {
        "id": "nBPEBVbU2NeD",
        "colab_type": "code",
        "colab": {}
      },
      "cell_type": "code",
      "source": [
        "base_dir = '/tmp/cats_and_dogs_filtered'\n",
        "train_dir = os.path.join(base_dir, 'train')\n",
        "validation_dir = os.path.join(base_dir, 'validation')\n",
        "\n",
        "# Directory with our training cat pictures\n",
        "train_cats_dir = os.path.join(train_dir, 'cats')\n",
        "\n",
        "# Directory with our training dog pictures\n",
        "train_dogs_dir = os.path.join(train_dir, 'dogs')\n",
        "\n",
        "# Directory with our validation cat pictures\n",
        "validation_cats_dir = os.path.join(validation_dir, 'cats')\n",
        "\n",
        "# Directory with our validation dog pictures\n",
        "validation_dogs_dir = os.path.join(validation_dir, 'dogs')"
      ],
      "execution_count": 0,
      "outputs": []
    },
    {
      "metadata": {
        "id": "N_JenvGOgBs7",
        "colab_type": "text"
      },
      "cell_type": "markdown",
      "source": [
        "# Build network with VGG19 convolution base and custom densely connected layers:"
      ]
    },
    {
      "metadata": {
        "id": "P9chT0ti21Qj",
        "colab_type": "code",
        "colab": {
          "base_uri": "https://localhost:8080/",
          "height": 129
        },
        "outputId": "9d8d754f-0ede-4a14-c860-d2f55974bb11"
      },
      "cell_type": "code",
      "source": [
        "from keras.applications import VGG19\n",
        "\n",
        "base_model = VGG19(\n",
        "    weights='imagenet', \n",
        "    include_top=False, \n",
        "    input_shape=(150, 150, 3))"
      ],
      "execution_count": 6,
      "outputs": [
        {
          "output_type": "stream",
          "text": [
            "WARNING:tensorflow:From /usr/local/lib/python3.6/dist-packages/tensorflow/python/framework/op_def_library.py:263: colocate_with (from tensorflow.python.framework.ops) is deprecated and will be removed in a future version.\n",
            "Instructions for updating:\n",
            "Colocations handled automatically by placer.\n",
            "Downloading data from https://github.com/fchollet/deep-learning-models/releases/download/v0.1/vgg19_weights_tf_dim_ordering_tf_kernels_notop.h5\n",
            "80142336/80134624 [==============================] - 3s 0us/step\n"
          ],
          "name": "stdout"
        }
      ]
    },
    {
      "metadata": {
        "id": "bUkz0xHohBq_",
        "colab_type": "text"
      },
      "cell_type": "markdown",
      "source": [
        "**Freeze the convolutional base:**"
      ]
    },
    {
      "metadata": {
        "id": "PqAV7oW0glaH",
        "colab_type": "code",
        "colab": {}
      },
      "cell_type": "code",
      "source": [
        "base_model.trainable = False"
      ],
      "execution_count": 0,
      "outputs": []
    },
    {
      "metadata": {
        "id": "5iPTz8H0go8y",
        "colab_type": "code",
        "colab": {
          "base_uri": "https://localhost:8080/",
          "height": 293
        },
        "outputId": "c117053c-27b7-47ac-b49d-c2bc0764e92b"
      },
      "cell_type": "code",
      "source": [
        "from keras import layers\n",
        "from keras import models\n",
        "from keras import optimizers\n",
        "\n",
        "network = models.Sequential()\n",
        "network.add(base_model)\n",
        "network.add(layers.Flatten())\n",
        "network.add(layers.Dense(256, activation='relu'))\n",
        "# no dropout\n",
        "network.add(layers.Dense(1, activation='sigmoid'))\n",
        "\n",
        "network.summary()"
      ],
      "execution_count": 8,
      "outputs": [
        {
          "output_type": "stream",
          "text": [
            "_________________________________________________________________\n",
            "Layer (type)                 Output Shape              Param #   \n",
            "=================================================================\n",
            "vgg19 (Model)                (None, 4, 4, 512)         20024384  \n",
            "_________________________________________________________________\n",
            "flatten_1 (Flatten)          (None, 8192)              0         \n",
            "_________________________________________________________________\n",
            "dense_1 (Dense)              (None, 256)               2097408   \n",
            "_________________________________________________________________\n",
            "dense_2 (Dense)              (None, 1)                 257       \n",
            "=================================================================\n",
            "Total params: 22,122,049\n",
            "Trainable params: 2,097,665\n",
            "Non-trainable params: 20,024,384\n",
            "_________________________________________________________________\n"
          ],
          "name": "stdout"
        }
      ]
    },
    {
      "metadata": {
        "id": "m4y_1kFxhqt7",
        "colab_type": "code",
        "colab": {
          "base_uri": "https://localhost:8080/",
          "height": 1231
        },
        "outputId": "e259a546-1991-4223-af2b-f9e0716ab3a7"
      },
      "cell_type": "code",
      "source": [
        "from keras.preprocessing.image import ImageDataGenerator\n",
        "from keras import optimizers\n",
        "\n",
        "# data augmentation\n",
        "\n",
        "train_datagen = ImageDataGenerator(\n",
        "    rescale=1./255, \n",
        "    rotation_range=40,\n",
        "    width_shift_range=0.2,\n",
        "    height_shift_range=0.2,\n",
        "    shear_range=0.2,\n",
        "    zoom_range=0.2,\n",
        "    horizontal_flip=True,\n",
        "    fill_mode='nearest'\n",
        ")\n",
        "\n",
        "train_generator = train_datagen.flow_from_directory(\n",
        "    train_dir,\n",
        "    target_size=(150, 150),\n",
        "    batch_size=20,\n",
        "    class_mode='binary')\n",
        "\n",
        "validation_datagen = ImageDataGenerator(rescale=1./255)\n",
        "\n",
        "validation_generator = validation_datagen.flow_from_directory(\n",
        "    validation_dir,\n",
        "    target_size=(150, 150),\n",
        "    batch_size=20,\n",
        "    class_mode='binary')\n",
        "\n",
        "# compile model\n",
        "\n",
        "network.compile(\n",
        "    loss='binary_crossentropy', \n",
        "    optimizer=optimizers.RMSprop(lr=2e-5), \n",
        "    metrics=['acc'])\n",
        "\n",
        "# train\n",
        "\n",
        "history = network.fit_generator(\n",
        "    train_generator,\n",
        "    steps_per_epoch=100,\n",
        "    epochs=30,\n",
        "    validation_data=validation_generator,\n",
        "    validation_steps=50\n",
        ")"
      ],
      "execution_count": 9,
      "outputs": [
        {
          "output_type": "stream",
          "text": [
            "Found 2000 images belonging to 2 classes.\n",
            "Found 1000 images belonging to 2 classes.\n",
            "WARNING:tensorflow:From /usr/local/lib/python3.6/dist-packages/tensorflow/python/ops/math_ops.py:3066: to_int32 (from tensorflow.python.ops.math_ops) is deprecated and will be removed in a future version.\n",
            "Instructions for updating:\n",
            "Use tf.cast instead.\n",
            "Epoch 1/30\n",
            "100/100 [==============================] - 32s 324ms/step - loss: 0.6139 - acc: 0.6565 - val_loss: 0.5401 - val_acc: 0.6960\n",
            "Epoch 2/30\n",
            "100/100 [==============================] - 28s 282ms/step - loss: 0.5222 - acc: 0.7565 - val_loss: 0.4102 - val_acc: 0.8220\n",
            "Epoch 3/30\n",
            "100/100 [==============================] - 29s 285ms/step - loss: 0.4709 - acc: 0.7830 - val_loss: 0.3744 - val_acc: 0.8340\n",
            "Epoch 4/30\n",
            "100/100 [==============================] - 27s 274ms/step - loss: 0.4389 - acc: 0.8015 - val_loss: 0.3393 - val_acc: 0.8490\n",
            "Epoch 5/30\n",
            "100/100 [==============================] - 29s 286ms/step - loss: 0.4236 - acc: 0.8070 - val_loss: 0.3208 - val_acc: 0.8530\n",
            "Epoch 6/30\n",
            "100/100 [==============================] - 27s 274ms/step - loss: 0.4062 - acc: 0.8180 - val_loss: 0.3122 - val_acc: 0.8640\n",
            "Epoch 7/30\n",
            "100/100 [==============================] - 28s 278ms/step - loss: 0.3947 - acc: 0.8245 - val_loss: 0.2999 - val_acc: 0.8690\n",
            "Epoch 8/30\n",
            "100/100 [==============================] - 29s 287ms/step - loss: 0.3903 - acc: 0.8315 - val_loss: 0.3018 - val_acc: 0.8580\n",
            "Epoch 9/30\n",
            "100/100 [==============================] - 28s 279ms/step - loss: 0.3787 - acc: 0.8385 - val_loss: 0.2871 - val_acc: 0.8740\n",
            "Epoch 10/30\n",
            "100/100 [==============================] - 28s 285ms/step - loss: 0.3749 - acc: 0.8265 - val_loss: 0.3163 - val_acc: 0.8650\n",
            "Epoch 11/30\n",
            "100/100 [==============================] - 28s 278ms/step - loss: 0.3737 - acc: 0.8335 - val_loss: 0.2863 - val_acc: 0.8760\n",
            "Epoch 12/30\n",
            "100/100 [==============================] - 28s 280ms/step - loss: 0.3787 - acc: 0.8280 - val_loss: 0.3375 - val_acc: 0.8520\n",
            "Epoch 13/30\n",
            "100/100 [==============================] - 28s 282ms/step - loss: 0.3585 - acc: 0.8435 - val_loss: 0.2781 - val_acc: 0.8810\n",
            "Epoch 14/30\n",
            "100/100 [==============================] - 28s 277ms/step - loss: 0.3571 - acc: 0.8375 - val_loss: 0.2948 - val_acc: 0.8730\n",
            "Epoch 15/30\n",
            "100/100 [==============================] - 27s 274ms/step - loss: 0.3492 - acc: 0.8455 - val_loss: 0.2979 - val_acc: 0.8740\n",
            "Epoch 16/30\n",
            "100/100 [==============================] - 29s 288ms/step - loss: 0.3559 - acc: 0.8365 - val_loss: 0.2709 - val_acc: 0.8810\n",
            "Epoch 17/30\n",
            "100/100 [==============================] - 28s 275ms/step - loss: 0.3418 - acc: 0.8475 - val_loss: 0.2772 - val_acc: 0.8840\n",
            "Epoch 18/30\n",
            "100/100 [==============================] - 28s 283ms/step - loss: 0.3328 - acc: 0.8520 - val_loss: 0.2926 - val_acc: 0.8780\n",
            "Epoch 19/30\n",
            "100/100 [==============================] - 28s 282ms/step - loss: 0.3470 - acc: 0.8410 - val_loss: 0.2712 - val_acc: 0.8780\n",
            "Epoch 20/30\n",
            "100/100 [==============================] - 29s 291ms/step - loss: 0.3446 - acc: 0.8435 - val_loss: 0.2674 - val_acc: 0.8850\n",
            "Epoch 21/30\n",
            "100/100 [==============================] - 28s 284ms/step - loss: 0.3420 - acc: 0.8465 - val_loss: 0.2667 - val_acc: 0.8870\n",
            "Epoch 22/30\n",
            "100/100 [==============================] - 28s 275ms/step - loss: 0.3293 - acc: 0.8525 - val_loss: 0.2674 - val_acc: 0.8850\n",
            "Epoch 23/30\n",
            "100/100 [==============================] - 29s 288ms/step - loss: 0.3238 - acc: 0.8640 - val_loss: 0.2602 - val_acc: 0.8910\n",
            "Epoch 24/30\n",
            "100/100 [==============================] - 28s 278ms/step - loss: 0.3233 - acc: 0.8590 - val_loss: 0.3146 - val_acc: 0.8630\n",
            "Epoch 25/30\n",
            "100/100 [==============================] - 27s 275ms/step - loss: 0.3264 - acc: 0.8630 - val_loss: 0.2818 - val_acc: 0.8800\n",
            "Epoch 26/30\n",
            "100/100 [==============================] - 28s 277ms/step - loss: 0.3314 - acc: 0.8545 - val_loss: 0.2569 - val_acc: 0.8870\n",
            "Epoch 27/30\n",
            "100/100 [==============================] - 29s 291ms/step - loss: 0.3259 - acc: 0.8615 - val_loss: 0.2525 - val_acc: 0.8930\n",
            "Epoch 28/30\n",
            "100/100 [==============================] - 27s 274ms/step - loss: 0.3321 - acc: 0.8530 - val_loss: 0.2749 - val_acc: 0.8870\n",
            "Epoch 29/30\n",
            "100/100 [==============================] - 28s 282ms/step - loss: 0.3190 - acc: 0.8595 - val_loss: 0.2689 - val_acc: 0.8850\n",
            "Epoch 30/30\n",
            "100/100 [==============================] - 29s 291ms/step - loss: 0.3212 - acc: 0.8565 - val_loss: 0.2554 - val_acc: 0.8910\n"
          ],
          "name": "stdout"
        }
      ]
    },
    {
      "metadata": {
        "id": "IbKicS3ahv-u",
        "colab_type": "text"
      },
      "cell_type": "markdown",
      "source": [
        "**Display curves of loss and accuracy during training**"
      ]
    },
    {
      "metadata": {
        "id": "hvRdAkgBhvHr",
        "colab_type": "code",
        "colab": {
          "base_uri": "https://localhost:8080/",
          "height": 545
        },
        "outputId": "58ebbcec-f2ef-48e7-b044-447731e5b885"
      },
      "cell_type": "code",
      "source": [
        "%matplotlib inline\n",
        "\n",
        "import matplotlib.pyplot as plt\n",
        "\n",
        "acc = history.history['acc']\n",
        "val_acc = history.history['val_acc']\n",
        "\n",
        "loss = history.history['loss']\n",
        "val_loss = history.history['val_loss']\n",
        "\n",
        "epochs = range(1, len(acc) + 1)\n",
        "\n",
        "# training and validation accuracy\n",
        "\n",
        "plt.plot(epochs, acc, 'bo', label='training acc')\n",
        "plt.plot(epochs, val_acc, 'b', label='validation acc')\n",
        "plt.title('training and validation accuracy')\n",
        "plt.legend()\n",
        "\n",
        "plt.figure()\n",
        "\n",
        "# training and validation loss\n",
        "\n",
        "plt.plot(epochs, loss, 'bo', label='training loss')\n",
        "plt.plot(epochs, val_loss, 'b', label='validation loss')\n",
        "plt.title('training and validation loss')\n",
        "plt.legend()\n",
        "\n",
        "plt.show()"
      ],
      "execution_count": 10,
      "outputs": [
        {
          "output_type": "display_data",
          "data": {
            "image/png": "[encoded data removed]",
            "text/plain": [
              "<Figure size 432x288 with 1 Axes>"
            ]
          },
          "metadata": {
            "tags": []
          }
        },
        {
          "output_type": "display_data",
          "data": {
            "image/png": "[encoded data removed]",
            "text/plain": [
              "<Figure size 432x288 with 1 Axes>"
            ]
          },
          "metadata": {
            "tags": []
          }
        }
      ]
    },
    {
      "metadata": {
        "id": "uIKz0THarCNg",
        "colab_type": "code",
        "colab": {
          "base_uri": "https://localhost:8080/",
          "height": 54
        },
        "outputId": "2c97b9c3-d723-4601-b51c-ebb1cdab50b9"
      },
      "cell_type": "code",
      "source": [
        "val_loss, val_acc = network.evaluate_generator(validation_generator, steps=50)\n",
        "print(\"Validation loss:\", val_loss)\n",
        "print(\"Validation accuracy:\", round(val_acc*100,2), \"%\")"
      ],
      "execution_count": 14,
      "outputs": [
        {
          "output_type": "stream",
          "text": [
            "Validation loss: 0.2561946107447147\n",
            "Validation accuracy: 88.8 %\n"
          ],
          "name": "stdout"
        }
      ]
    }
  ]
}
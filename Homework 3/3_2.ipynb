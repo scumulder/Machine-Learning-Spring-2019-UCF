{
  "nbformat": 4,
  "nbformat_minor": 0,
  "metadata": {
    "colab": {
      "name": "3.2.ipynb",
      "version": "0.3.2",
      "provenance": [],
      "collapsed_sections": [],
      "include_colab_link": true
    },
    "kernelspec": {
      "name": "python3",
      "display_name": "Python 3"
    },
    "accelerator": "GPU"
  },
  "cells": [
    {
      "cell_type": "markdown",
      "metadata": {
        "id": "view-in-github",
        "colab_type": "text"
      },
      "source": [
        "<a href=\"https://colab.research.google.com/github/scumulder/Machine-Learning-Spring-2019-UCF/blob/master/Homework%203/3_2.ipynb\" target=\"_parent\"><img src=\"https://colab.research.google.com/assets/colab-badge.svg\" alt=\"Open In Colab\"/></a>"
      ]
    },
    {
      "metadata": {
        "id": "NCm9O9IbsJe7",
        "colab_type": "text"
      },
      "cell_type": "markdown",
      "source": [
        "# Problem 2\n",
        "\n",
        "Working with the **Cats vs Dogs** data set and the pretrained convnet VGG19:\n",
        "\n",
        "*  Do fine-tuning with data augmentation\n"
      ]
    },
    {
      "metadata": {
        "id": "B_U2iKeGsVcY",
        "colab_type": "text"
      },
      "cell_type": "markdown",
      "source": [
        "**Download the Data:**"
      ]
    },
    {
      "metadata": {
        "id": "BipSswp0r9KK",
        "colab_type": "code",
        "outputId": "dd8e4968-2a0f-4d48-b5c0-8591b11d810c",
        "colab": {
          "base_uri": "https://localhost:8080/",
          "height": 219
        }
      },
      "cell_type": "code",
      "source": [
        "!wget --no-check-certificate \\\n",
        "    https://storage.googleapis.com/mledu-datasets/cats_and_dogs_filtered.zip \\\n",
        "    -O /tmp/cats_and_dogs_filtered.zip"
      ],
      "execution_count": 0,
      "outputs": [
        {
          "output_type": "stream",
          "text": [
            "--2019-04-16 21:39:55--  https://storage.googleapis.com/mledu-datasets/cats_and_dogs_filtered.zip\n",
            "Resolving storage.googleapis.com (storage.googleapis.com)... 74.125.141.128, 2607:f8b0:400c:c06::80\n",
            "Connecting to storage.googleapis.com (storage.googleapis.com)|74.125.141.128|:443... connected.\n",
            "HTTP request sent, awaiting response... 200 OK\n",
            "Length: 68606236 (65M) [application/zip]\n",
            "Saving to: ‘/tmp/cats_and_dogs_filtered.zip’\n",
            "\n",
            "/tmp/cats_and_dogs_ 100%[===================>]  65.43M   207MB/s    in 0.3s    \n",
            "\n",
            "2019-04-16 21:40:01 (207 MB/s) - ‘/tmp/cats_and_dogs_filtered.zip’ saved [68606236/68606236]\n",
            "\n"
          ],
          "name": "stdout"
        }
      ]
    },
    {
      "metadata": {
        "id": "EVadSx6Rsbw5",
        "colab_type": "code",
        "colab": {}
      },
      "cell_type": "code",
      "source": [
        "import os\n",
        "import zipfile\n",
        "\n",
        "local_zip = '/tmp/cats_and_dogs_filtered.zip'\n",
        "zip_ref = zipfile.ZipFile(local_zip, 'r')\n",
        "zip_ref.extractall('/tmp')\n",
        "zip_ref.close()"
      ],
      "execution_count": 0,
      "outputs": []
    },
    {
      "metadata": {
        "id": "HrapKYzTsg9S",
        "colab_type": "code",
        "colab": {}
      },
      "cell_type": "code",
      "source": [
        "base_dir = '/tmp/cats_and_dogs_filtered'\n",
        "train_dir = os.path.join(base_dir, 'train')\n",
        "validation_dir = os.path.join(base_dir, 'validation')"
      ],
      "execution_count": 0,
      "outputs": []
    },
    {
      "metadata": {
        "id": "DMT4ZsCfsnLx",
        "colab_type": "text"
      },
      "cell_type": "markdown",
      "source": [
        "** Build network with VGG19 convolution base and custom densely connected layers:**"
      ]
    },
    {
      "metadata": {
        "id": "X1LyJkiNJegC",
        "colab_type": "code",
        "outputId": "8ab7045f-1656-4080-f364-26262f2761c6",
        "colab": {
          "base_uri": "https://localhost:8080/",
          "height": 1084
        }
      },
      "cell_type": "code",
      "source": [
        "from keras.applications import VGG19\n",
        "\n",
        "base_model = VGG19(\n",
        "    weights='imagenet', \n",
        "    include_top=False, \n",
        "    input_shape=(150, 150, 3))\n",
        "base_model.summary()"
      ],
      "execution_count": 0,
      "outputs": [
        {
          "output_type": "stream",
          "text": [
            "Using TensorFlow backend.\n"
          ],
          "name": "stderr"
        },
        {
          "output_type": "stream",
          "text": [
            "WARNING:tensorflow:From /usr/local/lib/python3.6/dist-packages/tensorflow/python/framework/op_def_library.py:263: colocate_with (from tensorflow.python.framework.ops) is deprecated and will be removed in a future version.\n",
            "Instructions for updating:\n",
            "Colocations handled automatically by placer.\n",
            "Downloading data from https://github.com/fchollet/deep-learning-models/releases/download/v0.1/vgg19_weights_tf_dim_ordering_tf_kernels_notop.h5\n",
            "80142336/80134624 [==============================] - 1s 0us/step\n",
            "_________________________________________________________________\n",
            "Layer (type)                 Output Shape              Param #   \n",
            "=================================================================\n",
            "input_1 (InputLayer)         (None, 150, 150, 3)       0         \n",
            "_________________________________________________________________\n",
            "block1_conv1 (Conv2D)        (None, 150, 150, 64)      1792      \n",
            "_________________________________________________________________\n",
            "block1_conv2 (Conv2D)        (None, 150, 150, 64)      36928     \n",
            "_________________________________________________________________\n",
            "block1_pool (MaxPooling2D)   (None, 75, 75, 64)        0         \n",
            "_________________________________________________________________\n",
            "block2_conv1 (Conv2D)        (None, 75, 75, 128)       73856     \n",
            "_________________________________________________________________\n",
            "block2_conv2 (Conv2D)        (None, 75, 75, 128)       147584    \n",
            "_________________________________________________________________\n",
            "block2_pool (MaxPooling2D)   (None, 37, 37, 128)       0         \n",
            "_________________________________________________________________\n",
            "block3_conv1 (Conv2D)        (None, 37, 37, 256)       295168    \n",
            "_________________________________________________________________\n",
            "block3_conv2 (Conv2D)        (None, 37, 37, 256)       590080    \n",
            "_________________________________________________________________\n",
            "block3_conv3 (Conv2D)        (None, 37, 37, 256)       590080    \n",
            "_________________________________________________________________\n",
            "block3_conv4 (Conv2D)        (None, 37, 37, 256)       590080    \n",
            "_________________________________________________________________\n",
            "block3_pool (MaxPooling2D)   (None, 18, 18, 256)       0         \n",
            "_________________________________________________________________\n",
            "block4_conv1 (Conv2D)        (None, 18, 18, 512)       1180160   \n",
            "_________________________________________________________________\n",
            "block4_conv2 (Conv2D)        (None, 18, 18, 512)       2359808   \n",
            "_________________________________________________________________\n",
            "block4_conv3 (Conv2D)        (None, 18, 18, 512)       2359808   \n",
            "_________________________________________________________________\n",
            "block4_conv4 (Conv2D)        (None, 18, 18, 512)       2359808   \n",
            "_________________________________________________________________\n",
            "block4_pool (MaxPooling2D)   (None, 9, 9, 512)         0         \n",
            "_________________________________________________________________\n",
            "block5_conv1 (Conv2D)        (None, 9, 9, 512)         2359808   \n",
            "_________________________________________________________________\n",
            "block5_conv2 (Conv2D)        (None, 9, 9, 512)         2359808   \n",
            "_________________________________________________________________\n",
            "block5_conv3 (Conv2D)        (None, 9, 9, 512)         2359808   \n",
            "_________________________________________________________________\n",
            "block5_conv4 (Conv2D)        (None, 9, 9, 512)         2359808   \n",
            "_________________________________________________________________\n",
            "block5_pool (MaxPooling2D)   (None, 4, 4, 512)         0         \n",
            "=================================================================\n",
            "Total params: 20,024,384\n",
            "Trainable params: 20,024,384\n",
            "Non-trainable params: 0\n",
            "_________________________________________________________________\n"
          ],
          "name": "stdout"
        }
      ]
    },
    {
      "metadata": {
        "id": "UVagYnfSJuLz",
        "colab_type": "text"
      },
      "cell_type": "markdown",
      "source": [
        "**Add the dense layers:**"
      ]
    },
    {
      "metadata": {
        "id": "MyoQxWeLJwH_",
        "colab_type": "code",
        "outputId": "f9f0bcd0-3f42-485a-8fc0-9a062ec730a9",
        "colab": {
          "base_uri": "https://localhost:8080/",
          "height": 293
        }
      },
      "cell_type": "code",
      "source": [
        "from keras import layers\n",
        "from keras import models\n",
        "from keras import optimizers\n",
        "\n",
        "network = models.Sequential()\n",
        "network.add(base_model)\n",
        "network.add(layers.Flatten())\n",
        "network.add(layers.Dense(256, activation='relu'))\n",
        "network.add(layers.Dense(1, activation='sigmoid'))\n",
        "\n",
        "network.summary()"
      ],
      "execution_count": 0,
      "outputs": [
        {
          "output_type": "stream",
          "text": [
            "_________________________________________________________________\n",
            "Layer (type)                 Output Shape              Param #   \n",
            "=================================================================\n",
            "vgg19 (Model)                (None, 4, 4, 512)         20024384  \n",
            "_________________________________________________________________\n",
            "flatten_1 (Flatten)          (None, 8192)              0         \n",
            "_________________________________________________________________\n",
            "dense_1 (Dense)              (None, 256)               2097408   \n",
            "_________________________________________________________________\n",
            "dense_2 (Dense)              (None, 1)                 257       \n",
            "=================================================================\n",
            "Total params: 22,122,049\n",
            "Trainable params: 22,122,049\n",
            "Non-trainable params: 0\n",
            "_________________________________________________________________\n"
          ],
          "name": "stdout"
        }
      ]
    },
    {
      "metadata": {
        "id": "FFLafb-tLE_l",
        "colab_type": "text"
      },
      "cell_type": "markdown",
      "source": [
        "**Augment the Data:**"
      ]
    },
    {
      "metadata": {
        "id": "IEkOceSXJ4MF",
        "colab_type": "code",
        "outputId": "cb0e87f2-be2c-493a-cca2-380237949d49",
        "colab": {
          "base_uri": "https://localhost:8080/",
          "height": 54
        }
      },
      "cell_type": "code",
      "source": [
        "from keras.preprocessing.image import ImageDataGenerator\n",
        "from keras import optimizers\n",
        "\n",
        "# data augmentation\n",
        "\n",
        "train_datagen = ImageDataGenerator(\n",
        "    rescale=1./255, \n",
        "    rotation_range=40,\n",
        "    width_shift_range=0.2,\n",
        "    height_shift_range=0.2,\n",
        "    shear_range=0.2,\n",
        "    zoom_range=0.2,\n",
        "    horizontal_flip=True,\n",
        "    fill_mode='nearest'\n",
        ")\n",
        "\n",
        "train_generator = train_datagen.flow_from_directory(\n",
        "    train_dir,\n",
        "    target_size=(150, 150),\n",
        "    batch_size=20,\n",
        "    class_mode='binary')\n",
        "\n",
        "validation_datagen = ImageDataGenerator(rescale=1./255)\n",
        "\n",
        "validation_generator = validation_datagen.flow_from_directory(\n",
        "    validation_dir,\n",
        "    target_size=(150, 150),\n",
        "    batch_size=20,\n",
        "    class_mode='binary')"
      ],
      "execution_count": 0,
      "outputs": [
        {
          "output_type": "stream",
          "text": [
            "Found 2000 images belonging to 2 classes.\n",
            "Found 1000 images belonging to 2 classes.\n"
          ],
          "name": "stdout"
        }
      ]
    },
    {
      "metadata": {
        "id": "HKT75IgVNay8",
        "colab_type": "text"
      },
      "cell_type": "markdown",
      "source": [
        "**Fine-tune the data:**"
      ]
    },
    {
      "metadata": {
        "id": "eK-zGt0rNgk3",
        "colab_type": "code",
        "colab": {}
      },
      "cell_type": "code",
      "source": [
        "base_model.trainable = True\n",
        "\n",
        "set_trainable = False\n",
        "for layer in base_model.layers:\n",
        "  if layer.name == 'block5_conv1':\n",
        "    set_trainable = True\n",
        "  if set_trainable:\n",
        "    layer.trainable = True\n",
        "  else:\n",
        "    layer.trainable = False"
      ],
      "execution_count": 0,
      "outputs": []
    },
    {
      "metadata": {
        "id": "QefFBdJGPTQg",
        "colab_type": "text"
      },
      "cell_type": "markdown",
      "source": [
        "**Compile and train the network:**"
      ]
    },
    {
      "metadata": {
        "id": "xRor5i7zPNS0",
        "colab_type": "code",
        "outputId": "b9b0d94d-e66f-4830-8fa1-499cf5fd7e4e",
        "colab": {
          "base_uri": "https://localhost:8080/",
          "height": 1194
        }
      },
      "cell_type": "code",
      "source": [
        "# Compile the network\n",
        "\n",
        "network.compile(\n",
        "    loss='binary_crossentropy',\n",
        "    optimizer=optimizers.RMSprop(lr=1e-5), \n",
        "    metrics=['acc'])\n",
        "\n",
        "# Train the network\n",
        "\n",
        "history = network.fit_generator(\n",
        "    train_generator,\n",
        "    steps_per_epoch=100,\n",
        "    epochs=30,\n",
        "    validation_data=validation_generator,\n",
        "    validation_steps=50)"
      ],
      "execution_count": 0,
      "outputs": [
        {
          "output_type": "stream",
          "text": [
            "WARNING:tensorflow:From /usr/local/lib/python3.6/dist-packages/tensorflow/python/ops/math_ops.py:3066: to_int32 (from tensorflow.python.ops.math_ops) is deprecated and will be removed in a future version.\n",
            "Instructions for updating:\n",
            "Use tf.cast instead.\n",
            "Epoch 1/30\n",
            "100/100 [==============================] - 27s 265ms/step - loss: 0.5367 - acc: 0.7275 - val_loss: 0.4506 - val_acc: 0.7840\n",
            "Epoch 2/30\n",
            "100/100 [==============================] - 19s 190ms/step - loss: 0.3813 - acc: 0.8280 - val_loss: 0.2788 - val_acc: 0.8710\n",
            "Epoch 3/30\n",
            "100/100 [==============================] - 19s 187ms/step - loss: 0.3257 - acc: 0.8620 - val_loss: 0.2342 - val_acc: 0.8950\n",
            "Epoch 4/30\n",
            "100/100 [==============================] - 19s 186ms/step - loss: 0.2838 - acc: 0.8780 - val_loss: 0.2338 - val_acc: 0.8990\n",
            "Epoch 5/30\n",
            "100/100 [==============================] - 20s 198ms/step - loss: 0.2705 - acc: 0.8800 - val_loss: 0.2087 - val_acc: 0.9110\n",
            "Epoch 6/30\n",
            "100/100 [==============================] - 19s 190ms/step - loss: 0.2674 - acc: 0.8840 - val_loss: 0.2276 - val_acc: 0.9040\n",
            "Epoch 7/30\n",
            "100/100 [==============================] - 19s 188ms/step - loss: 0.2301 - acc: 0.9075 - val_loss: 0.1982 - val_acc: 0.9270\n",
            "Epoch 8/30\n",
            "100/100 [==============================] - 19s 187ms/step - loss: 0.2265 - acc: 0.9015 - val_loss: 0.1892 - val_acc: 0.9260\n",
            "Epoch 9/30\n",
            "100/100 [==============================] - 19s 192ms/step - loss: 0.1921 - acc: 0.9200 - val_loss: 0.1795 - val_acc: 0.9280\n",
            "Epoch 10/30\n",
            "100/100 [==============================] - 19s 194ms/step - loss: 0.1939 - acc: 0.9145 - val_loss: 0.1848 - val_acc: 0.9300\n",
            "Epoch 11/30\n",
            "100/100 [==============================] - 19s 189ms/step - loss: 0.1790 - acc: 0.9280 - val_loss: 0.1770 - val_acc: 0.9310\n",
            "Epoch 12/30\n",
            "100/100 [==============================] - 19s 187ms/step - loss: 0.1816 - acc: 0.9270 - val_loss: 0.2007 - val_acc: 0.9290\n",
            "Epoch 13/30\n",
            "100/100 [==============================] - 19s 187ms/step - loss: 0.1718 - acc: 0.9315 - val_loss: 0.1822 - val_acc: 0.9300\n",
            "Epoch 14/30\n",
            "100/100 [==============================] - 20s 197ms/step - loss: 0.1634 - acc: 0.9345 - val_loss: 0.2438 - val_acc: 0.9140\n",
            "Epoch 15/30\n",
            "100/100 [==============================] - 19s 188ms/step - loss: 0.1609 - acc: 0.9370 - val_loss: 0.2248 - val_acc: 0.9240\n",
            "Epoch 16/30\n",
            "100/100 [==============================] - 19s 187ms/step - loss: 0.1398 - acc: 0.9415 - val_loss: 0.2546 - val_acc: 0.9180\n",
            "Epoch 17/30\n",
            "100/100 [==============================] - 20s 202ms/step - loss: 0.1354 - acc: 0.9455 - val_loss: 0.2023 - val_acc: 0.9370\n",
            "Epoch 18/30\n",
            "100/100 [==============================] - 20s 200ms/step - loss: 0.1234 - acc: 0.9525 - val_loss: 0.1608 - val_acc: 0.9440\n",
            "Epoch 19/30\n",
            "100/100 [==============================] - 19s 188ms/step - loss: 0.1275 - acc: 0.9525 - val_loss: 0.1618 - val_acc: 0.9420\n",
            "Epoch 20/30\n",
            "100/100 [==============================] - 19s 187ms/step - loss: 0.1295 - acc: 0.9485 - val_loss: 0.2083 - val_acc: 0.9350\n",
            "Epoch 21/30\n",
            "100/100 [==============================] - 19s 188ms/step - loss: 0.1296 - acc: 0.9490 - val_loss: 0.2226 - val_acc: 0.9340\n",
            "Epoch 22/30\n",
            "100/100 [==============================] - 20s 201ms/step - loss: 0.1260 - acc: 0.9515 - val_loss: 0.2285 - val_acc: 0.9320\n",
            "Epoch 23/30\n",
            "100/100 [==============================] - 19s 187ms/step - loss: 0.1238 - acc: 0.9480 - val_loss: 0.1581 - val_acc: 0.9370\n",
            "Epoch 24/30\n",
            "100/100 [==============================] - 19s 187ms/step - loss: 0.1070 - acc: 0.9540 - val_loss: 0.1865 - val_acc: 0.9340\n",
            "Epoch 25/30\n",
            "100/100 [==============================] - 19s 187ms/step - loss: 0.0966 - acc: 0.9610 - val_loss: 0.2093 - val_acc: 0.9350\n",
            "Epoch 26/30\n",
            "100/100 [==============================] - 20s 196ms/step - loss: 0.1061 - acc: 0.9590 - val_loss: 0.1697 - val_acc: 0.9340\n",
            "Epoch 27/30\n",
            "100/100 [==============================] - 19s 188ms/step - loss: 0.0978 - acc: 0.9620 - val_loss: 0.1826 - val_acc: 0.9400\n",
            "Epoch 28/30\n",
            "100/100 [==============================] - 19s 188ms/step - loss: 0.0896 - acc: 0.9655 - val_loss: 0.1854 - val_acc: 0.9420\n",
            "Epoch 29/30\n",
            "100/100 [==============================] - 19s 187ms/step - loss: 0.0977 - acc: 0.9630 - val_loss: 0.1876 - val_acc: 0.9360\n",
            "Epoch 30/30\n",
            "100/100 [==============================] - 19s 189ms/step - loss: 0.0875 - acc: 0.9700 - val_loss: 0.2709 - val_acc: 0.9250\n"
          ],
          "name": "stdout"
        }
      ]
    },
    {
      "metadata": {
        "id": "EK0liI2GKBUp",
        "colab_type": "text"
      },
      "cell_type": "markdown",
      "source": [
        "**Display curves of loss and accuracy during training:**"
      ]
    },
    {
      "metadata": {
        "id": "5oZ-0BXoKHca",
        "colab_type": "code",
        "outputId": "4a0362e8-bcf4-4e71-faee-6f3afa98cf04",
        "colab": {
          "base_uri": "https://localhost:8080/",
          "height": 545
        }
      },
      "cell_type": "code",
      "source": [
        "%matplotlib inline\n",
        "\n",
        "import matplotlib.pyplot as plt\n",
        "\n",
        "acc = history.history['acc']\n",
        "val_acc = history.history['val_acc']\n",
        "\n",
        "loss = history.history['loss']\n",
        "val_loss = history.history['val_loss']\n",
        "\n",
        "epochs = range(1, len(acc) + 1)\n",
        "\n",
        "# training and validation accuracy\n",
        "\n",
        "plt.plot(epochs, acc, 'ro', label='training acc')\n",
        "plt.plot(epochs, val_acc, 'r', label='validation acc')\n",
        "plt.title('training and validation accuracy')\n",
        "plt.legend()\n",
        "\n",
        "plt.figure()\n",
        "\n",
        "# training and validation loss\n",
        "\n",
        "plt.plot(epochs, loss, 'ro', label='training loss')\n",
        "plt.plot(epochs, val_loss, 'r', label='validation loss')\n",
        "plt.title('training and validation loss')\n",
        "plt.legend()\n",
        "\n",
        "plt.show()"
      ],
      "execution_count": 0,
      "outputs": [
        {
          "output_type": "display_data",
          "data": {
            "image/png": "[encoded data removed]",
            "text/plain": [
              "<Figure size 432x288 with 1 Axes>"
            ]
          },
          "metadata": {
            "tags": []
          }
        },
        {
          "output_type": "display_data",
          "data": {
            "image/png": "[encoded data removed]",
            "text/plain": [
              "<Figure size 432x288 with 1 Axes>"
            ]
          },
          "metadata": {
            "tags": []
          }
        }
      ]
    },
    {
      "metadata": {
        "id": "4a8rgBbiWP8d",
        "colab_type": "text"
      },
      "cell_type": "markdown",
      "source": [
        "**Evalutate the network using the validation data:**"
      ]
    },
    {
      "metadata": {
        "id": "6i9mx2RiKLxf",
        "colab_type": "code",
        "outputId": "1f0b8d82-cc25-4a20-b038-d51cfa7c34be",
        "colab": {
          "base_uri": "https://localhost:8080/",
          "height": 54
        }
      },
      "cell_type": "code",
      "source": [
        "val_loss, val_acc = network.evaluate_generator(validation_generator, steps=50)\n",
        "print(\"Validation loss:\", val_loss)\n",
        "print(\"Validation accuracy:\", round(val_acc*100,2), \"%\")"
      ],
      "execution_count": 0,
      "outputs": [
        {
          "output_type": "stream",
          "text": [
            "Validation loss: 0.29563449809793385\n",
            "Validation accuracy: 92.4 %\n"
          ],
          "name": "stdout"
        }
      ]
    }
  ]
}
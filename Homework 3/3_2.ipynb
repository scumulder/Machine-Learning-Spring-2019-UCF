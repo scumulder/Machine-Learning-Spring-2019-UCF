{
  "nbformat": 4,
  "nbformat_minor": 0,
  "metadata": {
    "colab": {
      "name": "3.2.ipynb",
      "version": "0.3.2",
      "provenance": [],
      "collapsed_sections": [],
      "include_colab_link": true
    },
    "kernelspec": {
      "name": "python3",
      "display_name": "Python 3"
    },
    "accelerator": "GPU"
  },
  "cells": [
    {
      "cell_type": "markdown",
      "metadata": {
        "id": "view-in-github",
        "colab_type": "text"
      },
      "source": [
        "<a href=\"https://colab.research.google.com/github/scumulder/Machine-Learning-Spring-2019-UCF/blob/master/Homework%203/3_2.ipynb\" target=\"_parent\"><img src=\"https://colab.research.google.com/assets/colab-badge.svg\" alt=\"Open In Colab\"/></a>"
      ]
    },
    {
      "metadata": {
        "id": "NCm9O9IbsJe7",
        "colab_type": "text"
      },
      "cell_type": "markdown",
      "source": [
        "# Problem 2\n",
        "\n",
        "Working with the **Cats vs Dogs** data set and the pretrained convnet VGG19:\n",
        "\n",
        "*  Do fine-tuning with data augmentation\n"
      ]
    },
    {
      "metadata": {
        "id": "B_U2iKeGsVcY",
        "colab_type": "text"
      },
      "cell_type": "markdown",
      "source": [
        "**Download the Data:**"
      ]
    },
    {
      "metadata": {
        "id": "BipSswp0r9KK",
        "colab_type": "code",
        "colab": {
          "base_uri": "https://localhost:8080/",
          "height": 219
        },
        "outputId": "9e15fe7c-16e8-4ae4-c391-ddb32fe99b1e"
      },
      "cell_type": "code",
      "source": [
        "!wget --no-check-certificate \\\n",
        "    https://storage.googleapis.com/mledu-datasets/cats_and_dogs_filtered.zip \\\n",
        "    -O /tmp/cats_and_dogs_filtered.zip"
      ],
      "execution_count": 1,
      "outputs": [
        {
          "output_type": "stream",
          "text": [
            "--2019-04-11 02:55:20--  https://storage.googleapis.com/mledu-datasets/cats_and_dogs_filtered.zip\n",
            "Resolving storage.googleapis.com (storage.googleapis.com)... 74.125.141.128, 2607:f8b0:400c:c06::80\n",
            "Connecting to storage.googleapis.com (storage.googleapis.com)|74.125.141.128|:443... connected.\n",
            "HTTP request sent, awaiting response... 200 OK\n",
            "Length: 68606236 (65M) [application/zip]\n",
            "Saving to: ‘/tmp/cats_and_dogs_filtered.zip’\n",
            "\n",
            "/tmp/cats_and_dogs_ 100%[===================>]  65.43M  91.3MB/s    in 0.7s    \n",
            "\n",
            "2019-04-11 02:55:21 (91.3 MB/s) - ‘/tmp/cats_and_dogs_filtered.zip’ saved [68606236/68606236]\n",
            "\n"
          ],
          "name": "stdout"
        }
      ]
    },
    {
      "metadata": {
        "id": "EVadSx6Rsbw5",
        "colab_type": "code",
        "colab": {}
      },
      "cell_type": "code",
      "source": [
        "import os\n",
        "import zipfile\n",
        "\n",
        "local_zip = '/tmp/cats_and_dogs_filtered.zip'\n",
        "zip_ref = zipfile.ZipFile(local_zip, 'r')\n",
        "zip_ref.extractall('/tmp')\n",
        "zip_ref.close()"
      ],
      "execution_count": 0,
      "outputs": []
    },
    {
      "metadata": {
        "id": "HrapKYzTsg9S",
        "colab_type": "code",
        "colab": {}
      },
      "cell_type": "code",
      "source": [
        "base_dir = '/tmp/cats_and_dogs_filtered'\n",
        "train_dir = os.path.join(base_dir, 'train')\n",
        "validation_dir = os.path.join(base_dir, 'validation')"
      ],
      "execution_count": 0,
      "outputs": []
    },
    {
      "metadata": {
        "id": "DMT4ZsCfsnLx",
        "colab_type": "text"
      },
      "cell_type": "markdown",
      "source": [
        "# Build network with VGG19 convolution base and custom densely connected layers:"
      ]
    },
    {
      "metadata": {
        "id": "X1LyJkiNJegC",
        "colab_type": "code",
        "colab": {
          "base_uri": "https://localhost:8080/",
          "height": 1047
        },
        "outputId": "fe3018a8-e9d4-4eda-f93d-bb53025ed542"
      },
      "cell_type": "code",
      "source": [
        "from keras.applications import VGG19\n",
        "\n",
        "base_model = VGG19(\n",
        "    weights='imagenet', \n",
        "    include_top=False, \n",
        "    input_shape=(150, 150, 3))\n",
        "base_model.summary()"
      ],
      "execution_count": 3,
      "outputs": [
        {
          "output_type": "stream",
          "text": [
            "Using TensorFlow backend.\n"
          ],
          "name": "stderr"
        },
        {
          "output_type": "stream",
          "text": [
            "WARNING:tensorflow:From /usr/local/lib/python3.6/dist-packages/tensorflow/python/framework/op_def_library.py:263: colocate_with (from tensorflow.python.framework.ops) is deprecated and will be removed in a future version.\n",
            "Instructions for updating:\n",
            "Colocations handled automatically by placer.\n",
            "_________________________________________________________________\n",
            "Layer (type)                 Output Shape              Param #   \n",
            "=================================================================\n",
            "input_1 (InputLayer)         (None, 150, 150, 3)       0         \n",
            "_________________________________________________________________\n",
            "block1_conv1 (Conv2D)        (None, 150, 150, 64)      1792      \n",
            "_________________________________________________________________\n",
            "block1_conv2 (Conv2D)        (None, 150, 150, 64)      36928     \n",
            "_________________________________________________________________\n",
            "block1_pool (MaxPooling2D)   (None, 75, 75, 64)        0         \n",
            "_________________________________________________________________\n",
            "block2_conv1 (Conv2D)        (None, 75, 75, 128)       73856     \n",
            "_________________________________________________________________\n",
            "block2_conv2 (Conv2D)        (None, 75, 75, 128)       147584    \n",
            "_________________________________________________________________\n",
            "block2_pool (MaxPooling2D)   (None, 37, 37, 128)       0         \n",
            "_________________________________________________________________\n",
            "block3_conv1 (Conv2D)        (None, 37, 37, 256)       295168    \n",
            "_________________________________________________________________\n",
            "block3_conv2 (Conv2D)        (None, 37, 37, 256)       590080    \n",
            "_________________________________________________________________\n",
            "block3_conv3 (Conv2D)        (None, 37, 37, 256)       590080    \n",
            "_________________________________________________________________\n",
            "block3_conv4 (Conv2D)        (None, 37, 37, 256)       590080    \n",
            "_________________________________________________________________\n",
            "block3_pool (MaxPooling2D)   (None, 18, 18, 256)       0         \n",
            "_________________________________________________________________\n",
            "block4_conv1 (Conv2D)        (None, 18, 18, 512)       1180160   \n",
            "_________________________________________________________________\n",
            "block4_conv2 (Conv2D)        (None, 18, 18, 512)       2359808   \n",
            "_________________________________________________________________\n",
            "block4_conv3 (Conv2D)        (None, 18, 18, 512)       2359808   \n",
            "_________________________________________________________________\n",
            "block4_conv4 (Conv2D)        (None, 18, 18, 512)       2359808   \n",
            "_________________________________________________________________\n",
            "block4_pool (MaxPooling2D)   (None, 9, 9, 512)         0         \n",
            "_________________________________________________________________\n",
            "block5_conv1 (Conv2D)        (None, 9, 9, 512)         2359808   \n",
            "_________________________________________________________________\n",
            "block5_conv2 (Conv2D)        (None, 9, 9, 512)         2359808   \n",
            "_________________________________________________________________\n",
            "block5_conv3 (Conv2D)        (None, 9, 9, 512)         2359808   \n",
            "_________________________________________________________________\n",
            "block5_conv4 (Conv2D)        (None, 9, 9, 512)         2359808   \n",
            "_________________________________________________________________\n",
            "block5_pool (MaxPooling2D)   (None, 4, 4, 512)         0         \n",
            "=================================================================\n",
            "Total params: 20,024,384\n",
            "Trainable params: 20,024,384\n",
            "Non-trainable params: 0\n",
            "_________________________________________________________________\n"
          ],
          "name": "stdout"
        }
      ]
    },
    {
      "metadata": {
        "id": "UVagYnfSJuLz",
        "colab_type": "text"
      },
      "cell_type": "markdown",
      "source": [
        "**Add the dense layers:**"
      ]
    },
    {
      "metadata": {
        "id": "MyoQxWeLJwH_",
        "colab_type": "code",
        "colab": {
          "base_uri": "https://localhost:8080/",
          "height": 293
        },
        "outputId": "1e0999cb-a0ae-4c2b-c87e-cd283e79fa6b"
      },
      "cell_type": "code",
      "source": [
        "from keras import layers\n",
        "from keras import models\n",
        "from keras import optimizers\n",
        "\n",
        "network = models.Sequential()\n",
        "network.add(base_model)\n",
        "network.add(layers.Flatten())\n",
        "network.add(layers.Dense(256, activation='relu'))\n",
        "network.add(layers.Dense(1, activation='sigmoid'))\n",
        "\n",
        "network.summary()"
      ],
      "execution_count": 10,
      "outputs": [
        {
          "output_type": "stream",
          "text": [
            "_________________________________________________________________\n",
            "Layer (type)                 Output Shape              Param #   \n",
            "=================================================================\n",
            "vgg19 (Model)                (None, 4, 4, 512)         20024384  \n",
            "_________________________________________________________________\n",
            "flatten_2 (Flatten)          (None, 8192)              0         \n",
            "_________________________________________________________________\n",
            "dense_3 (Dense)              (None, 256)               2097408   \n",
            "_________________________________________________________________\n",
            "dense_4 (Dense)              (None, 1)                 257       \n",
            "=================================================================\n",
            "Total params: 22,122,049\n",
            "Trainable params: 11,536,897\n",
            "Non-trainable params: 10,585,152\n",
            "_________________________________________________________________\n"
          ],
          "name": "stdout"
        }
      ]
    },
    {
      "metadata": {
        "id": "FFLafb-tLE_l",
        "colab_type": "text"
      },
      "cell_type": "markdown",
      "source": [
        "**Augment the Data:**"
      ]
    },
    {
      "metadata": {
        "id": "IEkOceSXJ4MF",
        "colab_type": "code",
        "colab": {
          "base_uri": "https://localhost:8080/",
          "height": 54
        },
        "outputId": "3a4ff9f6-20cc-4ee1-b89c-40486c9d13a0"
      },
      "cell_type": "code",
      "source": [
        "from keras.preprocessing.image import ImageDataGenerator\n",
        "from keras import optimizers\n",
        "\n",
        "# data augmentation\n",
        "\n",
        "train_datagen = ImageDataGenerator(\n",
        "    rescale=1./255, \n",
        "    rotation_range=40,\n",
        "    width_shift_range=0.2,\n",
        "    height_shift_range=0.2,\n",
        "    shear_range=0.2,\n",
        "    zoom_range=0.2,\n",
        "    horizontal_flip=True,\n",
        "    fill_mode='nearest'\n",
        ")\n",
        "\n",
        "train_generator = train_datagen.flow_from_directory(\n",
        "    train_dir,\n",
        "    target_size=(150, 150),\n",
        "    batch_size=20,\n",
        "    class_mode='binary')\n",
        "\n",
        "validation_datagen = ImageDataGenerator(rescale=1./255)\n",
        "\n",
        "validation_generator = validation_datagen.flow_from_directory(\n",
        "    validation_dir,\n",
        "    target_size=(150, 150),\n",
        "    batch_size=20,\n",
        "    class_mode='binary')"
      ],
      "execution_count": 11,
      "outputs": [
        {
          "output_type": "stream",
          "text": [
            "Found 2000 images belonging to 2 classes.\n",
            "Found 1000 images belonging to 2 classes.\n"
          ],
          "name": "stdout"
        }
      ]
    },
    {
      "metadata": {
        "id": "HKT75IgVNay8",
        "colab_type": "text"
      },
      "cell_type": "markdown",
      "source": [
        "**Fine-tune the data:**"
      ]
    },
    {
      "metadata": {
        "id": "eK-zGt0rNgk3",
        "colab_type": "code",
        "colab": {}
      },
      "cell_type": "code",
      "source": [
        "base_model.trainable = True\n",
        "\n",
        "set_trainable = False\n",
        "for layer in base_model.layers:\n",
        "  if layer.name == 'block5_conv1':\n",
        "    set_trainable = True\n",
        "  if set_trainable:\n",
        "    layer.trainable = True\n",
        "  else:\n",
        "    layer.trainable = False"
      ],
      "execution_count": 0,
      "outputs": []
    },
    {
      "metadata": {
        "id": "QefFBdJGPTQg",
        "colab_type": "text"
      },
      "cell_type": "markdown",
      "source": [
        "**Compile and train the network:**"
      ]
    },
    {
      "metadata": {
        "id": "xRor5i7zPNS0",
        "colab_type": "code",
        "colab": {
          "base_uri": "https://localhost:8080/",
          "height": 1119
        },
        "outputId": "2f6a5c32-e08a-420f-a883-3af7fd0be446"
      },
      "cell_type": "code",
      "source": [
        "# Compile the network\n",
        "\n",
        "network.compile(\n",
        "    loss='binary_crossentropy',\n",
        "    optimizer=optimizers.RMSprop(lr=1e-5), \n",
        "    metrics=['acc'])\n",
        "\n",
        "# Train the network\n",
        "\n",
        "history = network.fit_generator(\n",
        "    train_generator,\n",
        "    steps_per_epoch=100,\n",
        "    epochs=30,\n",
        "    validation_data=validation_generator,\n",
        "    validation_steps=50)"
      ],
      "execution_count": 13,
      "outputs": [
        {
          "output_type": "stream",
          "text": [
            "Epoch 1/30\n",
            "100/100 [==============================] - 32s 321ms/step - loss: 0.2148 - acc: 0.9220 - val_loss: 0.2540 - val_acc: 0.9130\n",
            "Epoch 2/30\n",
            "100/100 [==============================] - 29s 292ms/step - loss: 0.1214 - acc: 0.9520 - val_loss: 0.1598 - val_acc: 0.9430\n",
            "Epoch 3/30\n",
            "100/100 [==============================] - 29s 292ms/step - loss: 0.1136 - acc: 0.9560 - val_loss: 0.1640 - val_acc: 0.9470\n",
            "Epoch 4/30\n",
            "100/100 [==============================] - 29s 293ms/step - loss: 0.0939 - acc: 0.9630 - val_loss: 0.2111 - val_acc: 0.9420\n",
            "Epoch 5/30\n",
            "100/100 [==============================] - 29s 293ms/step - loss: 0.1010 - acc: 0.9615 - val_loss: 0.1651 - val_acc: 0.9490\n",
            "Epoch 6/30\n",
            "100/100 [==============================] - 30s 295ms/step - loss: 0.0865 - acc: 0.9700 - val_loss: 0.3267 - val_acc: 0.9050\n",
            "Epoch 7/30\n",
            "100/100 [==============================] - 29s 294ms/step - loss: 0.0910 - acc: 0.9645 - val_loss: 0.1876 - val_acc: 0.9460\n",
            "Epoch 8/30\n",
            "100/100 [==============================] - 29s 294ms/step - loss: 0.0750 - acc: 0.9725 - val_loss: 0.1809 - val_acc: 0.9510\n",
            "Epoch 9/30\n",
            "100/100 [==============================] - 29s 295ms/step - loss: 0.0889 - acc: 0.9650 - val_loss: 0.1981 - val_acc: 0.9420\n",
            "Epoch 10/30\n",
            "100/100 [==============================] - 29s 294ms/step - loss: 0.0736 - acc: 0.9705 - val_loss: 0.2245 - val_acc: 0.9400\n",
            "Epoch 11/30\n",
            "100/100 [==============================] - 29s 294ms/step - loss: 0.0620 - acc: 0.9730 - val_loss: 0.2507 - val_acc: 0.9350\n",
            "Epoch 12/30\n",
            "100/100 [==============================] - 29s 295ms/step - loss: 0.0679 - acc: 0.9740 - val_loss: 0.2113 - val_acc: 0.9420\n",
            "Epoch 13/30\n",
            "100/100 [==============================] - 29s 295ms/step - loss: 0.0695 - acc: 0.9715 - val_loss: 0.2119 - val_acc: 0.9430\n",
            "Epoch 14/30\n",
            "100/100 [==============================] - 30s 295ms/step - loss: 0.0636 - acc: 0.9800 - val_loss: 0.2775 - val_acc: 0.9390\n",
            "Epoch 15/30\n",
            "100/100 [==============================] - 29s 294ms/step - loss: 0.0648 - acc: 0.9720 - val_loss: 0.2230 - val_acc: 0.9430\n",
            "Epoch 16/30\n",
            "100/100 [==============================] - 29s 294ms/step - loss: 0.0623 - acc: 0.9750 - val_loss: 0.2518 - val_acc: 0.9350\n",
            "Epoch 17/30\n",
            "100/100 [==============================] - 29s 293ms/step - loss: 0.0597 - acc: 0.9760 - val_loss: 0.2451 - val_acc: 0.9380\n",
            "Epoch 18/30\n",
            "100/100 [==============================] - 29s 294ms/step - loss: 0.0502 - acc: 0.9780 - val_loss: 0.2272 - val_acc: 0.9450\n",
            "Epoch 19/30\n",
            "100/100 [==============================] - 29s 293ms/step - loss: 0.0489 - acc: 0.9840 - val_loss: 0.2302 - val_acc: 0.9440\n",
            "Epoch 20/30\n",
            "100/100 [==============================] - 29s 294ms/step - loss: 0.0524 - acc: 0.9800 - val_loss: 0.2486 - val_acc: 0.9390\n",
            "Epoch 21/30\n",
            "100/100 [==============================] - 29s 293ms/step - loss: 0.0522 - acc: 0.9815 - val_loss: 0.2319 - val_acc: 0.9450\n",
            "Epoch 22/30\n",
            "100/100 [==============================] - 29s 294ms/step - loss: 0.0555 - acc: 0.9775 - val_loss: 0.3818 - val_acc: 0.9250\n",
            "Epoch 23/30\n",
            "100/100 [==============================] - 29s 293ms/step - loss: 0.0425 - acc: 0.9860 - val_loss: 0.2315 - val_acc: 0.9450\n",
            "Epoch 24/30\n",
            "100/100 [==============================] - 29s 292ms/step - loss: 0.0531 - acc: 0.9805 - val_loss: 0.2953 - val_acc: 0.9360\n",
            "Epoch 25/30\n",
            "100/100 [==============================] - 29s 293ms/step - loss: 0.0465 - acc: 0.9850 - val_loss: 0.4068 - val_acc: 0.9160\n",
            "Epoch 26/30\n",
            "100/100 [==============================] - 29s 293ms/step - loss: 0.0458 - acc: 0.9795 - val_loss: 0.2372 - val_acc: 0.9480\n",
            "Epoch 27/30\n",
            "100/100 [==============================] - 29s 292ms/step - loss: 0.0429 - acc: 0.9870 - val_loss: 0.3959 - val_acc: 0.9170\n",
            "Epoch 28/30\n",
            "100/100 [==============================] - 29s 293ms/step - loss: 0.0498 - acc: 0.9805 - val_loss: 0.3356 - val_acc: 0.9290\n",
            "Epoch 29/30\n",
            "100/100 [==============================] - 29s 293ms/step - loss: 0.0441 - acc: 0.9830 - val_loss: 0.3425 - val_acc: 0.9360\n",
            "Epoch 30/30\n",
            "100/100 [==============================] - 29s 294ms/step - loss: 0.0407 - acc: 0.9850 - val_loss: 0.2434 - val_acc: 0.9510\n"
          ],
          "name": "stdout"
        }
      ]
    },
    {
      "metadata": {
        "id": "EK0liI2GKBUp",
        "colab_type": "text"
      },
      "cell_type": "markdown",
      "source": [
        "**Display curves of loss and accuracy during training:**"
      ]
    },
    {
      "metadata": {
        "id": "5oZ-0BXoKHca",
        "colab_type": "code",
        "colab": {
          "base_uri": "https://localhost:8080/",
          "height": 545
        },
        "outputId": "9d24e858-48e4-4f67-9652-15f16bab2b3b"
      },
      "cell_type": "code",
      "source": [
        "%matplotlib inline\n",
        "\n",
        "import matplotlib.pyplot as plt\n",
        "\n",
        "acc = history.history['acc']\n",
        "val_acc = history.history['val_acc']\n",
        "\n",
        "loss = history.history['loss']\n",
        "val_loss = history.history['val_loss']\n",
        "\n",
        "epochs = range(1, len(acc) + 1)\n",
        "\n",
        "# training and validation accuracy\n",
        "\n",
        "plt.plot(epochs, acc, 'ro', label='training acc')\n",
        "plt.plot(epochs, val_acc, 'r', label='validation acc')\n",
        "plt.title('training and validation accuracy')\n",
        "plt.legend()\n",
        "\n",
        "plt.figure()\n",
        "\n",
        "# training and validation loss\n",
        "\n",
        "plt.plot(epochs, loss, 'ro', label='training loss')\n",
        "plt.plot(epochs, val_loss, 'r', label='validation loss')\n",
        "plt.title('training and validation loss')\n",
        "plt.legend()\n",
        "\n",
        "plt.show()"
      ],
      "execution_count": 14,
      "outputs": [
        {
          "output_type": "display_data",
          "data": {
            "image/png": "[encoded data removed]",
            "text/plain": [
              "<Figure size 432x288 with 1 Axes>"
            ]
          },
          "metadata": {
            "tags": []
          }
        },
        {
          "output_type": "display_data",
          "data": {
            "image/png": "[encoded data removed]",
            "text/plain": [
              "<Figure size 432x288 with 1 Axes>"
            ]
          },
          "metadata": {
            "tags": []
          }
        }
      ]
    },
    {
      "metadata": {
        "id": "4a8rgBbiWP8d",
        "colab_type": "text"
      },
      "cell_type": "markdown",
      "source": [
        "**Evalutate the network using the validation data:**"
      ]
    },
    {
      "metadata": {
        "id": "6i9mx2RiKLxf",
        "colab_type": "code",
        "colab": {
          "base_uri": "https://localhost:8080/",
          "height": 54
        },
        "outputId": "2b615a7b-a225-4d2f-8c0c-ad5f02a90661"
      },
      "cell_type": "code",
      "source": [
        "val_loss, val_acc = network.evaluate_generator(validation_generator, steps=50)\n",
        "print(\"Validation loss:\", val_loss)\n",
        "print(\"Validation accuracy:\", round(val_acc*100,2), \"%\")"
      ],
      "execution_count": 15,
      "outputs": [
        {
          "output_type": "stream",
          "text": [
            "Validation loss: 0.25547882983169984\n",
            "Validation accuracy: 95.2 %\n"
          ],
          "name": "stdout"
        }
      ]
    }
  ]
}
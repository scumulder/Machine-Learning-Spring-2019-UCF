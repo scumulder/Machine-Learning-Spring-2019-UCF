{
  "nbformat": 4,
  "nbformat_minor": 0,
  "metadata": {
    "colab": {
      "name": "3.2.ipynb",
      "version": "0.3.2",
      "provenance": [],
      "collapsed_sections": [],
      "include_colab_link": true
    },
    "kernelspec": {
      "name": "python3",
      "display_name": "Python 3"
    },
    "accelerator": "GPU"
  },
  "cells": [
    {
      "cell_type": "markdown",
      "metadata": {
        "id": "view-in-github",
        "colab_type": "text"
      },
      "source": [
        "<a href=\"https://colab.research.google.com/github/scumulder/Machine-Learning-Spring-2019-UCF/blob/master/Homework%203/3_2.ipynb\" target=\"_parent\"><img src=\"https://colab.research.google.com/assets/colab-badge.svg\" alt=\"Open In Colab\"/></a>"
      ]
    },
    {
      "metadata": {
        "id": "NCm9O9IbsJe7",
        "colab_type": "text"
      },
      "cell_type": "markdown",
      "source": [
        "# Problem 2\n",
        "\n",
        "Working with the **Cats vs Dogs** data set and the pretrained convnet VGG19:\n",
        "\n",
        "*  Do fine-tuning with data augmentation\n"
      ]
    },
    {
      "metadata": {
        "id": "B_U2iKeGsVcY",
        "colab_type": "text"
      },
      "cell_type": "markdown",
      "source": [
        "**Download the Data:**"
      ]
    },
    {
      "metadata": {
        "id": "BipSswp0r9KK",
        "colab_type": "code",
        "outputId": "0374b462-e8d4-4716-9a71-a955ece6c8dc",
        "colab": {
          "base_uri": "https://localhost:8080/",
          "height": 219
        }
      },
      "cell_type": "code",
      "source": [
        "!wget --no-check-certificate \\\n",
        "    https://storage.googleapis.com/mledu-datasets/cats_and_dogs_filtered.zip \\\n",
        "    -O /tmp/cats_and_dogs_filtered.zip"
      ],
      "execution_count": 1,
      "outputs": [
        {
          "output_type": "stream",
          "text": [
            "--2019-04-18 22:57:29--  https://storage.googleapis.com/mledu-datasets/cats_and_dogs_filtered.zip\n",
            "Resolving storage.googleapis.com (storage.googleapis.com)... 108.177.112.128, 2607:f8b0:4001:c17::80\n",
            "Connecting to storage.googleapis.com (storage.googleapis.com)|108.177.112.128|:443... connected.\n",
            "HTTP request sent, awaiting response... 200 OK\n",
            "Length: 68606236 (65M) [application/zip]\n",
            "Saving to: ‘/tmp/cats_and_dogs_filtered.zip’\n",
            "\n",
            "/tmp/cats_and_dogs_ 100%[===================>]  65.43M   203MB/s    in 0.3s    \n",
            "\n",
            "2019-04-18 22:57:30 (203 MB/s) - ‘/tmp/cats_and_dogs_filtered.zip’ saved [68606236/68606236]\n",
            "\n"
          ],
          "name": "stdout"
        }
      ]
    },
    {
      "metadata": {
        "id": "EVadSx6Rsbw5",
        "colab_type": "code",
        "colab": {}
      },
      "cell_type": "code",
      "source": [
        "import os\n",
        "import zipfile\n",
        "\n",
        "local_zip = '/tmp/cats_and_dogs_filtered.zip'\n",
        "zip_ref = zipfile.ZipFile(local_zip, 'r')\n",
        "zip_ref.extractall('/tmp')\n",
        "zip_ref.close()"
      ],
      "execution_count": 0,
      "outputs": []
    },
    {
      "metadata": {
        "id": "HrapKYzTsg9S",
        "colab_type": "code",
        "colab": {}
      },
      "cell_type": "code",
      "source": [
        "base_dir = '/tmp/cats_and_dogs_filtered'\n",
        "train_dir = os.path.join(base_dir, 'train')\n",
        "validation_dir = os.path.join(base_dir, 'validation')"
      ],
      "execution_count": 0,
      "outputs": []
    },
    {
      "metadata": {
        "id": "DMT4ZsCfsnLx",
        "colab_type": "text"
      },
      "cell_type": "markdown",
      "source": [
        "** Build network with VGG19 convolution base and custom densely connected layers:**"
      ]
    },
    {
      "metadata": {
        "id": "X1LyJkiNJegC",
        "colab_type": "code",
        "outputId": "72dcfc63-8d9d-41a0-f770-c689e0262ea6",
        "colab": {
          "base_uri": "https://localhost:8080/",
          "height": 110
        }
      },
      "cell_type": "code",
      "source": [
        "from keras.applications import VGG19\n",
        "\n",
        "base_model = VGG19(\n",
        "    weights='imagenet', \n",
        "    include_top=False, \n",
        "    input_shape=(150, 150, 3))\n",
        "#base_model.summary()"
      ],
      "execution_count": 4,
      "outputs": [
        {
          "output_type": "stream",
          "text": [
            "Using TensorFlow backend.\n"
          ],
          "name": "stderr"
        },
        {
          "output_type": "stream",
          "text": [
            "WARNING:tensorflow:From /usr/local/lib/python3.6/dist-packages/tensorflow/python/framework/op_def_library.py:263: colocate_with (from tensorflow.python.framework.ops) is deprecated and will be removed in a future version.\n",
            "Instructions for updating:\n",
            "Colocations handled automatically by placer.\n"
          ],
          "name": "stdout"
        }
      ]
    },
    {
      "metadata": {
        "id": "UVagYnfSJuLz",
        "colab_type": "text"
      },
      "cell_type": "markdown",
      "source": [
        "**Add the dense layers:**"
      ]
    },
    {
      "metadata": {
        "id": "MyoQxWeLJwH_",
        "colab_type": "code",
        "outputId": "9b77ca19-5dc8-4f4b-b0ed-5c8a555e987c",
        "colab": {
          "base_uri": "https://localhost:8080/",
          "height": 293
        }
      },
      "cell_type": "code",
      "source": [
        "from keras import layers\n",
        "from keras import models\n",
        "from keras import optimizers\n",
        "\n",
        "network = models.Sequential()\n",
        "network.add(base_model)\n",
        "network.add(layers.Flatten())\n",
        "network.add(layers.Dense(256, activation='relu'))\n",
        "network.add(layers.Dense(1, activation='sigmoid'))\n",
        "\n",
        "network.summary()"
      ],
      "execution_count": 5,
      "outputs": [
        {
          "output_type": "stream",
          "text": [
            "_________________________________________________________________\n",
            "Layer (type)                 Output Shape              Param #   \n",
            "=================================================================\n",
            "vgg19 (Model)                (None, 4, 4, 512)         20024384  \n",
            "_________________________________________________________________\n",
            "flatten_1 (Flatten)          (None, 8192)              0         \n",
            "_________________________________________________________________\n",
            "dense_1 (Dense)              (None, 256)               2097408   \n",
            "_________________________________________________________________\n",
            "dense_2 (Dense)              (None, 1)                 257       \n",
            "=================================================================\n",
            "Total params: 22,122,049\n",
            "Trainable params: 22,122,049\n",
            "Non-trainable params: 0\n",
            "_________________________________________________________________\n"
          ],
          "name": "stdout"
        }
      ]
    },
    {
      "metadata": {
        "id": "FFLafb-tLE_l",
        "colab_type": "text"
      },
      "cell_type": "markdown",
      "source": [
        "**Augment the Data:**"
      ]
    },
    {
      "metadata": {
        "id": "IEkOceSXJ4MF",
        "colab_type": "code",
        "outputId": "062b1231-1549-4aed-9de8-339f2d9c941b",
        "colab": {
          "base_uri": "https://localhost:8080/",
          "height": 54
        }
      },
      "cell_type": "code",
      "source": [
        "from keras.preprocessing.image import ImageDataGenerator\n",
        "from keras import optimizers\n",
        "\n",
        "# data augmentation\n",
        "\n",
        "train_datagen = ImageDataGenerator(\n",
        "    rescale=1./255, \n",
        "    rotation_range=40,\n",
        "    width_shift_range=0.2,\n",
        "    height_shift_range=0.2,\n",
        "    shear_range=0.2,\n",
        "    zoom_range=0.2,\n",
        "    horizontal_flip=True,\n",
        "    fill_mode='nearest'\n",
        ")\n",
        "\n",
        "train_generator = train_datagen.flow_from_directory(\n",
        "    train_dir,\n",
        "    target_size=(150, 150),\n",
        "    batch_size=20,\n",
        "    class_mode='binary')\n",
        "\n",
        "validation_datagen = ImageDataGenerator(rescale=1./255)\n",
        "\n",
        "validation_generator = validation_datagen.flow_from_directory(\n",
        "    validation_dir,\n",
        "    target_size=(150, 150),\n",
        "    batch_size=20,\n",
        "    class_mode='binary')"
      ],
      "execution_count": 6,
      "outputs": [
        {
          "output_type": "stream",
          "text": [
            "Found 2000 images belonging to 2 classes.\n",
            "Found 1000 images belonging to 2 classes.\n"
          ],
          "name": "stdout"
        }
      ]
    },
    {
      "metadata": {
        "id": "HKT75IgVNay8",
        "colab_type": "text"
      },
      "cell_type": "markdown",
      "source": [
        "**Fine-tune the data:**"
      ]
    },
    {
      "metadata": {
        "id": "eK-zGt0rNgk3",
        "colab_type": "code",
        "colab": {}
      },
      "cell_type": "code",
      "source": [
        "base_model.trainable = True\n",
        "\n",
        "set_trainable = False\n",
        "for layer in base_model.layers:\n",
        "  if layer.name == 'block5_conv1':\n",
        "    set_trainable = True\n",
        "  if set_trainable:\n",
        "    layer.trainable = True\n",
        "  else:\n",
        "    layer.trainable = False"
      ],
      "execution_count": 0,
      "outputs": []
    },
    {
      "metadata": {
        "id": "QefFBdJGPTQg",
        "colab_type": "text"
      },
      "cell_type": "markdown",
      "source": [
        "**Compile and train the network:**"
      ]
    },
    {
      "metadata": {
        "id": "xRor5i7zPNS0",
        "colab_type": "code",
        "outputId": "b18b2a63-45bc-4621-dadd-4101918c0fa5",
        "colab": {
          "base_uri": "https://localhost:8080/",
          "height": 1194
        }
      },
      "cell_type": "code",
      "source": [
        "# Compile the network\n",
        "\n",
        "network.compile(\n",
        "    loss='binary_crossentropy',\n",
        "    optimizer=optimizers.RMSprop(lr=1e-5), \n",
        "    metrics=['acc'])\n",
        "\n",
        "# Train the network\n",
        "\n",
        "history = network.fit_generator(\n",
        "    train_generator,\n",
        "    steps_per_epoch=100,\n",
        "    epochs=30,\n",
        "    validation_data=validation_generator,\n",
        "    validation_steps=50)"
      ],
      "execution_count": 8,
      "outputs": [
        {
          "output_type": "stream",
          "text": [
            "WARNING:tensorflow:From /usr/local/lib/python3.6/dist-packages/tensorflow/python/ops/math_ops.py:3066: to_int32 (from tensorflow.python.ops.math_ops) is deprecated and will be removed in a future version.\n",
            "Instructions for updating:\n",
            "Use tf.cast instead.\n",
            "Epoch 1/30\n",
            "100/100 [==============================] - 24s 237ms/step - loss: 0.5522 - acc: 0.7215 - val_loss: 0.3556 - val_acc: 0.8470\n",
            "Epoch 2/30\n",
            "100/100 [==============================] - 19s 187ms/step - loss: 0.3817 - acc: 0.8305 - val_loss: 0.2830 - val_acc: 0.8790\n",
            "Epoch 3/30\n",
            "100/100 [==============================] - 19s 187ms/step - loss: 0.3172 - acc: 0.8600 - val_loss: 0.2780 - val_acc: 0.8860\n",
            "Epoch 4/30\n",
            "100/100 [==============================] - 20s 197ms/step - loss: 0.2959 - acc: 0.8800 - val_loss: 0.2228 - val_acc: 0.9020\n",
            "Epoch 5/30\n",
            "100/100 [==============================] - 19s 188ms/step - loss: 0.2748 - acc: 0.8840 - val_loss: 0.2716 - val_acc: 0.8940\n",
            "Epoch 6/30\n",
            "100/100 [==============================] - 19s 188ms/step - loss: 0.2390 - acc: 0.9000 - val_loss: 0.2100 - val_acc: 0.9140\n",
            "Epoch 7/30\n",
            "100/100 [==============================] - 19s 189ms/step - loss: 0.2427 - acc: 0.9025 - val_loss: 0.2105 - val_acc: 0.9180\n",
            "Epoch 8/30\n",
            "100/100 [==============================] - 20s 201ms/step - loss: 0.2278 - acc: 0.9045 - val_loss: 0.1793 - val_acc: 0.9270\n",
            "Epoch 9/30\n",
            "100/100 [==============================] - 20s 199ms/step - loss: 0.2068 - acc: 0.9215 - val_loss: 0.1646 - val_acc: 0.9340\n",
            "Epoch 10/30\n",
            "100/100 [==============================] - 19s 189ms/step - loss: 0.1938 - acc: 0.9200 - val_loss: 0.1907 - val_acc: 0.9200\n",
            "Epoch 11/30\n",
            "100/100 [==============================] - 19s 188ms/step - loss: 0.1820 - acc: 0.9250 - val_loss: 0.1804 - val_acc: 0.9280\n",
            "Epoch 12/30\n",
            "100/100 [==============================] - 20s 202ms/step - loss: 0.1761 - acc: 0.9305 - val_loss: 0.1756 - val_acc: 0.9260\n",
            "Epoch 13/30\n",
            "100/100 [==============================] - 19s 189ms/step - loss: 0.1767 - acc: 0.9360 - val_loss: 0.1904 - val_acc: 0.9240\n",
            "Epoch 14/30\n",
            "100/100 [==============================] - 19s 189ms/step - loss: 0.1520 - acc: 0.9415 - val_loss: 0.1862 - val_acc: 0.9250\n",
            "Epoch 15/30\n",
            "100/100 [==============================] - 19s 189ms/step - loss: 0.1698 - acc: 0.9295 - val_loss: 0.1646 - val_acc: 0.9410\n",
            "Epoch 16/30\n",
            "100/100 [==============================] - 21s 209ms/step - loss: 0.1612 - acc: 0.9290 - val_loss: 0.1732 - val_acc: 0.9340\n",
            "Epoch 17/30\n",
            "100/100 [==============================] - 19s 190ms/step - loss: 0.1394 - acc: 0.9460 - val_loss: 0.1562 - val_acc: 0.9440\n",
            "Epoch 18/30\n",
            "100/100 [==============================] - 19s 189ms/step - loss: 0.1295 - acc: 0.9520 - val_loss: 0.2308 - val_acc: 0.9260\n",
            "Epoch 19/30\n",
            "100/100 [==============================] - 19s 190ms/step - loss: 0.1323 - acc: 0.9480 - val_loss: 0.1530 - val_acc: 0.9460\n",
            "Epoch 20/30\n",
            "100/100 [==============================] - 20s 197ms/step - loss: 0.1228 - acc: 0.9535 - val_loss: 0.1570 - val_acc: 0.9430\n",
            "Epoch 21/30\n",
            "100/100 [==============================] - 19s 191ms/step - loss: 0.1177 - acc: 0.9515 - val_loss: 0.1839 - val_acc: 0.9390\n",
            "Epoch 22/30\n",
            "100/100 [==============================] - 19s 190ms/step - loss: 0.1158 - acc: 0.9575 - val_loss: 0.1636 - val_acc: 0.9520\n",
            "Epoch 23/30\n",
            "100/100 [==============================] - 19s 190ms/step - loss: 0.1096 - acc: 0.9555 - val_loss: 0.1694 - val_acc: 0.9440\n",
            "Epoch 24/30\n",
            "100/100 [==============================] - 19s 192ms/step - loss: 0.1121 - acc: 0.9565 - val_loss: 0.1711 - val_acc: 0.9440\n",
            "Epoch 25/30\n",
            "100/100 [==============================] - 21s 206ms/step - loss: 0.1143 - acc: 0.9560 - val_loss: 0.1663 - val_acc: 0.9430\n",
            "Epoch 26/30\n",
            "100/100 [==============================] - 19s 191ms/step - loss: 0.0917 - acc: 0.9600 - val_loss: 0.2756 - val_acc: 0.9100\n",
            "Epoch 27/30\n",
            "100/100 [==============================] - 19s 190ms/step - loss: 0.0886 - acc: 0.9655 - val_loss: 0.2766 - val_acc: 0.9100\n",
            "Epoch 28/30\n",
            "100/100 [==============================] - 19s 190ms/step - loss: 0.0962 - acc: 0.9610 - val_loss: 0.1866 - val_acc: 0.9350\n",
            "Epoch 29/30\n",
            "100/100 [==============================] - 20s 199ms/step - loss: 0.0977 - acc: 0.9620 - val_loss: 0.2244 - val_acc: 0.9290\n",
            "Epoch 30/30\n",
            "100/100 [==============================] - 19s 190ms/step - loss: 0.1011 - acc: 0.9615 - val_loss: 0.1670 - val_acc: 0.9480\n"
          ],
          "name": "stdout"
        }
      ]
    },
    {
      "metadata": {
        "id": "EK0liI2GKBUp",
        "colab_type": "text"
      },
      "cell_type": "markdown",
      "source": [
        "**Display curves of loss and accuracy during training:**"
      ]
    },
    {
      "metadata": {
        "id": "5oZ-0BXoKHca",
        "colab_type": "code",
        "outputId": "caed28be-a06b-4479-e346-f06231644d68",
        "colab": {
          "base_uri": "https://localhost:8080/",
          "height": 545
        }
      },
      "cell_type": "code",
      "source": [
        "%matplotlib inline\n",
        "\n",
        "import matplotlib.pyplot as plt\n",
        "\n",
        "acc = history.history['acc']\n",
        "val_acc = history.history['val_acc']\n",
        "\n",
        "loss = history.history['loss']\n",
        "val_loss = history.history['val_loss']\n",
        "\n",
        "epochs = range(1, len(acc) + 1)\n",
        "\n",
        "# training and validation accuracy\n",
        "\n",
        "plt.plot(epochs, acc, 'ro', label='training acc')\n",
        "plt.plot(epochs, val_acc, 'r', label='validation acc')\n",
        "plt.title('training and validation accuracy')\n",
        "plt.legend()\n",
        "\n",
        "plt.figure()\n",
        "\n",
        "# training and validation loss\n",
        "\n",
        "plt.plot(epochs, loss, 'ro', label='training loss')\n",
        "plt.plot(epochs, val_loss, 'r', label='validation loss')\n",
        "plt.title('training and validation loss')\n",
        "plt.legend()\n",
        "\n",
        "plt.show()"
      ],
      "execution_count": 9,
      "outputs": [
        {
          "output_type": "display_data",
          "data": {
            "image/png": "[encoded data removed]",
            "text/plain": [
              "<Figure size 432x288 with 1 Axes>"
            ]
          },
          "metadata": {
            "tags": []
          }
        },
        {
          "output_type": "display_data",
          "data": {
            "image/png": "[encoded data removed]",
            "text/plain": [
              "<Figure size 432x288 with 1 Axes>"
            ]
          },
          "metadata": {
            "tags": []
          }
        }
      ]
    },
    {
      "metadata": {
        "id": "4a8rgBbiWP8d",
        "colab_type": "text"
      },
      "cell_type": "markdown",
      "source": [
        "**Evalutate the network using the validation data:**"
      ]
    },
    {
      "metadata": {
        "id": "6i9mx2RiKLxf",
        "colab_type": "code",
        "outputId": "a7440972-c1b3-48ac-b5f6-652b3d5e3ed2",
        "colab": {
          "base_uri": "https://localhost:8080/",
          "height": 54
        }
      },
      "cell_type": "code",
      "source": [
        "val_loss, val_acc = network.evaluate_generator(validation_generator, steps=50)\n",
        "print(\"Validation loss:\", val_loss)\n",
        "print(\"Validation accuracy:\", round(val_acc*100,2), \"%\")"
      ],
      "execution_count": 10,
      "outputs": [
        {
          "output_type": "stream",
          "text": [
            "Validation loss: 0.16926072861999272\n",
            "Validation accuracy: 94.5 %\n"
          ],
          "name": "stdout"
        }
      ]
    },
    {
      "metadata": {
        "id": "jlaEuZDf0Mc_",
        "colab_type": "text"
      },
      "cell_type": "markdown",
      "source": [
        "**Save the model:**\n",
        "\n",
        "To be used in Problem 4"
      ]
    },
    {
      "metadata": {
        "id": "CiS6Oehx0Mzu",
        "colab_type": "code",
        "colab": {}
      },
      "cell_type": "code",
      "source": [
        "model_fname = 'hw3p2.h5' \n",
        "network.save(model_fname)\n",
        "\n",
        "# from google.colab import files\n",
        "\n",
        "# with open(model_fname, 'r') as f:\n",
        "#   files.download(model_fname)"
      ],
      "execution_count": 0,
      "outputs": []
    }
  ]
}
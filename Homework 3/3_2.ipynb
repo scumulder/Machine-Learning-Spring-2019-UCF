{
  "nbformat": 4,
  "nbformat_minor": 0,
  "metadata": {
    "colab": {
      "name": "3.2.ipynb",
      "version": "0.3.2",
      "provenance": [],
      "collapsed_sections": [],
      "toc_visible": true,
      "include_colab_link": true
    },
    "kernelspec": {
      "name": "python3",
      "display_name": "Python 3"
    },
    "accelerator": "GPU"
  },
  "cells": [
    {
      "cell_type": "markdown",
      "metadata": {
        "id": "view-in-github",
        "colab_type": "text"
      },
      "source": [
        "<a href=\"https://colab.research.google.com/github/scumulder/Machine-Learning-Spring-2019-UCF/blob/master/Homework%203/3_2.ipynb\" target=\"_parent\"><img src=\"https://colab.research.google.com/assets/colab-badge.svg\" alt=\"Open In Colab\"/></a>"
      ]
    },
    {
      "metadata": {
        "id": "NCm9O9IbsJe7",
        "colab_type": "text"
      },
      "cell_type": "markdown",
      "source": [
        "# Problem 2\n",
        "\n",
        "Working with the **Cats vs Dogs** data set and the pretrained convnet VGG19:\n",
        "\n",
        "*  Do fine-tuning with data augmentation\n"
      ]
    },
    {
      "metadata": {
        "id": "B_U2iKeGsVcY",
        "colab_type": "text"
      },
      "cell_type": "markdown",
      "source": [
        "**Download the Data:**"
      ]
    },
    {
      "metadata": {
        "id": "BipSswp0r9KK",
        "colab_type": "code",
        "outputId": "aa8b70e6-c12c-4bf6-ff71-3baf25731121",
        "colab": {
          "base_uri": "https://localhost:8080/",
          "height": 219
        }
      },
      "cell_type": "code",
      "source": [
        "!wget --no-check-certificate \\\n",
        "    https://storage.googleapis.com/mledu-datasets/cats_and_dogs_filtered.zip \\\n",
        "    -O /tmp/cats_and_dogs_filtered.zip"
      ],
      "execution_count": 1,
      "outputs": [
        {
          "output_type": "stream",
          "text": [
            "--2019-04-18 19:10:45--  https://storage.googleapis.com/mledu-datasets/cats_and_dogs_filtered.zip\n",
            "Resolving storage.googleapis.com (storage.googleapis.com)... 172.217.194.128, 2404:6800:4003:c04::80\n",
            "Connecting to storage.googleapis.com (storage.googleapis.com)|172.217.194.128|:443... connected.\n",
            "HTTP request sent, awaiting response... 200 OK\n",
            "Length: 68606236 (65M) [application/zip]\n",
            "Saving to: ‘/tmp/cats_and_dogs_filtered.zip’\n",
            "\n",
            "/tmp/cats_and_dogs_ 100%[===================>]  65.43M  59.1MB/s    in 1.1s    \n",
            "\n",
            "2019-04-18 19:10:46 (59.1 MB/s) - ‘/tmp/cats_and_dogs_filtered.zip’ saved [68606236/68606236]\n",
            "\n"
          ],
          "name": "stdout"
        }
      ]
    },
    {
      "metadata": {
        "id": "EVadSx6Rsbw5",
        "colab_type": "code",
        "colab": {}
      },
      "cell_type": "code",
      "source": [
        "import os\n",
        "import zipfile\n",
        "\n",
        "local_zip = '/tmp/cats_and_dogs_filtered.zip'\n",
        "zip_ref = zipfile.ZipFile(local_zip, 'r')\n",
        "zip_ref.extractall('/tmp')\n",
        "zip_ref.close()"
      ],
      "execution_count": 0,
      "outputs": []
    },
    {
      "metadata": {
        "id": "HrapKYzTsg9S",
        "colab_type": "code",
        "colab": {}
      },
      "cell_type": "code",
      "source": [
        "base_dir = '/tmp/cats_and_dogs_filtered'\n",
        "train_dir = os.path.join(base_dir, 'train')\n",
        "validation_dir = os.path.join(base_dir, 'validation')"
      ],
      "execution_count": 0,
      "outputs": []
    },
    {
      "metadata": {
        "id": "DMT4ZsCfsnLx",
        "colab_type": "text"
      },
      "cell_type": "markdown",
      "source": [
        "** Build network with VGG19 convolution base and custom densely connected layers:**"
      ]
    },
    {
      "metadata": {
        "id": "X1LyJkiNJegC",
        "colab_type": "code",
        "outputId": "883ecbe7-f349-4e04-8d94-2b2bd7d261c1",
        "colab": {
          "base_uri": "https://localhost:8080/",
          "height": 147
        }
      },
      "cell_type": "code",
      "source": [
        "from keras.applications import VGG19\n",
        "\n",
        "base_model = VGG19(\n",
        "    weights='imagenet', \n",
        "    include_top=False, \n",
        "    input_shape=(150, 150, 3))\n",
        "#base_model.summary()"
      ],
      "execution_count": 4,
      "outputs": [
        {
          "output_type": "stream",
          "text": [
            "Using TensorFlow backend.\n"
          ],
          "name": "stderr"
        },
        {
          "output_type": "stream",
          "text": [
            "WARNING:tensorflow:From /usr/local/lib/python3.6/dist-packages/tensorflow/python/framework/op_def_library.py:263: colocate_with (from tensorflow.python.framework.ops) is deprecated and will be removed in a future version.\n",
            "Instructions for updating:\n",
            "Colocations handled automatically by placer.\n",
            "Downloading data from https://github.com/fchollet/deep-learning-models/releases/download/v0.1/vgg19_weights_tf_dim_ordering_tf_kernels_notop.h5\n",
            "80142336/80134624 [==============================] - 9s 0us/step\n"
          ],
          "name": "stdout"
        }
      ]
    },
    {
      "metadata": {
        "id": "UVagYnfSJuLz",
        "colab_type": "text"
      },
      "cell_type": "markdown",
      "source": [
        "**Add the dense layers:**"
      ]
    },
    {
      "metadata": {
        "id": "MyoQxWeLJwH_",
        "colab_type": "code",
        "outputId": "14f9904d-264c-488b-f2ee-d9ea0fce66a4",
        "colab": {
          "base_uri": "https://localhost:8080/",
          "height": 293
        }
      },
      "cell_type": "code",
      "source": [
        "from keras import layers\n",
        "from keras import models\n",
        "from keras import optimizers\n",
        "\n",
        "network = models.Sequential()\n",
        "network.add(base_model)\n",
        "network.add(layers.Flatten())\n",
        "network.add(layers.Dense(256, activation='relu'))\n",
        "network.add(layers.Dense(1, activation='sigmoid'))\n",
        "\n",
        "network.summary()"
      ],
      "execution_count": 5,
      "outputs": [
        {
          "output_type": "stream",
          "text": [
            "_________________________________________________________________\n",
            "Layer (type)                 Output Shape              Param #   \n",
            "=================================================================\n",
            "vgg19 (Model)                (None, 4, 4, 512)         20024384  \n",
            "_________________________________________________________________\n",
            "flatten_1 (Flatten)          (None, 8192)              0         \n",
            "_________________________________________________________________\n",
            "dense_1 (Dense)              (None, 256)               2097408   \n",
            "_________________________________________________________________\n",
            "dense_2 (Dense)              (None, 1)                 257       \n",
            "=================================================================\n",
            "Total params: 22,122,049\n",
            "Trainable params: 22,122,049\n",
            "Non-trainable params: 0\n",
            "_________________________________________________________________\n"
          ],
          "name": "stdout"
        }
      ]
    },
    {
      "metadata": {
        "id": "FFLafb-tLE_l",
        "colab_type": "text"
      },
      "cell_type": "markdown",
      "source": [
        "**Augment the Data:**"
      ]
    },
    {
      "metadata": {
        "id": "IEkOceSXJ4MF",
        "colab_type": "code",
        "outputId": "855c7133-e546-4fe5-c462-0d225ce1f0f2",
        "colab": {
          "base_uri": "https://localhost:8080/",
          "height": 54
        }
      },
      "cell_type": "code",
      "source": [
        "from keras.preprocessing.image import ImageDataGenerator\n",
        "from keras import optimizers\n",
        "\n",
        "# data augmentation\n",
        "\n",
        "train_datagen = ImageDataGenerator(\n",
        "    rescale=1./255, \n",
        "    rotation_range=40,\n",
        "    width_shift_range=0.2,\n",
        "    height_shift_range=0.2,\n",
        "    shear_range=0.2,\n",
        "    zoom_range=0.2,\n",
        "    horizontal_flip=True,\n",
        "    fill_mode='nearest'\n",
        ")\n",
        "\n",
        "train_generator = train_datagen.flow_from_directory(\n",
        "    train_dir,\n",
        "    target_size=(150, 150),\n",
        "    batch_size=20,\n",
        "    class_mode='binary')\n",
        "\n",
        "validation_datagen = ImageDataGenerator(rescale=1./255)\n",
        "\n",
        "validation_generator = validation_datagen.flow_from_directory(\n",
        "    validation_dir,\n",
        "    target_size=(150, 150),\n",
        "    batch_size=20,\n",
        "    class_mode='binary')"
      ],
      "execution_count": 6,
      "outputs": [
        {
          "output_type": "stream",
          "text": [
            "Found 2000 images belonging to 2 classes.\n",
            "Found 1000 images belonging to 2 classes.\n"
          ],
          "name": "stdout"
        }
      ]
    },
    {
      "metadata": {
        "id": "HKT75IgVNay8",
        "colab_type": "text"
      },
      "cell_type": "markdown",
      "source": [
        "**Fine-tune the data:**"
      ]
    },
    {
      "metadata": {
        "id": "eK-zGt0rNgk3",
        "colab_type": "code",
        "colab": {}
      },
      "cell_type": "code",
      "source": [
        "base_model.trainable = True\n",
        "\n",
        "set_trainable = False\n",
        "for layer in base_model.layers:\n",
        "  if layer.name == 'block5_conv1':\n",
        "    set_trainable = True\n",
        "  if set_trainable:\n",
        "    layer.trainable = True\n",
        "  else:\n",
        "    layer.trainable = False"
      ],
      "execution_count": 0,
      "outputs": []
    },
    {
      "metadata": {
        "id": "QefFBdJGPTQg",
        "colab_type": "text"
      },
      "cell_type": "markdown",
      "source": [
        "**Compile and train the network:**"
      ]
    },
    {
      "metadata": {
        "id": "xRor5i7zPNS0",
        "colab_type": "code",
        "outputId": "e3d26a62-3e5d-4de8-cfe8-95977f1f2e4f",
        "colab": {
          "base_uri": "https://localhost:8080/",
          "height": 827
        }
      },
      "cell_type": "code",
      "source": [
        "# Compile the network\n",
        "\n",
        "network.compile(\n",
        "    loss='binary_crossentropy',\n",
        "    optimizer=optimizers.RMSprop(lr=1e-5), \n",
        "    metrics=['acc'])\n",
        "\n",
        "# Train the network\n",
        "\n",
        "history = network.fit_generator(\n",
        "    train_generator,\n",
        "    steps_per_epoch=100,\n",
        "    epochs=20,\n",
        "    validation_data=validation_generator,\n",
        "    validation_steps=50)"
      ],
      "execution_count": 8,
      "outputs": [
        {
          "output_type": "stream",
          "text": [
            "WARNING:tensorflow:From /usr/local/lib/python3.6/dist-packages/tensorflow/python/ops/math_ops.py:3066: to_int32 (from tensorflow.python.ops.math_ops) is deprecated and will be removed in a future version.\n",
            "Instructions for updating:\n",
            "Use tf.cast instead.\n",
            "Epoch 1/20\n",
            "100/100 [==============================] - 24s 241ms/step - loss: 0.5550 - acc: 0.7025 - val_loss: 0.3842 - val_acc: 0.8200\n",
            "Epoch 2/20\n",
            "100/100 [==============================] - 19s 188ms/step - loss: 0.3922 - acc: 0.8250 - val_loss: 0.2873 - val_acc: 0.8820\n",
            "Epoch 3/20\n",
            "100/100 [==============================] - 19s 189ms/step - loss: 0.3204 - acc: 0.8745 - val_loss: 0.3077 - val_acc: 0.8830\n",
            "Epoch 4/20\n",
            "100/100 [==============================] - 20s 195ms/step - loss: 0.2811 - acc: 0.8875 - val_loss: 0.2263 - val_acc: 0.9080\n",
            "Epoch 5/20\n",
            "100/100 [==============================] - 19s 192ms/step - loss: 0.2678 - acc: 0.8860 - val_loss: 0.2115 - val_acc: 0.9090\n",
            "Epoch 6/20\n",
            "100/100 [==============================] - 19s 189ms/step - loss: 0.2450 - acc: 0.8965 - val_loss: 0.2009 - val_acc: 0.9190\n",
            "Epoch 7/20\n",
            "100/100 [==============================] - 20s 200ms/step - loss: 0.2269 - acc: 0.9075 - val_loss: 0.2019 - val_acc: 0.9160\n",
            "Epoch 8/20\n",
            "100/100 [==============================] - 19s 187ms/step - loss: 0.2170 - acc: 0.9130 - val_loss: 0.2092 - val_acc: 0.9210\n",
            "Epoch 9/20\n",
            "100/100 [==============================] - 20s 196ms/step - loss: 0.1983 - acc: 0.9190 - val_loss: 0.1819 - val_acc: 0.9240\n",
            "Epoch 10/20\n",
            "100/100 [==============================] - 19s 187ms/step - loss: 0.1851 - acc: 0.9260 - val_loss: 0.1970 - val_acc: 0.9270\n",
            "Epoch 11/20\n",
            "100/100 [==============================] - 19s 185ms/step - loss: 0.1997 - acc: 0.9225 - val_loss: 0.1973 - val_acc: 0.9290\n",
            "Epoch 12/20\n",
            "100/100 [==============================] - 19s 186ms/step - loss: 0.1807 - acc: 0.9225 - val_loss: 0.2705 - val_acc: 0.9080\n",
            "Epoch 13/20\n",
            "100/100 [==============================] - 20s 198ms/step - loss: 0.1666 - acc: 0.9325 - val_loss: 0.2104 - val_acc: 0.9260\n",
            "Epoch 14/20\n",
            "100/100 [==============================] - 19s 186ms/step - loss: 0.1702 - acc: 0.9280 - val_loss: 0.1790 - val_acc: 0.9400\n",
            "Epoch 15/20\n",
            "100/100 [==============================] - 19s 185ms/step - loss: 0.1430 - acc: 0.9445 - val_loss: 0.1767 - val_acc: 0.9310\n",
            "Epoch 16/20\n",
            "100/100 [==============================] - 18s 185ms/step - loss: 0.1420 - acc: 0.9460 - val_loss: 0.2716 - val_acc: 0.9100\n",
            "Epoch 17/20\n",
            "100/100 [==============================] - 20s 200ms/step - loss: 0.1348 - acc: 0.9485 - val_loss: 0.1706 - val_acc: 0.9420\n",
            "Epoch 18/20\n",
            "100/100 [==============================] - 19s 185ms/step - loss: 0.1296 - acc: 0.9490 - val_loss: 0.1990 - val_acc: 0.9330\n",
            "Epoch 19/20\n",
            "100/100 [==============================] - 19s 186ms/step - loss: 0.1366 - acc: 0.9455 - val_loss: 0.2831 - val_acc: 0.9090\n",
            "Epoch 20/20\n",
            "100/100 [==============================] - 19s 185ms/step - loss: 0.1275 - acc: 0.9525 - val_loss: 0.2930 - val_acc: 0.9120\n"
          ],
          "name": "stdout"
        }
      ]
    },
    {
      "metadata": {
        "id": "EK0liI2GKBUp",
        "colab_type": "text"
      },
      "cell_type": "markdown",
      "source": [
        "**Display curves of loss and accuracy during training:**"
      ]
    },
    {
      "metadata": {
        "id": "5oZ-0BXoKHca",
        "colab_type": "code",
        "outputId": "1ed006d9-b540-4f80-a194-af90822f7878",
        "colab": {
          "base_uri": "https://localhost:8080/",
          "height": 545
        }
      },
      "cell_type": "code",
      "source": [
        "%matplotlib inline\n",
        "\n",
        "import matplotlib.pyplot as plt\n",
        "\n",
        "acc = history.history['acc']\n",
        "val_acc = history.history['val_acc']\n",
        "\n",
        "loss = history.history['loss']\n",
        "val_loss = history.history['val_loss']\n",
        "\n",
        "epochs = range(1, len(acc) + 1)\n",
        "\n",
        "# training and validation accuracy\n",
        "\n",
        "plt.plot(epochs, acc, 'ro', label='training acc')\n",
        "plt.plot(epochs, val_acc, 'r', label='validation acc')\n",
        "plt.title('training and validation accuracy')\n",
        "plt.legend()\n",
        "\n",
        "plt.figure()\n",
        "\n",
        "# training and validation loss\n",
        "\n",
        "plt.plot(epochs, loss, 'ro', label='training loss')\n",
        "plt.plot(epochs, val_loss, 'r', label='validation loss')\n",
        "plt.title('training and validation loss')\n",
        "plt.legend()\n",
        "\n",
        "plt.show()"
      ],
      "execution_count": 9,
      "outputs": [
        {
          "output_type": "display_data",
          "data": {
            "image/png": "[encoded data removed]",
            "text/plain": [
              "<Figure size 432x288 with 1 Axes>"
            ]
          },
          "metadata": {
            "tags": []
          }
        },
        {
          "output_type": "display_data",
          "data": {
            "image/png": "[encoded data removed]",
            "text/plain": [
              "<Figure size 432x288 with 1 Axes>"
            ]
          },
          "metadata": {
            "tags": []
          }
        }
      ]
    },
    {
      "metadata": {
        "id": "4a8rgBbiWP8d",
        "colab_type": "text"
      },
      "cell_type": "markdown",
      "source": [
        "**Evalutate the network using the validation data:**"
      ]
    },
    {
      "metadata": {
        "id": "6i9mx2RiKLxf",
        "colab_type": "code",
        "outputId": "9579878f-dc7a-47b8-aebd-f45b4315b1b0",
        "colab": {
          "base_uri": "https://localhost:8080/",
          "height": 54
        }
      },
      "cell_type": "code",
      "source": [
        "val_loss, val_acc = network.evaluate_generator(validation_generator, steps=50)\n",
        "print(\"Validation loss:\", val_loss)\n",
        "print(\"Validation accuracy:\", round(val_acc*100,2), \"%\")"
      ],
      "execution_count": 10,
      "outputs": [
        {
          "output_type": "stream",
          "text": [
            "Validation loss: 0.2764855594560504\n",
            "Validation accuracy: 90.9 %\n"
          ],
          "name": "stdout"
        }
      ]
    },
    {
      "metadata": {
        "id": "jlaEuZDf0Mc_",
        "colab_type": "text"
      },
      "cell_type": "markdown",
      "source": [
        "**Save the model:**\n",
        "\n",
        "To be used in Problem 4"
      ]
    },
    {
      "metadata": {
        "id": "CiS6Oehx0Mzu",
        "colab_type": "code",
        "colab": {}
      },
      "cell_type": "code",
      "source": [
        "model_fname = 'hw3p2.h5' \n",
        "network.save(model_fname)\n",
        "\n",
        "# from google.colab import files\n",
        "\n",
        "# with open(model_fname, 'r') as f:\n",
        "#   files.download(model_fname)"
      ],
      "execution_count": 0,
      "outputs": []
    }
  ]
}